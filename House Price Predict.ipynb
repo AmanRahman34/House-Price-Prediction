{
  "cells": [
    {
      "cell_type": "code",
      "execution_count": null,
      "metadata": {
        "id": "KMguTtZMBcUz"
      },
      "outputs": [],
      "source": [
        "import pandas as pd\n",
        "import numpy as np\n",
        "import seaborn as sns"
      ]
    },
    {
      "cell_type": "code",
      "execution_count": null,
      "metadata": {
        "id": "F78rI3mGD_-J",
        "colab": {
          "base_uri": "https://localhost:8080/"
        },
        "outputId": "769cda2f-1879-4bdf-e4b8-bbf30ae16a37"
      },
      "outputs": [
        {
          "output_type": "stream",
          "name": "stdout",
          "text": [
            "                  area_type   availability                  location  \\\n",
            "0      Super built-up  Area         19-Dec  Electronic City Phase II   \n",
            "1                Plot  Area  Ready To Move          Chikka Tirupathi   \n",
            "2            Built-up  Area  Ready To Move               Uttarahalli   \n",
            "3      Super built-up  Area  Ready To Move        Lingadheeranahalli   \n",
            "4      Super built-up  Area  Ready To Move                  Kothanur   \n",
            "...                     ...            ...                       ...   \n",
            "13315        Built-up  Area  Ready To Move                Whitefield   \n",
            "13316  Super built-up  Area  Ready To Move             Richards Town   \n",
            "13317        Built-up  Area  Ready To Move     Raja Rajeshwari Nagar   \n",
            "13318  Super built-up  Area         18-Jun           Padmanabhanagar   \n",
            "13319  Super built-up  Area  Ready To Move              Doddathoguru   \n",
            "\n",
            "            size  society total_sqft  bath  balcony   price  \n",
            "0          2 BHK  Coomee        1056   2.0      1.0   39.07  \n",
            "1      4 Bedroom  Theanmp       2600   5.0      3.0  120.00  \n",
            "2          3 BHK      NaN       1440   2.0      3.0   62.00  \n",
            "3          3 BHK  Soiewre       1521   3.0      1.0   95.00  \n",
            "4          2 BHK      NaN       1200   2.0      1.0   51.00  \n",
            "...          ...      ...        ...   ...      ...     ...  \n",
            "13315  5 Bedroom  ArsiaEx       3453   4.0      0.0  231.00  \n",
            "13316      4 BHK      NaN       3600   5.0      NaN  400.00  \n",
            "13317      2 BHK  Mahla T       1141   2.0      1.0   60.00  \n",
            "13318      4 BHK  SollyCl       4689   4.0      1.0  488.00  \n",
            "13319      1 BHK      NaN        550   1.0      1.0   17.00  \n",
            "\n",
            "[13320 rows x 9 columns]\n"
          ]
        }
      ],
      "source": [
        "data=pd.read_csv('/content/Bengaluru_House_Data.csv')\n",
        "print(data)"
      ]
    },
    {
      "cell_type": "code",
      "execution_count": null,
      "metadata": {
        "colab": {
          "base_uri": "https://localhost:8080/",
          "height": 206
        },
        "id": "ETuXl17uELrc",
        "outputId": "485fab57-ee27-4b75-f4de-c4b737dd6b4a"
      },
      "outputs": [
        {
          "output_type": "execute_result",
          "data": {
            "text/plain": [
              "              area_type   availability                  location       size  \\\n",
              "0  Super built-up  Area         19-Dec  Electronic City Phase II      2 BHK   \n",
              "1            Plot  Area  Ready To Move          Chikka Tirupathi  4 Bedroom   \n",
              "2        Built-up  Area  Ready To Move               Uttarahalli      3 BHK   \n",
              "3  Super built-up  Area  Ready To Move        Lingadheeranahalli      3 BHK   \n",
              "4  Super built-up  Area  Ready To Move                  Kothanur      2 BHK   \n",
              "\n",
              "   society total_sqft  bath  balcony   price  \n",
              "0  Coomee        1056   2.0      1.0   39.07  \n",
              "1  Theanmp       2600   5.0      3.0  120.00  \n",
              "2      NaN       1440   2.0      3.0   62.00  \n",
              "3  Soiewre       1521   3.0      1.0   95.00  \n",
              "4      NaN       1200   2.0      1.0   51.00  "
            ],
            "text/html": [
              "\n",
              "  <div id=\"df-37d6ea7e-8631-46fd-bc55-295fd50489d0\">\n",
              "    <div class=\"colab-df-container\">\n",
              "      <div>\n",
              "<style scoped>\n",
              "    .dataframe tbody tr th:only-of-type {\n",
              "        vertical-align: middle;\n",
              "    }\n",
              "\n",
              "    .dataframe tbody tr th {\n",
              "        vertical-align: top;\n",
              "    }\n",
              "\n",
              "    .dataframe thead th {\n",
              "        text-align: right;\n",
              "    }\n",
              "</style>\n",
              "<table border=\"1\" class=\"dataframe\">\n",
              "  <thead>\n",
              "    <tr style=\"text-align: right;\">\n",
              "      <th></th>\n",
              "      <th>area_type</th>\n",
              "      <th>availability</th>\n",
              "      <th>location</th>\n",
              "      <th>size</th>\n",
              "      <th>society</th>\n",
              "      <th>total_sqft</th>\n",
              "      <th>bath</th>\n",
              "      <th>balcony</th>\n",
              "      <th>price</th>\n",
              "    </tr>\n",
              "  </thead>\n",
              "  <tbody>\n",
              "    <tr>\n",
              "      <th>0</th>\n",
              "      <td>Super built-up  Area</td>\n",
              "      <td>19-Dec</td>\n",
              "      <td>Electronic City Phase II</td>\n",
              "      <td>2 BHK</td>\n",
              "      <td>Coomee</td>\n",
              "      <td>1056</td>\n",
              "      <td>2.0</td>\n",
              "      <td>1.0</td>\n",
              "      <td>39.07</td>\n",
              "    </tr>\n",
              "    <tr>\n",
              "      <th>1</th>\n",
              "      <td>Plot  Area</td>\n",
              "      <td>Ready To Move</td>\n",
              "      <td>Chikka Tirupathi</td>\n",
              "      <td>4 Bedroom</td>\n",
              "      <td>Theanmp</td>\n",
              "      <td>2600</td>\n",
              "      <td>5.0</td>\n",
              "      <td>3.0</td>\n",
              "      <td>120.00</td>\n",
              "    </tr>\n",
              "    <tr>\n",
              "      <th>2</th>\n",
              "      <td>Built-up  Area</td>\n",
              "      <td>Ready To Move</td>\n",
              "      <td>Uttarahalli</td>\n",
              "      <td>3 BHK</td>\n",
              "      <td>NaN</td>\n",
              "      <td>1440</td>\n",
              "      <td>2.0</td>\n",
              "      <td>3.0</td>\n",
              "      <td>62.00</td>\n",
              "    </tr>\n",
              "    <tr>\n",
              "      <th>3</th>\n",
              "      <td>Super built-up  Area</td>\n",
              "      <td>Ready To Move</td>\n",
              "      <td>Lingadheeranahalli</td>\n",
              "      <td>3 BHK</td>\n",
              "      <td>Soiewre</td>\n",
              "      <td>1521</td>\n",
              "      <td>3.0</td>\n",
              "      <td>1.0</td>\n",
              "      <td>95.00</td>\n",
              "    </tr>\n",
              "    <tr>\n",
              "      <th>4</th>\n",
              "      <td>Super built-up  Area</td>\n",
              "      <td>Ready To Move</td>\n",
              "      <td>Kothanur</td>\n",
              "      <td>2 BHK</td>\n",
              "      <td>NaN</td>\n",
              "      <td>1200</td>\n",
              "      <td>2.0</td>\n",
              "      <td>1.0</td>\n",
              "      <td>51.00</td>\n",
              "    </tr>\n",
              "  </tbody>\n",
              "</table>\n",
              "</div>\n",
              "      <button class=\"colab-df-convert\" onclick=\"convertToInteractive('df-37d6ea7e-8631-46fd-bc55-295fd50489d0')\"\n",
              "              title=\"Convert this dataframe to an interactive table.\"\n",
              "              style=\"display:none;\">\n",
              "        \n",
              "  <svg xmlns=\"http://www.w3.org/2000/svg\" height=\"24px\"viewBox=\"0 0 24 24\"\n",
              "       width=\"24px\">\n",
              "    <path d=\"M0 0h24v24H0V0z\" fill=\"none\"/>\n",
              "    <path d=\"M18.56 5.44l.94 2.06.94-2.06 2.06-.94-2.06-.94-.94-2.06-.94 2.06-2.06.94zm-11 1L8.5 8.5l.94-2.06 2.06-.94-2.06-.94L8.5 2.5l-.94 2.06-2.06.94zm10 10l.94 2.06.94-2.06 2.06-.94-2.06-.94-.94-2.06-.94 2.06-2.06.94z\"/><path d=\"M17.41 7.96l-1.37-1.37c-.4-.4-.92-.59-1.43-.59-.52 0-1.04.2-1.43.59L10.3 9.45l-7.72 7.72c-.78.78-.78 2.05 0 2.83L4 21.41c.39.39.9.59 1.41.59.51 0 1.02-.2 1.41-.59l7.78-7.78 2.81-2.81c.8-.78.8-2.07 0-2.86zM5.41 20L4 18.59l7.72-7.72 1.47 1.35L5.41 20z\"/>\n",
              "  </svg>\n",
              "      </button>\n",
              "      \n",
              "  <style>\n",
              "    .colab-df-container {\n",
              "      display:flex;\n",
              "      flex-wrap:wrap;\n",
              "      gap: 12px;\n",
              "    }\n",
              "\n",
              "    .colab-df-convert {\n",
              "      background-color: #E8F0FE;\n",
              "      border: none;\n",
              "      border-radius: 50%;\n",
              "      cursor: pointer;\n",
              "      display: none;\n",
              "      fill: #1967D2;\n",
              "      height: 32px;\n",
              "      padding: 0 0 0 0;\n",
              "      width: 32px;\n",
              "    }\n",
              "\n",
              "    .colab-df-convert:hover {\n",
              "      background-color: #E2EBFA;\n",
              "      box-shadow: 0px 1px 2px rgba(60, 64, 67, 0.3), 0px 1px 3px 1px rgba(60, 64, 67, 0.15);\n",
              "      fill: #174EA6;\n",
              "    }\n",
              "\n",
              "    [theme=dark] .colab-df-convert {\n",
              "      background-color: #3B4455;\n",
              "      fill: #D2E3FC;\n",
              "    }\n",
              "\n",
              "    [theme=dark] .colab-df-convert:hover {\n",
              "      background-color: #434B5C;\n",
              "      box-shadow: 0px 1px 3px 1px rgba(0, 0, 0, 0.15);\n",
              "      filter: drop-shadow(0px 1px 2px rgba(0, 0, 0, 0.3));\n",
              "      fill: #FFFFFF;\n",
              "    }\n",
              "  </style>\n",
              "\n",
              "      <script>\n",
              "        const buttonEl =\n",
              "          document.querySelector('#df-37d6ea7e-8631-46fd-bc55-295fd50489d0 button.colab-df-convert');\n",
              "        buttonEl.style.display =\n",
              "          google.colab.kernel.accessAllowed ? 'block' : 'none';\n",
              "\n",
              "        async function convertToInteractive(key) {\n",
              "          const element = document.querySelector('#df-37d6ea7e-8631-46fd-bc55-295fd50489d0');\n",
              "          const dataTable =\n",
              "            await google.colab.kernel.invokeFunction('convertToInteractive',\n",
              "                                                     [key], {});\n",
              "          if (!dataTable) return;\n",
              "\n",
              "          const docLinkHtml = 'Like what you see? Visit the ' +\n",
              "            '<a target=\"_blank\" href=https://colab.research.google.com/notebooks/data_table.ipynb>data table notebook</a>'\n",
              "            + ' to learn more about interactive tables.';\n",
              "          element.innerHTML = '';\n",
              "          dataTable['output_type'] = 'display_data';\n",
              "          await google.colab.output.renderOutput(dataTable, element);\n",
              "          const docLink = document.createElement('div');\n",
              "          docLink.innerHTML = docLinkHtml;\n",
              "          element.appendChild(docLink);\n",
              "        }\n",
              "      </script>\n",
              "    </div>\n",
              "  </div>\n",
              "  "
            ]
          },
          "metadata": {},
          "execution_count": 3
        }
      ],
      "source": [
        "data.head()"
      ]
    },
    {
      "cell_type": "code",
      "execution_count": null,
      "metadata": {
        "colab": {
          "base_uri": "https://localhost:8080/"
        },
        "id": "VSj9j7UlERZo",
        "outputId": "98e951dc-d962-4291-b191-bbd43e3a88e1"
      },
      "outputs": [
        {
          "output_type": "execute_result",
          "data": {
            "text/plain": [
              "(13320, 9)"
            ]
          },
          "metadata": {},
          "execution_count": 4
        }
      ],
      "source": [
        "data.shape"
      ]
    },
    {
      "cell_type": "code",
      "execution_count": null,
      "metadata": {
        "id": "i2XqXtb4ICja"
      },
      "outputs": [],
      "source": [
        "import matplotlib.pyplot as plt\n"
      ]
    },
    {
      "cell_type": "code",
      "execution_count": null,
      "metadata": {
        "colab": {
          "base_uri": "https://localhost:8080/"
        },
        "id": "8_iGzgSJIpqB",
        "outputId": "0f9181c1-aa6a-47f4-be9a-68db4fec224b"
      },
      "outputs": [
        {
          "output_type": "stream",
          "name": "stdout",
          "text": [
            "<class 'pandas.core.frame.DataFrame'>\n",
            "RangeIndex: 13320 entries, 0 to 13319\n",
            "Data columns (total 9 columns):\n",
            " #   Column        Non-Null Count  Dtype  \n",
            "---  ------        --------------  -----  \n",
            " 0   area_type     13320 non-null  object \n",
            " 1   availability  13320 non-null  object \n",
            " 2   location      13319 non-null  object \n",
            " 3   size          13304 non-null  object \n",
            " 4   society       7818 non-null   object \n",
            " 5   total_sqft    13320 non-null  object \n",
            " 6   bath          13247 non-null  float64\n",
            " 7   balcony       12711 non-null  float64\n",
            " 8   price         13320 non-null  float64\n",
            "dtypes: float64(3), object(6)\n",
            "memory usage: 936.7+ KB\n"
          ]
        }
      ],
      "source": [
        "data.info()"
      ]
    },
    {
      "cell_type": "code",
      "execution_count": null,
      "metadata": {
        "id": "HZ3DVECDjxZO",
        "colab": {
          "base_uri": "https://localhost:8080/",
          "height": 696
        },
        "outputId": "4ba27d91-3b23-4edf-c87f-a05f90473167"
      },
      "outputs": [
        {
          "output_type": "display_data",
          "data": {
            "text/plain": [
              "<Figure size 900x800 with 1 Axes>"
            ],
            "image/png": "[encoded data removed]"
          },
          "metadata": {}
        }
      ],
      "source": [
        "df = pd.DataFrame(data, columns=[\"location\", \"price\"])\n",
        "df.plot(x= \"location\", y=[\"price\"],figsize=(9,8))\n",
        "plt.show()\n"
      ]
    },
    {
      "cell_type": "code",
      "source": [
        "df = pd.DataFrame(data, columns=[\"bath\", \"price\"])\n",
        "df.plot(x= \"bath\", y=[\"price\"],figsize=(9,8))\n",
        "plt.show()\n"
      ],
      "metadata": {
        "colab": {
          "base_uri": "https://localhost:8080/",
          "height": 696
        },
        "id": "-9Eh8lOsxlQq",
        "outputId": "ddbcd55e-193a-4e07-94f4-0aeb9a3f58c4"
      },
      "execution_count": null,
      "outputs": [
        {
          "output_type": "display_data",
          "data": {
            "text/plain": [
              "<Figure size 900x800 with 1 Axes>"
            ],
            "image/png": "[encoded data removed]"
          },
          "metadata": {}
        }
      ]
    },
    {
      "cell_type": "code",
      "execution_count": null,
      "metadata": {
        "colab": {
          "base_uri": "https://localhost:8080/",
          "height": 332
        },
        "id": "fgqBVE-hk3UD",
        "outputId": "0562efad-e72a-4ecb-dc02-0aea508900c4"
      },
      "outputs": [
        {
          "output_type": "display_data",
          "data": {
            "text/plain": [
              "<Figure size 2000x1200 with 1 Axes>"
            ],
            "image/png": "[encoded data removed]"
          },
          "metadata": {}
        }
      ],
      "source": [
        "plt.figure(figsize=(20,12))\n",
        "plt.subplot(2,1,1)\n",
        "plt.title('House Price Prediction')\n",
        "plt.plot(data.area_type,label='Previous Close')\n",
        "plt.show()"
      ]
    },
    {
      "cell_type": "code",
      "source": [
        "plt.figure(figsize=(20,12))\n",
        "plt.subplot(2,1,1)\n",
        "plt.title('House Price Prediction')\n",
        "plt.plot(data.bath,label='Previous Close')\n",
        "plt.show()"
      ],
      "metadata": {
        "colab": {
          "base_uri": "https://localhost:8080/",
          "height": 356
        },
        "id": "ziX0TfZpx-6p",
        "outputId": "6196e208-88b4-436b-c814-2d6b079df18c"
      },
      "execution_count": null,
      "outputs": [
        {
          "output_type": "display_data",
          "data": {
            "text/plain": [
              "<Figure size 2000x1200 with 1 Axes>"
            ],
            "image/png": "[encoded data removed]"
          },
          "metadata": {}
        }
      ]
    },
    {
      "cell_type": "code",
      "source": [
        "plt.figure(figsize=(20,12))\n",
        "plt.subplot(2,1,1)\n",
        "plt.title('House Price Prediction')\n",
        "plt.plot(data.total_sqft,label='Previous Close')\n",
        "plt.show()"
      ],
      "metadata": {
        "colab": {
          "base_uri": "https://localhost:8080/",
          "height": 334
        },
        "id": "xWrs8l4IvqIx",
        "outputId": "b1f91e0c-d2c9-497b-ed50-1211154a80d6"
      },
      "execution_count": null,
      "outputs": [
        {
          "output_type": "display_data",
          "data": {
            "text/plain": [
              "<Figure size 2000x1200 with 1 Axes>"
            ],
            "image/png": "[encoded data removed]"
          },
          "metadata": {}
        }
      ]
    },
    {
      "cell_type": "code",
      "source": [
        "data.corr()"
      ],
      "metadata": {
        "colab": {
          "base_uri": "https://localhost:8080/",
          "height": 143
        },
        "id": "a7xcakP74fGh",
        "outputId": "32c42704-b69e-497d-f9b4-c880f91e5708"
      },
      "execution_count": null,
      "outputs": [
        {
          "output_type": "execute_result",
          "data": {
            "text/plain": [
              "             bath   balcony     price\n",
              "bath     1.000000  0.204201  0.456345\n",
              "balcony  0.204201  1.000000  0.120355\n",
              "price    0.456345  0.120355  1.000000"
            ],
            "text/html": [
              "\n",
              "  <div id=\"df-2490f4a8-b13b-4735-ae0f-36b576c2e377\">\n",
              "    <div class=\"colab-df-container\">\n",
              "      <div>\n",
              "<style scoped>\n",
              "    .dataframe tbody tr th:only-of-type {\n",
              "        vertical-align: middle;\n",
              "    }\n",
              "\n",
              "    .dataframe tbody tr th {\n",
              "        vertical-align: top;\n",
              "    }\n",
              "\n",
              "    .dataframe thead th {\n",
              "        text-align: right;\n",
              "    }\n",
              "</style>\n",
              "<table border=\"1\" class=\"dataframe\">\n",
              "  <thead>\n",
              "    <tr style=\"text-align: right;\">\n",
              "      <th></th>\n",
              "      <th>bath</th>\n",
              "      <th>balcony</th>\n",
              "      <th>price</th>\n",
              "    </tr>\n",
              "  </thead>\n",
              "  <tbody>\n",
              "    <tr>\n",
              "      <th>bath</th>\n",
              "      <td>1.000000</td>\n",
              "      <td>0.204201</td>\n",
              "      <td>0.456345</td>\n",
              "    </tr>\n",
              "    <tr>\n",
              "      <th>balcony</th>\n",
              "      <td>0.204201</td>\n",
              "      <td>1.000000</td>\n",
              "      <td>0.120355</td>\n",
              "    </tr>\n",
              "    <tr>\n",
              "      <th>price</th>\n",
              "      <td>0.456345</td>\n",
              "      <td>0.120355</td>\n",
              "      <td>1.000000</td>\n",
              "    </tr>\n",
              "  </tbody>\n",
              "</table>\n",
              "</div>\n",
              "      <button class=\"colab-df-convert\" onclick=\"convertToInteractive('df-2490f4a8-b13b-4735-ae0f-36b576c2e377')\"\n",
              "              title=\"Convert this dataframe to an interactive table.\"\n",
              "              style=\"display:none;\">\n",
              "        \n",
              "  <svg xmlns=\"http://www.w3.org/2000/svg\" height=\"24px\"viewBox=\"0 0 24 24\"\n",
              "       width=\"24px\">\n",
              "    <path d=\"M0 0h24v24H0V0z\" fill=\"none\"/>\n",
              "    <path d=\"M18.56 5.44l.94 2.06.94-2.06 2.06-.94-2.06-.94-.94-2.06-.94 2.06-2.06.94zm-11 1L8.5 8.5l.94-2.06 2.06-.94-2.06-.94L8.5 2.5l-.94 2.06-2.06.94zm10 10l.94 2.06.94-2.06 2.06-.94-2.06-.94-.94-2.06-.94 2.06-2.06.94z\"/><path d=\"M17.41 7.96l-1.37-1.37c-.4-.4-.92-.59-1.43-.59-.52 0-1.04.2-1.43.59L10.3 9.45l-7.72 7.72c-.78.78-.78 2.05 0 2.83L4 21.41c.39.39.9.59 1.41.59.51 0 1.02-.2 1.41-.59l7.78-7.78 2.81-2.81c.8-.78.8-2.07 0-2.86zM5.41 20L4 18.59l7.72-7.72 1.47 1.35L5.41 20z\"/>\n",
              "  </svg>\n",
              "      </button>\n",
              "      \n",
              "  <style>\n",
              "    .colab-df-container {\n",
              "      display:flex;\n",
              "      flex-wrap:wrap;\n",
              "      gap: 12px;\n",
              "    }\n",
              "\n",
              "    .colab-df-convert {\n",
              "      background-color: #E8F0FE;\n",
              "      border: none;\n",
              "      border-radius: 50%;\n",
              "      cursor: pointer;\n",
              "      display: none;\n",
              "      fill: #1967D2;\n",
              "      height: 32px;\n",
              "      padding: 0 0 0 0;\n",
              "      width: 32px;\n",
              "    }\n",
              "\n",
              "    .colab-df-convert:hover {\n",
              "      background-color: #E2EBFA;\n",
              "      box-shadow: 0px 1px 2px rgba(60, 64, 67, 0.3), 0px 1px 3px 1px rgba(60, 64, 67, 0.15);\n",
              "      fill: #174EA6;\n",
              "    }\n",
              "\n",
              "    [theme=dark] .colab-df-convert {\n",
              "      background-color: #3B4455;\n",
              "      fill: #D2E3FC;\n",
              "    }\n",
              "\n",
              "    [theme=dark] .colab-df-convert:hover {\n",
              "      background-color: #434B5C;\n",
              "      box-shadow: 0px 1px 3px 1px rgba(0, 0, 0, 0.15);\n",
              "      filter: drop-shadow(0px 1px 2px rgba(0, 0, 0, 0.3));\n",
              "      fill: #FFFFFF;\n",
              "    }\n",
              "  </style>\n",
              "\n",
              "      <script>\n",
              "        const buttonEl =\n",
              "          document.querySelector('#df-2490f4a8-b13b-4735-ae0f-36b576c2e377 button.colab-df-convert');\n",
              "        buttonEl.style.display =\n",
              "          google.colab.kernel.accessAllowed ? 'block' : 'none';\n",
              "\n",
              "        async function convertToInteractive(key) {\n",
              "          const element = document.querySelector('#df-2490f4a8-b13b-4735-ae0f-36b576c2e377');\n",
              "          const dataTable =\n",
              "            await google.colab.kernel.invokeFunction('convertToInteractive',\n",
              "                                                     [key], {});\n",
              "          if (!dataTable) return;\n",
              "\n",
              "          const docLinkHtml = 'Like what you see? Visit the ' +\n",
              "            '<a target=\"_blank\" href=https://colab.research.google.com/notebooks/data_table.ipynb>data table notebook</a>'\n",
              "            + ' to learn more about interactive tables.';\n",
              "          element.innerHTML = '';\n",
              "          dataTable['output_type'] = 'display_data';\n",
              "          await google.colab.output.renderOutput(dataTable, element);\n",
              "          const docLink = document.createElement('div');\n",
              "          docLink.innerHTML = docLinkHtml;\n",
              "          element.appendChild(docLink);\n",
              "        }\n",
              "      </script>\n",
              "    </div>\n",
              "  </div>\n",
              "  "
            ]
          },
          "metadata": {},
          "execution_count": 12
        }
      ]
    },
    {
      "cell_type": "code",
      "source": [
        "data.cov()"
      ],
      "metadata": {
        "colab": {
          "base_uri": "https://localhost:8080/",
          "height": 143
        },
        "id": "PMMnV6ia8Ho5",
        "outputId": "af2ffe8c-6b8b-4f78-e12d-ad9c5b08fe8f"
      },
      "execution_count": null,
      "outputs": [
        {
          "output_type": "execute_result",
          "data": {
            "text/plain": [
              "              bath    balcony         price\n",
              "bath      1.799510   0.204595     91.256553\n",
              "balcony   0.204595   0.667920     12.960277\n",
              "price    91.256553  12.960277  22192.559586"
            ],
            "text/html": [
              "\n",
              "  <div id=\"df-0e5a59ce-4a6b-4b92-a804-ba04d9d84181\">\n",
              "    <div class=\"colab-df-container\">\n",
              "      <div>\n",
              "<style scoped>\n",
              "    .dataframe tbody tr th:only-of-type {\n",
              "        vertical-align: middle;\n",
              "    }\n",
              "\n",
              "    .dataframe tbody tr th {\n",
              "        vertical-align: top;\n",
              "    }\n",
              "\n",
              "    .dataframe thead th {\n",
              "        text-align: right;\n",
              "    }\n",
              "</style>\n",
              "<table border=\"1\" class=\"dataframe\">\n",
              "  <thead>\n",
              "    <tr style=\"text-align: right;\">\n",
              "      <th></th>\n",
              "      <th>bath</th>\n",
              "      <th>balcony</th>\n",
              "      <th>price</th>\n",
              "    </tr>\n",
              "  </thead>\n",
              "  <tbody>\n",
              "    <tr>\n",
              "      <th>bath</th>\n",
              "      <td>1.799510</td>\n",
              "      <td>0.204595</td>\n",
              "      <td>91.256553</td>\n",
              "    </tr>\n",
              "    <tr>\n",
              "      <th>balcony</th>\n",
              "      <td>0.204595</td>\n",
              "      <td>0.667920</td>\n",
              "      <td>12.960277</td>\n",
              "    </tr>\n",
              "    <tr>\n",
              "      <th>price</th>\n",
              "      <td>91.256553</td>\n",
              "      <td>12.960277</td>\n",
              "      <td>22192.559586</td>\n",
              "    </tr>\n",
              "  </tbody>\n",
              "</table>\n",
              "</div>\n",
              "      <button class=\"colab-df-convert\" onclick=\"convertToInteractive('df-0e5a59ce-4a6b-4b92-a804-ba04d9d84181')\"\n",
              "              title=\"Convert this dataframe to an interactive table.\"\n",
              "              style=\"display:none;\">\n",
              "        \n",
              "  <svg xmlns=\"http://www.w3.org/2000/svg\" height=\"24px\"viewBox=\"0 0 24 24\"\n",
              "       width=\"24px\">\n",
              "    <path d=\"M0 0h24v24H0V0z\" fill=\"none\"/>\n",
              "    <path d=\"M18.56 5.44l.94 2.06.94-2.06 2.06-.94-2.06-.94-.94-2.06-.94 2.06-2.06.94zm-11 1L8.5 8.5l.94-2.06 2.06-.94-2.06-.94L8.5 2.5l-.94 2.06-2.06.94zm10 10l.94 2.06.94-2.06 2.06-.94-2.06-.94-.94-2.06-.94 2.06-2.06.94z\"/><path d=\"M17.41 7.96l-1.37-1.37c-.4-.4-.92-.59-1.43-.59-.52 0-1.04.2-1.43.59L10.3 9.45l-7.72 7.72c-.78.78-.78 2.05 0 2.83L4 21.41c.39.39.9.59 1.41.59.51 0 1.02-.2 1.41-.59l7.78-7.78 2.81-2.81c.8-.78.8-2.07 0-2.86zM5.41 20L4 18.59l7.72-7.72 1.47 1.35L5.41 20z\"/>\n",
              "  </svg>\n",
              "      </button>\n",
              "      \n",
              "  <style>\n",
              "    .colab-df-container {\n",
              "      display:flex;\n",
              "      flex-wrap:wrap;\n",
              "      gap: 12px;\n",
              "    }\n",
              "\n",
              "    .colab-df-convert {\n",
              "      background-color: #E8F0FE;\n",
              "      border: none;\n",
              "      border-radius: 50%;\n",
              "      cursor: pointer;\n",
              "      display: none;\n",
              "      fill: #1967D2;\n",
              "      height: 32px;\n",
              "      padding: 0 0 0 0;\n",
              "      width: 32px;\n",
              "    }\n",
              "\n",
              "    .colab-df-convert:hover {\n",
              "      background-color: #E2EBFA;\n",
              "      box-shadow: 0px 1px 2px rgba(60, 64, 67, 0.3), 0px 1px 3px 1px rgba(60, 64, 67, 0.15);\n",
              "      fill: #174EA6;\n",
              "    }\n",
              "\n",
              "    [theme=dark] .colab-df-convert {\n",
              "      background-color: #3B4455;\n",
              "      fill: #D2E3FC;\n",
              "    }\n",
              "\n",
              "    [theme=dark] .colab-df-convert:hover {\n",
              "      background-color: #434B5C;\n",
              "      box-shadow: 0px 1px 3px 1px rgba(0, 0, 0, 0.15);\n",
              "      filter: drop-shadow(0px 1px 2px rgba(0, 0, 0, 0.3));\n",
              "      fill: #FFFFFF;\n",
              "    }\n",
              "  </style>\n",
              "\n",
              "      <script>\n",
              "        const buttonEl =\n",
              "          document.querySelector('#df-0e5a59ce-4a6b-4b92-a804-ba04d9d84181 button.colab-df-convert');\n",
              "        buttonEl.style.display =\n",
              "          google.colab.kernel.accessAllowed ? 'block' : 'none';\n",
              "\n",
              "        async function convertToInteractive(key) {\n",
              "          const element = document.querySelector('#df-0e5a59ce-4a6b-4b92-a804-ba04d9d84181');\n",
              "          const dataTable =\n",
              "            await google.colab.kernel.invokeFunction('convertToInteractive',\n",
              "                                                     [key], {});\n",
              "          if (!dataTable) return;\n",
              "\n",
              "          const docLinkHtml = 'Like what you see? Visit the ' +\n",
              "            '<a target=\"_blank\" href=https://colab.research.google.com/notebooks/data_table.ipynb>data table notebook</a>'\n",
              "            + ' to learn more about interactive tables.';\n",
              "          element.innerHTML = '';\n",
              "          dataTable['output_type'] = 'display_data';\n",
              "          await google.colab.output.renderOutput(dataTable, element);\n",
              "          const docLink = document.createElement('div');\n",
              "          docLink.innerHTML = docLinkHtml;\n",
              "          element.appendChild(docLink);\n",
              "        }\n",
              "      </script>\n",
              "    </div>\n",
              "  </div>\n",
              "  "
            ]
          },
          "metadata": {},
          "execution_count": 13
        }
      ]
    },
    {
      "cell_type": "code",
      "source": [
        "for column in data.columns:\n",
        "  print(data[column].value_counts())\n",
        "  print(\"*\"*20)"
      ],
      "metadata": {
        "colab": {
          "base_uri": "https://localhost:8080/"
        },
        "id": "1NqXQjEr_9cs",
        "outputId": "fe33b238-3978-478d-c124-54d2ae7c59b6"
      },
      "execution_count": null,
      "outputs": [
        {
          "output_type": "stream",
          "name": "stdout",
          "text": [
            "Super built-up  Area    8790\n",
            "Built-up  Area          2418\n",
            "Plot  Area              2025\n",
            "Carpet  Area              87\n",
            "Name: area_type, dtype: int64\n",
            "********************\n",
            "Ready To Move    10581\n",
            "18-Dec             307\n",
            "18-May             295\n",
            "18-Apr             271\n",
            "18-Aug             200\n",
            "                 ...  \n",
            "15-Aug               1\n",
            "17-Jan               1\n",
            "16-Nov               1\n",
            "16-Jan               1\n",
            "14-Jul               1\n",
            "Name: availability, Length: 81, dtype: int64\n",
            "********************\n",
            "Whitefield                        540\n",
            "Sarjapur  Road                    399\n",
            "Electronic City                   302\n",
            "Kanakpura Road                    273\n",
            "Thanisandra                       234\n",
            "                                 ... \n",
            "Bapuji Layout                       1\n",
            "1st Stage Radha Krishna Layout      1\n",
            "BEML Layout 5th stage               1\n",
            "singapura paradise                  1\n",
            "Abshot Layout                       1\n",
            "Name: location, Length: 1305, dtype: int64\n",
            "********************\n",
            "2 BHK         5199\n",
            "3 BHK         4310\n",
            "4 Bedroom      826\n",
            "4 BHK          591\n",
            "3 Bedroom      547\n",
            "1 BHK          538\n",
            "2 Bedroom      329\n",
            "5 Bedroom      297\n",
            "6 Bedroom      191\n",
            "1 Bedroom      105\n",
            "8 Bedroom       84\n",
            "7 Bedroom       83\n",
            "5 BHK           59\n",
            "9 Bedroom       46\n",
            "6 BHK           30\n",
            "7 BHK           17\n",
            "1 RK            13\n",
            "10 Bedroom      12\n",
            "9 BHK            8\n",
            "8 BHK            5\n",
            "11 BHK           2\n",
            "11 Bedroom       2\n",
            "10 BHK           2\n",
            "14 BHK           1\n",
            "13 BHK           1\n",
            "12 Bedroom       1\n",
            "27 BHK           1\n",
            "43 Bedroom       1\n",
            "16 BHK           1\n",
            "19 BHK           1\n",
            "18 Bedroom       1\n",
            "Name: size, dtype: int64\n",
            "********************\n",
            "GrrvaGr    80\n",
            "PrarePa    76\n",
            "Sryalan    59\n",
            "Prtates    59\n",
            "GMown E    56\n",
            "           ..\n",
            "Amionce     1\n",
            "JaghtDe     1\n",
            "Jauraht     1\n",
            "Brity U     1\n",
            "RSntsAp     1\n",
            "Name: society, Length: 2688, dtype: int64\n",
            "********************\n",
            "1200    843\n",
            "1100    221\n",
            "1500    205\n",
            "2400    196\n",
            "600     180\n",
            "       ... \n",
            "3580      1\n",
            "2461      1\n",
            "1437      1\n",
            "2155      1\n",
            "4689      1\n",
            "Name: total_sqft, Length: 2117, dtype: int64\n",
            "********************\n",
            "2.0     6908\n",
            "3.0     3286\n",
            "4.0     1226\n",
            "1.0      788\n",
            "5.0      524\n",
            "6.0      273\n",
            "7.0      102\n",
            "8.0       64\n",
            "9.0       43\n",
            "10.0      13\n",
            "12.0       7\n",
            "13.0       3\n",
            "11.0       3\n",
            "16.0       2\n",
            "27.0       1\n",
            "40.0       1\n",
            "15.0       1\n",
            "14.0       1\n",
            "18.0       1\n",
            "Name: bath, dtype: int64\n",
            "********************\n",
            "2.0    5113\n",
            "1.0    4897\n",
            "3.0    1672\n",
            "0.0    1029\n",
            "Name: balcony, dtype: int64\n",
            "********************\n",
            "75.00     310\n",
            "65.00     302\n",
            "55.00     275\n",
            "60.00     270\n",
            "45.00     240\n",
            "         ... \n",
            "351.00      1\n",
            "54.10       1\n",
            "80.64       1\n",
            "32.73       1\n",
            "488.00      1\n",
            "Name: price, Length: 1994, dtype: int64\n",
            "********************\n"
          ]
        }
      ]
    },
    {
      "cell_type": "code",
      "source": [
        "data.isna().sum()"
      ],
      "metadata": {
        "colab": {
          "base_uri": "https://localhost:8080/"
        },
        "id": "__6116HqDjAX",
        "outputId": "6c15043b-c31e-4b9d-e571-53569cb4e9b0"
      },
      "execution_count": null,
      "outputs": [
        {
          "output_type": "execute_result",
          "data": {
            "text/plain": [
              "area_type          0\n",
              "availability       0\n",
              "location           1\n",
              "size              16\n",
              "society         5502\n",
              "total_sqft         0\n",
              "bath              73\n",
              "balcony          609\n",
              "price              0\n",
              "dtype: int64"
            ]
          },
          "metadata": {},
          "execution_count": 9
        }
      ]
    },
    {
      "cell_type": "code",
      "source": [
        "data.drop(columns=['area_type','availability'],inplace=True)"
      ],
      "metadata": {
        "id": "C-_1aayQD1bO"
      },
      "execution_count": null,
      "outputs": []
    },
    {
      "cell_type": "code",
      "source": [
        "data.describe()"
      ],
      "metadata": {
        "colab": {
          "base_uri": "https://localhost:8080/",
          "height": 300
        },
        "id": "FiAHuilUEX3G",
        "outputId": "f9494b15-1032-4938-cbb8-dec122b23cf5"
      },
      "execution_count": null,
      "outputs": [
        {
          "output_type": "execute_result",
          "data": {
            "text/plain": [
              "               bath       balcony         price\n",
              "count  13247.000000  12711.000000  13320.000000\n",
              "mean       2.692610      1.584376    112.565627\n",
              "std        1.341458      0.817263    148.971674\n",
              "min        1.000000      0.000000      8.000000\n",
              "25%        2.000000      1.000000     50.000000\n",
              "50%        2.000000      2.000000     72.000000\n",
              "75%        3.000000      2.000000    120.000000\n",
              "max       40.000000      3.000000   3600.000000"
            ],
            "text/html": [
              "\n",
              "  <div id=\"df-73a4aea1-50d8-469b-ab4c-98031e4b6177\">\n",
              "    <div class=\"colab-df-container\">\n",
              "      <div>\n",
              "<style scoped>\n",
              "    .dataframe tbody tr th:only-of-type {\n",
              "        vertical-align: middle;\n",
              "    }\n",
              "\n",
              "    .dataframe tbody tr th {\n",
              "        vertical-align: top;\n",
              "    }\n",
              "\n",
              "    .dataframe thead th {\n",
              "        text-align: right;\n",
              "    }\n",
              "</style>\n",
              "<table border=\"1\" class=\"dataframe\">\n",
              "  <thead>\n",
              "    <tr style=\"text-align: right;\">\n",
              "      <th></th>\n",
              "      <th>bath</th>\n",
              "      <th>balcony</th>\n",
              "      <th>price</th>\n",
              "    </tr>\n",
              "  </thead>\n",
              "  <tbody>\n",
              "    <tr>\n",
              "      <th>count</th>\n",
              "      <td>13247.000000</td>\n",
              "      <td>12711.000000</td>\n",
              "      <td>13320.000000</td>\n",
              "    </tr>\n",
              "    <tr>\n",
              "      <th>mean</th>\n",
              "      <td>2.692610</td>\n",
              "      <td>1.584376</td>\n",
              "      <td>112.565627</td>\n",
              "    </tr>\n",
              "    <tr>\n",
              "      <th>std</th>\n",
              "      <td>1.341458</td>\n",
              "      <td>0.817263</td>\n",
              "      <td>148.971674</td>\n",
              "    </tr>\n",
              "    <tr>\n",
              "      <th>min</th>\n",
              "      <td>1.000000</td>\n",
              "      <td>0.000000</td>\n",
              "      <td>8.000000</td>\n",
              "    </tr>\n",
              "    <tr>\n",
              "      <th>25%</th>\n",
              "      <td>2.000000</td>\n",
              "      <td>1.000000</td>\n",
              "      <td>50.000000</td>\n",
              "    </tr>\n",
              "    <tr>\n",
              "      <th>50%</th>\n",
              "      <td>2.000000</td>\n",
              "      <td>2.000000</td>\n",
              "      <td>72.000000</td>\n",
              "    </tr>\n",
              "    <tr>\n",
              "      <th>75%</th>\n",
              "      <td>3.000000</td>\n",
              "      <td>2.000000</td>\n",
              "      <td>120.000000</td>\n",
              "    </tr>\n",
              "    <tr>\n",
              "      <th>max</th>\n",
              "      <td>40.000000</td>\n",
              "      <td>3.000000</td>\n",
              "      <td>3600.000000</td>\n",
              "    </tr>\n",
              "  </tbody>\n",
              "</table>\n",
              "</div>\n",
              "      <button class=\"colab-df-convert\" onclick=\"convertToInteractive('df-73a4aea1-50d8-469b-ab4c-98031e4b6177')\"\n",
              "              title=\"Convert this dataframe to an interactive table.\"\n",
              "              style=\"display:none;\">\n",
              "        \n",
              "  <svg xmlns=\"http://www.w3.org/2000/svg\" height=\"24px\"viewBox=\"0 0 24 24\"\n",
              "       width=\"24px\">\n",
              "    <path d=\"M0 0h24v24H0V0z\" fill=\"none\"/>\n",
              "    <path d=\"M18.56 5.44l.94 2.06.94-2.06 2.06-.94-2.06-.94-.94-2.06-.94 2.06-2.06.94zm-11 1L8.5 8.5l.94-2.06 2.06-.94-2.06-.94L8.5 2.5l-.94 2.06-2.06.94zm10 10l.94 2.06.94-2.06 2.06-.94-2.06-.94-.94-2.06-.94 2.06-2.06.94z\"/><path d=\"M17.41 7.96l-1.37-1.37c-.4-.4-.92-.59-1.43-.59-.52 0-1.04.2-1.43.59L10.3 9.45l-7.72 7.72c-.78.78-.78 2.05 0 2.83L4 21.41c.39.39.9.59 1.41.59.51 0 1.02-.2 1.41-.59l7.78-7.78 2.81-2.81c.8-.78.8-2.07 0-2.86zM5.41 20L4 18.59l7.72-7.72 1.47 1.35L5.41 20z\"/>\n",
              "  </svg>\n",
              "      </button>\n",
              "      \n",
              "  <style>\n",
              "    .colab-df-container {\n",
              "      display:flex;\n",
              "      flex-wrap:wrap;\n",
              "      gap: 12px;\n",
              "    }\n",
              "\n",
              "    .colab-df-convert {\n",
              "      background-color: #E8F0FE;\n",
              "      border: none;\n",
              "      border-radius: 50%;\n",
              "      cursor: pointer;\n",
              "      display: none;\n",
              "      fill: #1967D2;\n",
              "      height: 32px;\n",
              "      padding: 0 0 0 0;\n",
              "      width: 32px;\n",
              "    }\n",
              "\n",
              "    .colab-df-convert:hover {\n",
              "      background-color: #E2EBFA;\n",
              "      box-shadow: 0px 1px 2px rgba(60, 64, 67, 0.3), 0px 1px 3px 1px rgba(60, 64, 67, 0.15);\n",
              "      fill: #174EA6;\n",
              "    }\n",
              "\n",
              "    [theme=dark] .colab-df-convert {\n",
              "      background-color: #3B4455;\n",
              "      fill: #D2E3FC;\n",
              "    }\n",
              "\n",
              "    [theme=dark] .colab-df-convert:hover {\n",
              "      background-color: #434B5C;\n",
              "      box-shadow: 0px 1px 3px 1px rgba(0, 0, 0, 0.15);\n",
              "      filter: drop-shadow(0px 1px 2px rgba(0, 0, 0, 0.3));\n",
              "      fill: #FFFFFF;\n",
              "    }\n",
              "  </style>\n",
              "\n",
              "      <script>\n",
              "        const buttonEl =\n",
              "          document.querySelector('#df-73a4aea1-50d8-469b-ab4c-98031e4b6177 button.colab-df-convert');\n",
              "        buttonEl.style.display =\n",
              "          google.colab.kernel.accessAllowed ? 'block' : 'none';\n",
              "\n",
              "        async function convertToInteractive(key) {\n",
              "          const element = document.querySelector('#df-73a4aea1-50d8-469b-ab4c-98031e4b6177');\n",
              "          const dataTable =\n",
              "            await google.colab.kernel.invokeFunction('convertToInteractive',\n",
              "                                                     [key], {});\n",
              "          if (!dataTable) return;\n",
              "\n",
              "          const docLinkHtml = 'Like what you see? Visit the ' +\n",
              "            '<a target=\"_blank\" href=https://colab.research.google.com/notebooks/data_table.ipynb>data table notebook</a>'\n",
              "            + ' to learn more about interactive tables.';\n",
              "          element.innerHTML = '';\n",
              "          dataTable['output_type'] = 'display_data';\n",
              "          await google.colab.output.renderOutput(dataTable, element);\n",
              "          const docLink = document.createElement('div');\n",
              "          docLink.innerHTML = docLinkHtml;\n",
              "          element.appendChild(docLink);\n",
              "        }\n",
              "      </script>\n",
              "    </div>\n",
              "  </div>\n",
              "  "
            ]
          },
          "metadata": {},
          "execution_count": 11
        }
      ]
    },
    {
      "cell_type": "code",
      "source": [
        "data.info()"
      ],
      "metadata": {
        "colab": {
          "base_uri": "https://localhost:8080/"
        },
        "id": "wu94jYMHEnua",
        "outputId": "446b3b45-f782-4d19-d3ab-cea9d5333ed7"
      },
      "execution_count": null,
      "outputs": [
        {
          "output_type": "stream",
          "name": "stdout",
          "text": [
            "<class 'pandas.core.frame.DataFrame'>\n",
            "RangeIndex: 13320 entries, 0 to 13319\n",
            "Data columns (total 7 columns):\n",
            " #   Column      Non-Null Count  Dtype  \n",
            "---  ------      --------------  -----  \n",
            " 0   location    13319 non-null  object \n",
            " 1   size        13304 non-null  object \n",
            " 2   society     7818 non-null   object \n",
            " 3   total_sqft  13320 non-null  object \n",
            " 4   bath        13247 non-null  float64\n",
            " 5   balcony     12711 non-null  float64\n",
            " 6   price       13320 non-null  float64\n",
            "dtypes: float64(3), object(4)\n",
            "memory usage: 728.6+ KB\n"
          ]
        }
      ]
    },
    {
      "cell_type": "code",
      "source": [
        "data['location'].value_counts()"
      ],
      "metadata": {
        "colab": {
          "base_uri": "https://localhost:8080/"
        },
        "id": "DTUxeE3hFWO3",
        "outputId": "2cb3824d-fe1a-4f26-c42b-7145ea20d45a"
      },
      "execution_count": null,
      "outputs": [
        {
          "output_type": "execute_result",
          "data": {
            "text/plain": [
              "Whitefield                        540\n",
              "Sarjapur  Road                    399\n",
              "Electronic City                   302\n",
              "Kanakpura Road                    273\n",
              "Thanisandra                       234\n",
              "                                 ... \n",
              "Bapuji Layout                       1\n",
              "1st Stage Radha Krishna Layout      1\n",
              "BEML Layout 5th stage               1\n",
              "singapura paradise                  1\n",
              "Abshot Layout                       1\n",
              "Name: location, Length: 1305, dtype: int64"
            ]
          },
          "metadata": {},
          "execution_count": 13
        }
      ]
    },
    {
      "cell_type": "code",
      "source": [
        "data['location'] = data['location'].fillna('Sarjapur Road')"
      ],
      "metadata": {
        "id": "nYe2BL2XFrnd"
      },
      "execution_count": null,
      "outputs": []
    },
    {
      "cell_type": "code",
      "source": [
        "data['size'].value_counts()"
      ],
      "metadata": {
        "colab": {
          "base_uri": "https://localhost:8080/"
        },
        "id": "x4AXAytvGD69",
        "outputId": "58ff72c9-45bc-4fcc-8306-cc5d3a02021e"
      },
      "execution_count": null,
      "outputs": [
        {
          "output_type": "execute_result",
          "data": {
            "text/plain": [
              "2 BHK         5199\n",
              "3 BHK         4310\n",
              "4 Bedroom      826\n",
              "4 BHK          591\n",
              "3 Bedroom      547\n",
              "1 BHK          538\n",
              "2 Bedroom      329\n",
              "5 Bedroom      297\n",
              "6 Bedroom      191\n",
              "1 Bedroom      105\n",
              "8 Bedroom       84\n",
              "7 Bedroom       83\n",
              "5 BHK           59\n",
              "9 Bedroom       46\n",
              "6 BHK           30\n",
              "7 BHK           17\n",
              "1 RK            13\n",
              "10 Bedroom      12\n",
              "9 BHK            8\n",
              "8 BHK            5\n",
              "11 BHK           2\n",
              "11 Bedroom       2\n",
              "10 BHK           2\n",
              "14 BHK           1\n",
              "13 BHK           1\n",
              "12 Bedroom       1\n",
              "27 BHK           1\n",
              "43 Bedroom       1\n",
              "16 BHK           1\n",
              "19 BHK           1\n",
              "18 Bedroom       1\n",
              "Name: size, dtype: int64"
            ]
          },
          "metadata": {},
          "execution_count": 15
        }
      ]
    },
    {
      "cell_type": "code",
      "source": [
        "data['size'] = data['size'].fillna('2 BHK')"
      ],
      "metadata": {
        "id": "KmwFJjPrGM9D"
      },
      "execution_count": null,
      "outputs": []
    },
    {
      "cell_type": "code",
      "source": [
        "data['bath'] = data['bath'].fillna(data['bath'].median())"
      ],
      "metadata": {
        "id": "tQTEgE7XGvsd"
      },
      "execution_count": null,
      "outputs": []
    },
    {
      "cell_type": "code",
      "source": [
        "data.info()"
      ],
      "metadata": {
        "colab": {
          "base_uri": "https://localhost:8080/"
        },
        "id": "ZbVIiQe3HCXZ",
        "outputId": "0220ac3a-b25c-4361-d3e2-a9949ce6df6f"
      },
      "execution_count": null,
      "outputs": [
        {
          "output_type": "stream",
          "name": "stdout",
          "text": [
            "<class 'pandas.core.frame.DataFrame'>\n",
            "RangeIndex: 13320 entries, 0 to 13319\n",
            "Data columns (total 7 columns):\n",
            " #   Column      Non-Null Count  Dtype  \n",
            "---  ------      --------------  -----  \n",
            " 0   location    13320 non-null  object \n",
            " 1   size        13320 non-null  object \n",
            " 2   society     7818 non-null   object \n",
            " 3   total_sqft  13320 non-null  object \n",
            " 4   bath        13320 non-null  float64\n",
            " 5   balcony     12711 non-null  float64\n",
            " 6   price       13320 non-null  float64\n",
            "dtypes: float64(3), object(4)\n",
            "memory usage: 728.6+ KB\n"
          ]
        }
      ]
    },
    {
      "cell_type": "code",
      "source": [
        "data['bhk']=data['size'].str.split().str.get(0).astype(int)"
      ],
      "metadata": {
        "id": "n7KIBbX9HUkI"
      },
      "execution_count": null,
      "outputs": []
    },
    {
      "cell_type": "code",
      "source": [
        "data[data.bhk > 20]"
      ],
      "metadata": {
        "colab": {
          "base_uri": "https://localhost:8080/",
          "height": 112
        },
        "id": "diasiivsH5GO",
        "outputId": "09a8fbe3-5a5e-44b9-cd62-0b5e2b250115"
      },
      "execution_count": null,
      "outputs": [
        {
          "output_type": "execute_result",
          "data": {
            "text/plain": [
              "                       location        size society total_sqft  bath  balcony  \\\n",
              "1718  2Electronic City Phase II      27 BHK     NaN       8000  27.0      0.0   \n",
              "4684                Munnekollal  43 Bedroom     NaN       2400  40.0      0.0   \n",
              "\n",
              "      price  bhk  \n",
              "1718  230.0   27  \n",
              "4684  660.0   43  "
            ],
            "text/html": [
              "\n",
              "  <div id=\"df-0a1c165d-4a0a-46ae-a8b8-d52d4964cdef\">\n",
              "    <div class=\"colab-df-container\">\n",
              "      <div>\n",
              "<style scoped>\n",
              "    .dataframe tbody tr th:only-of-type {\n",
              "        vertical-align: middle;\n",
              "    }\n",
              "\n",
              "    .dataframe tbody tr th {\n",
              "        vertical-align: top;\n",
              "    }\n",
              "\n",
              "    .dataframe thead th {\n",
              "        text-align: right;\n",
              "    }\n",
              "</style>\n",
              "<table border=\"1\" class=\"dataframe\">\n",
              "  <thead>\n",
              "    <tr style=\"text-align: right;\">\n",
              "      <th></th>\n",
              "      <th>location</th>\n",
              "      <th>size</th>\n",
              "      <th>society</th>\n",
              "      <th>total_sqft</th>\n",
              "      <th>bath</th>\n",
              "      <th>balcony</th>\n",
              "      <th>price</th>\n",
              "      <th>bhk</th>\n",
              "    </tr>\n",
              "  </thead>\n",
              "  <tbody>\n",
              "    <tr>\n",
              "      <th>1718</th>\n",
              "      <td>2Electronic City Phase II</td>\n",
              "      <td>27 BHK</td>\n",
              "      <td>NaN</td>\n",
              "      <td>8000</td>\n",
              "      <td>27.0</td>\n",
              "      <td>0.0</td>\n",
              "      <td>230.0</td>\n",
              "      <td>27</td>\n",
              "    </tr>\n",
              "    <tr>\n",
              "      <th>4684</th>\n",
              "      <td>Munnekollal</td>\n",
              "      <td>43 Bedroom</td>\n",
              "      <td>NaN</td>\n",
              "      <td>2400</td>\n",
              "      <td>40.0</td>\n",
              "      <td>0.0</td>\n",
              "      <td>660.0</td>\n",
              "      <td>43</td>\n",
              "    </tr>\n",
              "  </tbody>\n",
              "</table>\n",
              "</div>\n",
              "      <button class=\"colab-df-convert\" onclick=\"convertToInteractive('df-0a1c165d-4a0a-46ae-a8b8-d52d4964cdef')\"\n",
              "              title=\"Convert this dataframe to an interactive table.\"\n",
              "              style=\"display:none;\">\n",
              "        \n",
              "  <svg xmlns=\"http://www.w3.org/2000/svg\" height=\"24px\"viewBox=\"0 0 24 24\"\n",
              "       width=\"24px\">\n",
              "    <path d=\"M0 0h24v24H0V0z\" fill=\"none\"/>\n",
              "    <path d=\"M18.56 5.44l.94 2.06.94-2.06 2.06-.94-2.06-.94-.94-2.06-.94 2.06-2.06.94zm-11 1L8.5 8.5l.94-2.06 2.06-.94-2.06-.94L8.5 2.5l-.94 2.06-2.06.94zm10 10l.94 2.06.94-2.06 2.06-.94-2.06-.94-.94-2.06-.94 2.06-2.06.94z\"/><path d=\"M17.41 7.96l-1.37-1.37c-.4-.4-.92-.59-1.43-.59-.52 0-1.04.2-1.43.59L10.3 9.45l-7.72 7.72c-.78.78-.78 2.05 0 2.83L4 21.41c.39.39.9.59 1.41.59.51 0 1.02-.2 1.41-.59l7.78-7.78 2.81-2.81c.8-.78.8-2.07 0-2.86zM5.41 20L4 18.59l7.72-7.72 1.47 1.35L5.41 20z\"/>\n",
              "  </svg>\n",
              "      </button>\n",
              "      \n",
              "  <style>\n",
              "    .colab-df-container {\n",
              "      display:flex;\n",
              "      flex-wrap:wrap;\n",
              "      gap: 12px;\n",
              "    }\n",
              "\n",
              "    .colab-df-convert {\n",
              "      background-color: #E8F0FE;\n",
              "      border: none;\n",
              "      border-radius: 50%;\n",
              "      cursor: pointer;\n",
              "      display: none;\n",
              "      fill: #1967D2;\n",
              "      height: 32px;\n",
              "      padding: 0 0 0 0;\n",
              "      width: 32px;\n",
              "    }\n",
              "\n",
              "    .colab-df-convert:hover {\n",
              "      background-color: #E2EBFA;\n",
              "      box-shadow: 0px 1px 2px rgba(60, 64, 67, 0.3), 0px 1px 3px 1px rgba(60, 64, 67, 0.15);\n",
              "      fill: #174EA6;\n",
              "    }\n",
              "\n",
              "    [theme=dark] .colab-df-convert {\n",
              "      background-color: #3B4455;\n",
              "      fill: #D2E3FC;\n",
              "    }\n",
              "\n",
              "    [theme=dark] .colab-df-convert:hover {\n",
              "      background-color: #434B5C;\n",
              "      box-shadow: 0px 1px 3px 1px rgba(0, 0, 0, 0.15);\n",
              "      filter: drop-shadow(0px 1px 2px rgba(0, 0, 0, 0.3));\n",
              "      fill: #FFFFFF;\n",
              "    }\n",
              "  </style>\n",
              "\n",
              "      <script>\n",
              "        const buttonEl =\n",
              "          document.querySelector('#df-0a1c165d-4a0a-46ae-a8b8-d52d4964cdef button.colab-df-convert');\n",
              "        buttonEl.style.display =\n",
              "          google.colab.kernel.accessAllowed ? 'block' : 'none';\n",
              "\n",
              "        async function convertToInteractive(key) {\n",
              "          const element = document.querySelector('#df-0a1c165d-4a0a-46ae-a8b8-d52d4964cdef');\n",
              "          const dataTable =\n",
              "            await google.colab.kernel.invokeFunction('convertToInteractive',\n",
              "                                                     [key], {});\n",
              "          if (!dataTable) return;\n",
              "\n",
              "          const docLinkHtml = 'Like what you see? Visit the ' +\n",
              "            '<a target=\"_blank\" href=https://colab.research.google.com/notebooks/data_table.ipynb>data table notebook</a>'\n",
              "            + ' to learn more about interactive tables.';\n",
              "          element.innerHTML = '';\n",
              "          dataTable['output_type'] = 'display_data';\n",
              "          await google.colab.output.renderOutput(dataTable, element);\n",
              "          const docLink = document.createElement('div');\n",
              "          docLink.innerHTML = docLinkHtml;\n",
              "          element.appendChild(docLink);\n",
              "        }\n",
              "      </script>\n",
              "    </div>\n",
              "  </div>\n",
              "  "
            ]
          },
          "metadata": {},
          "execution_count": 19
        }
      ]
    },
    {
      "cell_type": "code",
      "source": [
        "data['total_sqft'].unique()"
      ],
      "metadata": {
        "colab": {
          "base_uri": "https://localhost:8080/"
        },
        "id": "6hVRAX2-INHU",
        "outputId": "52e32584-8572-422a-f365-19be9a73b4c6"
      },
      "execution_count": null,
      "outputs": [
        {
          "output_type": "execute_result",
          "data": {
            "text/plain": [
              "array(['1056', '2600', '1440', ..., '1133 - 1384', '774', '4689'],\n",
              "      dtype=object)"
            ]
          },
          "metadata": {},
          "execution_count": 20
        }
      ]
    },
    {
      "cell_type": "code",
      "source": [
        "def convertRange(x):\n",
        "  temp=x.split('-')\n",
        "  if len(temp) == 2:\n",
        "    return (float(temp[0]) + float(temp[1]))/2\n",
        "  try:\n",
        "    return float(x)\n",
        "  except:\n",
        "    return None    "
      ],
      "metadata": {
        "id": "ygyZsqOeIVME"
      },
      "execution_count": null,
      "outputs": []
    },
    {
      "cell_type": "code",
      "source": [
        "data['total_sqft']=data['total_sqft'].apply(convertRange)"
      ],
      "metadata": {
        "id": "-gN7ecb3OlAt"
      },
      "execution_count": null,
      "outputs": []
    },
    {
      "cell_type": "code",
      "source": [
        "data.head()"
      ],
      "metadata": {
        "colab": {
          "base_uri": "https://localhost:8080/",
          "height": 206
        },
        "id": "cMwKOeCiRQS2",
        "outputId": "1e25bc29-bbdb-4a2f-dd14-d3555d792a54"
      },
      "execution_count": null,
      "outputs": [
        {
          "output_type": "execute_result",
          "data": {
            "text/plain": [
              "                   location       size  society  total_sqft  bath  balcony  \\\n",
              "0  Electronic City Phase II      2 BHK  Coomee       1056.0   2.0      1.0   \n",
              "1          Chikka Tirupathi  4 Bedroom  Theanmp      2600.0   5.0      3.0   \n",
              "2               Uttarahalli      3 BHK      NaN      1440.0   2.0      3.0   \n",
              "3        Lingadheeranahalli      3 BHK  Soiewre      1521.0   3.0      1.0   \n",
              "4                  Kothanur      2 BHK      NaN      1200.0   2.0      1.0   \n",
              "\n",
              "    price  bhk  \n",
              "0   39.07    2  \n",
              "1  120.00    4  \n",
              "2   62.00    3  \n",
              "3   95.00    3  \n",
              "4   51.00    2  "
            ],
            "text/html": [
              "\n",
              "  <div id=\"df-283fe5e0-266d-4176-be70-b1d3218706c0\">\n",
              "    <div class=\"colab-df-container\">\n",
              "      <div>\n",
              "<style scoped>\n",
              "    .dataframe tbody tr th:only-of-type {\n",
              "        vertical-align: middle;\n",
              "    }\n",
              "\n",
              "    .dataframe tbody tr th {\n",
              "        vertical-align: top;\n",
              "    }\n",
              "\n",
              "    .dataframe thead th {\n",
              "        text-align: right;\n",
              "    }\n",
              "</style>\n",
              "<table border=\"1\" class=\"dataframe\">\n",
              "  <thead>\n",
              "    <tr style=\"text-align: right;\">\n",
              "      <th></th>\n",
              "      <th>location</th>\n",
              "      <th>size</th>\n",
              "      <th>society</th>\n",
              "      <th>total_sqft</th>\n",
              "      <th>bath</th>\n",
              "      <th>balcony</th>\n",
              "      <th>price</th>\n",
              "      <th>bhk</th>\n",
              "    </tr>\n",
              "  </thead>\n",
              "  <tbody>\n",
              "    <tr>\n",
              "      <th>0</th>\n",
              "      <td>Electronic City Phase II</td>\n",
              "      <td>2 BHK</td>\n",
              "      <td>Coomee</td>\n",
              "      <td>1056.0</td>\n",
              "      <td>2.0</td>\n",
              "      <td>1.0</td>\n",
              "      <td>39.07</td>\n",
              "      <td>2</td>\n",
              "    </tr>\n",
              "    <tr>\n",
              "      <th>1</th>\n",
              "      <td>Chikka Tirupathi</td>\n",
              "      <td>4 Bedroom</td>\n",
              "      <td>Theanmp</td>\n",
              "      <td>2600.0</td>\n",
              "      <td>5.0</td>\n",
              "      <td>3.0</td>\n",
              "      <td>120.00</td>\n",
              "      <td>4</td>\n",
              "    </tr>\n",
              "    <tr>\n",
              "      <th>2</th>\n",
              "      <td>Uttarahalli</td>\n",
              "      <td>3 BHK</td>\n",
              "      <td>NaN</td>\n",
              "      <td>1440.0</td>\n",
              "      <td>2.0</td>\n",
              "      <td>3.0</td>\n",
              "      <td>62.00</td>\n",
              "      <td>3</td>\n",
              "    </tr>\n",
              "    <tr>\n",
              "      <th>3</th>\n",
              "      <td>Lingadheeranahalli</td>\n",
              "      <td>3 BHK</td>\n",
              "      <td>Soiewre</td>\n",
              "      <td>1521.0</td>\n",
              "      <td>3.0</td>\n",
              "      <td>1.0</td>\n",
              "      <td>95.00</td>\n",
              "      <td>3</td>\n",
              "    </tr>\n",
              "    <tr>\n",
              "      <th>4</th>\n",
              "      <td>Kothanur</td>\n",
              "      <td>2 BHK</td>\n",
              "      <td>NaN</td>\n",
              "      <td>1200.0</td>\n",
              "      <td>2.0</td>\n",
              "      <td>1.0</td>\n",
              "      <td>51.00</td>\n",
              "      <td>2</td>\n",
              "    </tr>\n",
              "  </tbody>\n",
              "</table>\n",
              "</div>\n",
              "      <button class=\"colab-df-convert\" onclick=\"convertToInteractive('df-283fe5e0-266d-4176-be70-b1d3218706c0')\"\n",
              "              title=\"Convert this dataframe to an interactive table.\"\n",
              "              style=\"display:none;\">\n",
              "        \n",
              "  <svg xmlns=\"http://www.w3.org/2000/svg\" height=\"24px\"viewBox=\"0 0 24 24\"\n",
              "       width=\"24px\">\n",
              "    <path d=\"M0 0h24v24H0V0z\" fill=\"none\"/>\n",
              "    <path d=\"M18.56 5.44l.94 2.06.94-2.06 2.06-.94-2.06-.94-.94-2.06-.94 2.06-2.06.94zm-11 1L8.5 8.5l.94-2.06 2.06-.94-2.06-.94L8.5 2.5l-.94 2.06-2.06.94zm10 10l.94 2.06.94-2.06 2.06-.94-2.06-.94-.94-2.06-.94 2.06-2.06.94z\"/><path d=\"M17.41 7.96l-1.37-1.37c-.4-.4-.92-.59-1.43-.59-.52 0-1.04.2-1.43.59L10.3 9.45l-7.72 7.72c-.78.78-.78 2.05 0 2.83L4 21.41c.39.39.9.59 1.41.59.51 0 1.02-.2 1.41-.59l7.78-7.78 2.81-2.81c.8-.78.8-2.07 0-2.86zM5.41 20L4 18.59l7.72-7.72 1.47 1.35L5.41 20z\"/>\n",
              "  </svg>\n",
              "      </button>\n",
              "      \n",
              "  <style>\n",
              "    .colab-df-container {\n",
              "      display:flex;\n",
              "      flex-wrap:wrap;\n",
              "      gap: 12px;\n",
              "    }\n",
              "\n",
              "    .colab-df-convert {\n",
              "      background-color: #E8F0FE;\n",
              "      border: none;\n",
              "      border-radius: 50%;\n",
              "      cursor: pointer;\n",
              "      display: none;\n",
              "      fill: #1967D2;\n",
              "      height: 32px;\n",
              "      padding: 0 0 0 0;\n",
              "      width: 32px;\n",
              "    }\n",
              "\n",
              "    .colab-df-convert:hover {\n",
              "      background-color: #E2EBFA;\n",
              "      box-shadow: 0px 1px 2px rgba(60, 64, 67, 0.3), 0px 1px 3px 1px rgba(60, 64, 67, 0.15);\n",
              "      fill: #174EA6;\n",
              "    }\n",
              "\n",
              "    [theme=dark] .colab-df-convert {\n",
              "      background-color: #3B4455;\n",
              "      fill: #D2E3FC;\n",
              "    }\n",
              "\n",
              "    [theme=dark] .colab-df-convert:hover {\n",
              "      background-color: #434B5C;\n",
              "      box-shadow: 0px 1px 3px 1px rgba(0, 0, 0, 0.15);\n",
              "      filter: drop-shadow(0px 1px 2px rgba(0, 0, 0, 0.3));\n",
              "      fill: #FFFFFF;\n",
              "    }\n",
              "  </style>\n",
              "\n",
              "      <script>\n",
              "        const buttonEl =\n",
              "          document.querySelector('#df-283fe5e0-266d-4176-be70-b1d3218706c0 button.colab-df-convert');\n",
              "        buttonEl.style.display =\n",
              "          google.colab.kernel.accessAllowed ? 'block' : 'none';\n",
              "\n",
              "        async function convertToInteractive(key) {\n",
              "          const element = document.querySelector('#df-283fe5e0-266d-4176-be70-b1d3218706c0');\n",
              "          const dataTable =\n",
              "            await google.colab.kernel.invokeFunction('convertToInteractive',\n",
              "                                                     [key], {});\n",
              "          if (!dataTable) return;\n",
              "\n",
              "          const docLinkHtml = 'Like what you see? Visit the ' +\n",
              "            '<a target=\"_blank\" href=https://colab.research.google.com/notebooks/data_table.ipynb>data table notebook</a>'\n",
              "            + ' to learn more about interactive tables.';\n",
              "          element.innerHTML = '';\n",
              "          dataTable['output_type'] = 'display_data';\n",
              "          await google.colab.output.renderOutput(dataTable, element);\n",
              "          const docLink = document.createElement('div');\n",
              "          docLink.innerHTML = docLinkHtml;\n",
              "          element.appendChild(docLink);\n",
              "        }\n",
              "      </script>\n",
              "    </div>\n",
              "  </div>\n",
              "  "
            ]
          },
          "metadata": {},
          "execution_count": 30
        }
      ]
    },
    {
      "cell_type": "markdown",
      "source": [
        "Price Per Square Feet"
      ],
      "metadata": {
        "id": "1cQtRM3ORg2m"
      }
    },
    {
      "cell_type": "code",
      "source": [
        "data['price_per_sqft']= data['price']*100000/data['total_sqft']"
      ],
      "metadata": {
        "id": "F11EoWRJRnJU"
      },
      "execution_count": null,
      "outputs": []
    },
    {
      "cell_type": "code",
      "source": [
        "data['price_per_sqft']"
      ],
      "metadata": {
        "colab": {
          "base_uri": "https://localhost:8080/"
        },
        "id": "Fy081INJRl6U",
        "outputId": "28a32979-1406-489d-9162-5b1e8a389075"
      },
      "execution_count": null,
      "outputs": [
        {
          "output_type": "execute_result",
          "data": {
            "text/plain": [
              "0         3699.810606\n",
              "1         4615.384615\n",
              "2         4305.555556\n",
              "3         6245.890861\n",
              "4         4250.000000\n",
              "             ...     \n",
              "13315     6689.834926\n",
              "13316    11111.111111\n",
              "13317     5258.545136\n",
              "13318    10407.336319\n",
              "13319     3090.909091\n",
              "Name: price_per_sqft, Length: 13320, dtype: float64"
            ]
          },
          "metadata": {},
          "execution_count": 24
        }
      ]
    },
    {
      "cell_type": "code",
      "source": [
        "data.describe()"
      ],
      "metadata": {
        "colab": {
          "base_uri": "https://localhost:8080/",
          "height": 300
        },
        "id": "6v6oSXWJST5M",
        "outputId": "90b43222-30bf-4bd8-95ce-4194a065fb33"
      },
      "execution_count": null,
      "outputs": [
        {
          "output_type": "execute_result",
          "data": {
            "text/plain": [
              "         total_sqft          bath       balcony         price           bhk  \\\n",
              "count  13274.000000  13320.000000  12711.000000  13320.000000  13320.000000   \n",
              "mean    1559.626694      2.688814      1.584376    112.565627      2.802778   \n",
              "std     1238.405258      1.338754      0.817263    148.971674      1.294496   \n",
              "min        1.000000      1.000000      0.000000      8.000000      1.000000   \n",
              "25%     1100.000000      2.000000      1.000000     50.000000      2.000000   \n",
              "50%     1276.000000      2.000000      2.000000     72.000000      3.000000   \n",
              "75%     1680.000000      3.000000      2.000000    120.000000      3.000000   \n",
              "max    52272.000000     40.000000      3.000000   3600.000000     43.000000   \n",
              "\n",
              "       price_per_sqft  \n",
              "count    1.327400e+04  \n",
              "mean     7.907501e+03  \n",
              "std      1.064296e+05  \n",
              "min      2.678298e+02  \n",
              "25%      4.266865e+03  \n",
              "50%      5.434306e+03  \n",
              "75%      7.311746e+03  \n",
              "max      1.200000e+07  "
            ],
            "text/html": [
              "\n",
              "  <div id=\"df-cf5c6486-027b-4f7e-8534-5bcddb52a9f7\">\n",
              "    <div class=\"colab-df-container\">\n",
              "      <div>\n",
              "<style scoped>\n",
              "    .dataframe tbody tr th:only-of-type {\n",
              "        vertical-align: middle;\n",
              "    }\n",
              "\n",
              "    .dataframe tbody tr th {\n",
              "        vertical-align: top;\n",
              "    }\n",
              "\n",
              "    .dataframe thead th {\n",
              "        text-align: right;\n",
              "    }\n",
              "</style>\n",
              "<table border=\"1\" class=\"dataframe\">\n",
              "  <thead>\n",
              "    <tr style=\"text-align: right;\">\n",
              "      <th></th>\n",
              "      <th>total_sqft</th>\n",
              "      <th>bath</th>\n",
              "      <th>balcony</th>\n",
              "      <th>price</th>\n",
              "      <th>bhk</th>\n",
              "      <th>price_per_sqft</th>\n",
              "    </tr>\n",
              "  </thead>\n",
              "  <tbody>\n",
              "    <tr>\n",
              "      <th>count</th>\n",
              "      <td>13274.000000</td>\n",
              "      <td>13320.000000</td>\n",
              "      <td>12711.000000</td>\n",
              "      <td>13320.000000</td>\n",
              "      <td>13320.000000</td>\n",
              "      <td>1.327400e+04</td>\n",
              "    </tr>\n",
              "    <tr>\n",
              "      <th>mean</th>\n",
              "      <td>1559.626694</td>\n",
              "      <td>2.688814</td>\n",
              "      <td>1.584376</td>\n",
              "      <td>112.565627</td>\n",
              "      <td>2.802778</td>\n",
              "      <td>7.907501e+03</td>\n",
              "    </tr>\n",
              "    <tr>\n",
              "      <th>std</th>\n",
              "      <td>1238.405258</td>\n",
              "      <td>1.338754</td>\n",
              "      <td>0.817263</td>\n",
              "      <td>148.971674</td>\n",
              "      <td>1.294496</td>\n",
              "      <td>1.064296e+05</td>\n",
              "    </tr>\n",
              "    <tr>\n",
              "      <th>min</th>\n",
              "      <td>1.000000</td>\n",
              "      <td>1.000000</td>\n",
              "      <td>0.000000</td>\n",
              "      <td>8.000000</td>\n",
              "      <td>1.000000</td>\n",
              "      <td>2.678298e+02</td>\n",
              "    </tr>\n",
              "    <tr>\n",
              "      <th>25%</th>\n",
              "      <td>1100.000000</td>\n",
              "      <td>2.000000</td>\n",
              "      <td>1.000000</td>\n",
              "      <td>50.000000</td>\n",
              "      <td>2.000000</td>\n",
              "      <td>4.266865e+03</td>\n",
              "    </tr>\n",
              "    <tr>\n",
              "      <th>50%</th>\n",
              "      <td>1276.000000</td>\n",
              "      <td>2.000000</td>\n",
              "      <td>2.000000</td>\n",
              "      <td>72.000000</td>\n",
              "      <td>3.000000</td>\n",
              "      <td>5.434306e+03</td>\n",
              "    </tr>\n",
              "    <tr>\n",
              "      <th>75%</th>\n",
              "      <td>1680.000000</td>\n",
              "      <td>3.000000</td>\n",
              "      <td>2.000000</td>\n",
              "      <td>120.000000</td>\n",
              "      <td>3.000000</td>\n",
              "      <td>7.311746e+03</td>\n",
              "    </tr>\n",
              "    <tr>\n",
              "      <th>max</th>\n",
              "      <td>52272.000000</td>\n",
              "      <td>40.000000</td>\n",
              "      <td>3.000000</td>\n",
              "      <td>3600.000000</td>\n",
              "      <td>43.000000</td>\n",
              "      <td>1.200000e+07</td>\n",
              "    </tr>\n",
              "  </tbody>\n",
              "</table>\n",
              "</div>\n",
              "      <button class=\"colab-df-convert\" onclick=\"convertToInteractive('df-cf5c6486-027b-4f7e-8534-5bcddb52a9f7')\"\n",
              "              title=\"Convert this dataframe to an interactive table.\"\n",
              "              style=\"display:none;\">\n",
              "        \n",
              "  <svg xmlns=\"http://www.w3.org/2000/svg\" height=\"24px\"viewBox=\"0 0 24 24\"\n",
              "       width=\"24px\">\n",
              "    <path d=\"M0 0h24v24H0V0z\" fill=\"none\"/>\n",
              "    <path d=\"M18.56 5.44l.94 2.06.94-2.06 2.06-.94-2.06-.94-.94-2.06-.94 2.06-2.06.94zm-11 1L8.5 8.5l.94-2.06 2.06-.94-2.06-.94L8.5 2.5l-.94 2.06-2.06.94zm10 10l.94 2.06.94-2.06 2.06-.94-2.06-.94-.94-2.06-.94 2.06-2.06.94z\"/><path d=\"M17.41 7.96l-1.37-1.37c-.4-.4-.92-.59-1.43-.59-.52 0-1.04.2-1.43.59L10.3 9.45l-7.72 7.72c-.78.78-.78 2.05 0 2.83L4 21.41c.39.39.9.59 1.41.59.51 0 1.02-.2 1.41-.59l7.78-7.78 2.81-2.81c.8-.78.8-2.07 0-2.86zM5.41 20L4 18.59l7.72-7.72 1.47 1.35L5.41 20z\"/>\n",
              "  </svg>\n",
              "      </button>\n",
              "      \n",
              "  <style>\n",
              "    .colab-df-container {\n",
              "      display:flex;\n",
              "      flex-wrap:wrap;\n",
              "      gap: 12px;\n",
              "    }\n",
              "\n",
              "    .colab-df-convert {\n",
              "      background-color: #E8F0FE;\n",
              "      border: none;\n",
              "      border-radius: 50%;\n",
              "      cursor: pointer;\n",
              "      display: none;\n",
              "      fill: #1967D2;\n",
              "      height: 32px;\n",
              "      padding: 0 0 0 0;\n",
              "      width: 32px;\n",
              "    }\n",
              "\n",
              "    .colab-df-convert:hover {\n",
              "      background-color: #E2EBFA;\n",
              "      box-shadow: 0px 1px 2px rgba(60, 64, 67, 0.3), 0px 1px 3px 1px rgba(60, 64, 67, 0.15);\n",
              "      fill: #174EA6;\n",
              "    }\n",
              "\n",
              "    [theme=dark] .colab-df-convert {\n",
              "      background-color: #3B4455;\n",
              "      fill: #D2E3FC;\n",
              "    }\n",
              "\n",
              "    [theme=dark] .colab-df-convert:hover {\n",
              "      background-color: #434B5C;\n",
              "      box-shadow: 0px 1px 3px 1px rgba(0, 0, 0, 0.15);\n",
              "      filter: drop-shadow(0px 1px 2px rgba(0, 0, 0, 0.3));\n",
              "      fill: #FFFFFF;\n",
              "    }\n",
              "  </style>\n",
              "\n",
              "      <script>\n",
              "        const buttonEl =\n",
              "          document.querySelector('#df-cf5c6486-027b-4f7e-8534-5bcddb52a9f7 button.colab-df-convert');\n",
              "        buttonEl.style.display =\n",
              "          google.colab.kernel.accessAllowed ? 'block' : 'none';\n",
              "\n",
              "        async function convertToInteractive(key) {\n",
              "          const element = document.querySelector('#df-cf5c6486-027b-4f7e-8534-5bcddb52a9f7');\n",
              "          const dataTable =\n",
              "            await google.colab.kernel.invokeFunction('convertToInteractive',\n",
              "                                                     [key], {});\n",
              "          if (!dataTable) return;\n",
              "\n",
              "          const docLinkHtml = 'Like what you see? Visit the ' +\n",
              "            '<a target=\"_blank\" href=https://colab.research.google.com/notebooks/data_table.ipynb>data table notebook</a>'\n",
              "            + ' to learn more about interactive tables.';\n",
              "          element.innerHTML = '';\n",
              "          dataTable['output_type'] = 'display_data';\n",
              "          await google.colab.output.renderOutput(dataTable, element);\n",
              "          const docLink = document.createElement('div');\n",
              "          docLink.innerHTML = docLinkHtml;\n",
              "          element.appendChild(docLink);\n",
              "        }\n",
              "      </script>\n",
              "    </div>\n",
              "  </div>\n",
              "  "
            ]
          },
          "metadata": {},
          "execution_count": 33
        }
      ]
    },
    {
      "cell_type": "code",
      "source": [
        "data['location'].value_counts()"
      ],
      "metadata": {
        "colab": {
          "base_uri": "https://localhost:8080/"
        },
        "id": "c8v8jdtNSyrG",
        "outputId": "d7595f14-2d85-4928-9c80-dd9b4b62513a"
      },
      "execution_count": null,
      "outputs": [
        {
          "output_type": "execute_result",
          "data": {
            "text/plain": [
              "Whitefield                        540\n",
              "Sarjapur  Road                    399\n",
              "Electronic City                   302\n",
              "Kanakpura Road                    273\n",
              "Thanisandra                       234\n",
              "                                 ... \n",
              "1st Stage Radha Krishna Layout      1\n",
              "BEML Layout 5th stage               1\n",
              "singapura paradise                  1\n",
              "Uvce Layout                         1\n",
              "Abshot Layout                       1\n",
              "Name: location, Length: 1306, dtype: int64"
            ]
          },
          "metadata": {},
          "execution_count": 25
        }
      ]
    },
    {
      "cell_type": "code",
      "source": [
        "data['location']=data['location'].apply(lambda x:x.strip())\n",
        "location_count=data['location'].value_counts()"
      ],
      "metadata": {
        "id": "VuDj-9mCTo83"
      },
      "execution_count": null,
      "outputs": []
    },
    {
      "cell_type": "code",
      "source": [
        "location_count"
      ],
      "metadata": {
        "colab": {
          "base_uri": "https://localhost:8080/"
        },
        "id": "Z61OJdPYUCL9",
        "outputId": "e4bc4e69-b789-4bae-b765-fa01c54efa4e"
      },
      "execution_count": null,
      "outputs": [
        {
          "output_type": "execute_result",
          "data": {
            "text/plain": [
              "Whitefield                            541\n",
              "Sarjapur  Road                        399\n",
              "Electronic City                       304\n",
              "Kanakpura Road                        273\n",
              "Thanisandra                           237\n",
              "                                     ... \n",
              "1Channasandra                           1\n",
              "Hosahalli                               1\n",
              "Vijayabank bank layout                  1\n",
              "near Ramanashree California resort      1\n",
              "Abshot Layout                           1\n",
              "Name: location, Length: 1295, dtype: int64"
            ]
          },
          "metadata": {},
          "execution_count": 27
        }
      ]
    },
    {
      "cell_type": "code",
      "source": [
        "location_count_less_10 = location_count[location_count<=10]\n",
        "location_count_less_10"
      ],
      "metadata": {
        "colab": {
          "base_uri": "https://localhost:8080/"
        },
        "id": "hewaE6ZxUIje",
        "outputId": "00de9ce4-deab-4cc9-b2f4-de68cee3f554"
      },
      "execution_count": null,
      "outputs": [
        {
          "output_type": "execute_result",
          "data": {
            "text/plain": [
              "BTM 1st Stage                         10\n",
              "Nagadevanahalli                       10\n",
              "Basapura                              10\n",
              "Sector 1 HSR Layout                   10\n",
              "Dairy Circle                          10\n",
              "                                      ..\n",
              "1Channasandra                          1\n",
              "Hosahalli                              1\n",
              "Vijayabank bank layout                 1\n",
              "near Ramanashree California resort     1\n",
              "Abshot Layout                          1\n",
              "Name: location, Length: 1054, dtype: int64"
            ]
          },
          "metadata": {},
          "execution_count": 28
        }
      ]
    },
    {
      "cell_type": "code",
      "source": [
        "data['location']=data['location'].apply(lambda x: 'other' if x in location_count_less_10 else x)"
      ],
      "metadata": {
        "id": "x9MO4XVkUwNG"
      },
      "execution_count": null,
      "outputs": []
    },
    {
      "cell_type": "code",
      "source": [
        "data['location'].value_counts()"
      ],
      "metadata": {
        "colab": {
          "base_uri": "https://localhost:8080/"
        },
        "id": "SHxKWhVSVjHN",
        "outputId": "079eda6f-90b7-4489-a38d-31d6e245a353"
      },
      "execution_count": null,
      "outputs": [
        {
          "output_type": "execute_result",
          "data": {
            "text/plain": [
              "other                 2886\n",
              "Whitefield             541\n",
              "Sarjapur  Road         399\n",
              "Electronic City        304\n",
              "Kanakpura Road         273\n",
              "                      ... \n",
              "Nehru Nagar             11\n",
              "Banjara Layout          11\n",
              "LB Shastri Nagar        11\n",
              "Pattandur Agrahara      11\n",
              "Narayanapura            11\n",
              "Name: location, Length: 242, dtype: int64"
            ]
          },
          "metadata": {},
          "execution_count": 30
        }
      ]
    },
    {
      "cell_type": "markdown",
      "source": [
        "Outlier Detection and Removal"
      ],
      "metadata": {
        "id": "bd91ADyrV3b-"
      }
    },
    {
      "cell_type": "code",
      "source": [
        "data.describe()"
      ],
      "metadata": {
        "colab": {
          "base_uri": "https://localhost:8080/",
          "height": 300
        },
        "id": "gasMkHUzV74K",
        "outputId": "d5b882ef-8611-42f1-d371-307e3612aab6"
      },
      "execution_count": null,
      "outputs": [
        {
          "output_type": "execute_result",
          "data": {
            "text/plain": [
              "         total_sqft          bath       balcony         price           bhk  \\\n",
              "count  13274.000000  13320.000000  12711.000000  13320.000000  13320.000000   \n",
              "mean    1559.626694      2.688814      1.584376    112.565627      2.802778   \n",
              "std     1238.405258      1.338754      0.817263    148.971674      1.294496   \n",
              "min        1.000000      1.000000      0.000000      8.000000      1.000000   \n",
              "25%     1100.000000      2.000000      1.000000     50.000000      2.000000   \n",
              "50%     1276.000000      2.000000      2.000000     72.000000      3.000000   \n",
              "75%     1680.000000      3.000000      2.000000    120.000000      3.000000   \n",
              "max    52272.000000     40.000000      3.000000   3600.000000     43.000000   \n",
              "\n",
              "       price_per_sqft  \n",
              "count    1.327400e+04  \n",
              "mean     7.907501e+03  \n",
              "std      1.064296e+05  \n",
              "min      2.678298e+02  \n",
              "25%      4.266865e+03  \n",
              "50%      5.434306e+03  \n",
              "75%      7.311746e+03  \n",
              "max      1.200000e+07  "
            ],
            "text/html": [
              "\n",
              "  <div id=\"df-1e678ea9-4b93-4466-837f-c607b1813536\">\n",
              "    <div class=\"colab-df-container\">\n",
              "      <div>\n",
              "<style scoped>\n",
              "    .dataframe tbody tr th:only-of-type {\n",
              "        vertical-align: middle;\n",
              "    }\n",
              "\n",
              "    .dataframe tbody tr th {\n",
              "        vertical-align: top;\n",
              "    }\n",
              "\n",
              "    .dataframe thead th {\n",
              "        text-align: right;\n",
              "    }\n",
              "</style>\n",
              "<table border=\"1\" class=\"dataframe\">\n",
              "  <thead>\n",
              "    <tr style=\"text-align: right;\">\n",
              "      <th></th>\n",
              "      <th>total_sqft</th>\n",
              "      <th>bath</th>\n",
              "      <th>balcony</th>\n",
              "      <th>price</th>\n",
              "      <th>bhk</th>\n",
              "      <th>price_per_sqft</th>\n",
              "    </tr>\n",
              "  </thead>\n",
              "  <tbody>\n",
              "    <tr>\n",
              "      <th>count</th>\n",
              "      <td>13274.000000</td>\n",
              "      <td>13320.000000</td>\n",
              "      <td>12711.000000</td>\n",
              "      <td>13320.000000</td>\n",
              "      <td>13320.000000</td>\n",
              "      <td>1.327400e+04</td>\n",
              "    </tr>\n",
              "    <tr>\n",
              "      <th>mean</th>\n",
              "      <td>1559.626694</td>\n",
              "      <td>2.688814</td>\n",
              "      <td>1.584376</td>\n",
              "      <td>112.565627</td>\n",
              "      <td>2.802778</td>\n",
              "      <td>7.907501e+03</td>\n",
              "    </tr>\n",
              "    <tr>\n",
              "      <th>std</th>\n",
              "      <td>1238.405258</td>\n",
              "      <td>1.338754</td>\n",
              "      <td>0.817263</td>\n",
              "      <td>148.971674</td>\n",
              "      <td>1.294496</td>\n",
              "      <td>1.064296e+05</td>\n",
              "    </tr>\n",
              "    <tr>\n",
              "      <th>min</th>\n",
              "      <td>1.000000</td>\n",
              "      <td>1.000000</td>\n",
              "      <td>0.000000</td>\n",
              "      <td>8.000000</td>\n",
              "      <td>1.000000</td>\n",
              "      <td>2.678298e+02</td>\n",
              "    </tr>\n",
              "    <tr>\n",
              "      <th>25%</th>\n",
              "      <td>1100.000000</td>\n",
              "      <td>2.000000</td>\n",
              "      <td>1.000000</td>\n",
              "      <td>50.000000</td>\n",
              "      <td>2.000000</td>\n",
              "      <td>4.266865e+03</td>\n",
              "    </tr>\n",
              "    <tr>\n",
              "      <th>50%</th>\n",
              "      <td>1276.000000</td>\n",
              "      <td>2.000000</td>\n",
              "      <td>2.000000</td>\n",
              "      <td>72.000000</td>\n",
              "      <td>3.000000</td>\n",
              "      <td>5.434306e+03</td>\n",
              "    </tr>\n",
              "    <tr>\n",
              "      <th>75%</th>\n",
              "      <td>1680.000000</td>\n",
              "      <td>3.000000</td>\n",
              "      <td>2.000000</td>\n",
              "      <td>120.000000</td>\n",
              "      <td>3.000000</td>\n",
              "      <td>7.311746e+03</td>\n",
              "    </tr>\n",
              "    <tr>\n",
              "      <th>max</th>\n",
              "      <td>52272.000000</td>\n",
              "      <td>40.000000</td>\n",
              "      <td>3.000000</td>\n",
              "      <td>3600.000000</td>\n",
              "      <td>43.000000</td>\n",
              "      <td>1.200000e+07</td>\n",
              "    </tr>\n",
              "  </tbody>\n",
              "</table>\n",
              "</div>\n",
              "      <button class=\"colab-df-convert\" onclick=\"convertToInteractive('df-1e678ea9-4b93-4466-837f-c607b1813536')\"\n",
              "              title=\"Convert this dataframe to an interactive table.\"\n",
              "              style=\"display:none;\">\n",
              "        \n",
              "  <svg xmlns=\"http://www.w3.org/2000/svg\" height=\"24px\"viewBox=\"0 0 24 24\"\n",
              "       width=\"24px\">\n",
              "    <path d=\"M0 0h24v24H0V0z\" fill=\"none\"/>\n",
              "    <path d=\"M18.56 5.44l.94 2.06.94-2.06 2.06-.94-2.06-.94-.94-2.06-.94 2.06-2.06.94zm-11 1L8.5 8.5l.94-2.06 2.06-.94-2.06-.94L8.5 2.5l-.94 2.06-2.06.94zm10 10l.94 2.06.94-2.06 2.06-.94-2.06-.94-.94-2.06-.94 2.06-2.06.94z\"/><path d=\"M17.41 7.96l-1.37-1.37c-.4-.4-.92-.59-1.43-.59-.52 0-1.04.2-1.43.59L10.3 9.45l-7.72 7.72c-.78.78-.78 2.05 0 2.83L4 21.41c.39.39.9.59 1.41.59.51 0 1.02-.2 1.41-.59l7.78-7.78 2.81-2.81c.8-.78.8-2.07 0-2.86zM5.41 20L4 18.59l7.72-7.72 1.47 1.35L5.41 20z\"/>\n",
              "  </svg>\n",
              "      </button>\n",
              "      \n",
              "  <style>\n",
              "    .colab-df-container {\n",
              "      display:flex;\n",
              "      flex-wrap:wrap;\n",
              "      gap: 12px;\n",
              "    }\n",
              "\n",
              "    .colab-df-convert {\n",
              "      background-color: #E8F0FE;\n",
              "      border: none;\n",
              "      border-radius: 50%;\n",
              "      cursor: pointer;\n",
              "      display: none;\n",
              "      fill: #1967D2;\n",
              "      height: 32px;\n",
              "      padding: 0 0 0 0;\n",
              "      width: 32px;\n",
              "    }\n",
              "\n",
              "    .colab-df-convert:hover {\n",
              "      background-color: #E2EBFA;\n",
              "      box-shadow: 0px 1px 2px rgba(60, 64, 67, 0.3), 0px 1px 3px 1px rgba(60, 64, 67, 0.15);\n",
              "      fill: #174EA6;\n",
              "    }\n",
              "\n",
              "    [theme=dark] .colab-df-convert {\n",
              "      background-color: #3B4455;\n",
              "      fill: #D2E3FC;\n",
              "    }\n",
              "\n",
              "    [theme=dark] .colab-df-convert:hover {\n",
              "      background-color: #434B5C;\n",
              "      box-shadow: 0px 1px 3px 1px rgba(0, 0, 0, 0.15);\n",
              "      filter: drop-shadow(0px 1px 2px rgba(0, 0, 0, 0.3));\n",
              "      fill: #FFFFFF;\n",
              "    }\n",
              "  </style>\n",
              "\n",
              "      <script>\n",
              "        const buttonEl =\n",
              "          document.querySelector('#df-1e678ea9-4b93-4466-837f-c607b1813536 button.colab-df-convert');\n",
              "        buttonEl.style.display =\n",
              "          google.colab.kernel.accessAllowed ? 'block' : 'none';\n",
              "\n",
              "        async function convertToInteractive(key) {\n",
              "          const element = document.querySelector('#df-1e678ea9-4b93-4466-837f-c607b1813536');\n",
              "          const dataTable =\n",
              "            await google.colab.kernel.invokeFunction('convertToInteractive',\n",
              "                                                     [key], {});\n",
              "          if (!dataTable) return;\n",
              "\n",
              "          const docLinkHtml = 'Like what you see? Visit the ' +\n",
              "            '<a target=\"_blank\" href=https://colab.research.google.com/notebooks/data_table.ipynb>data table notebook</a>'\n",
              "            + ' to learn more about interactive tables.';\n",
              "          element.innerHTML = '';\n",
              "          dataTable['output_type'] = 'display_data';\n",
              "          await google.colab.output.renderOutput(dataTable, element);\n",
              "          const docLink = document.createElement('div');\n",
              "          docLink.innerHTML = docLinkHtml;\n",
              "          element.appendChild(docLink);\n",
              "        }\n",
              "      </script>\n",
              "    </div>\n",
              "  </div>\n",
              "  "
            ]
          },
          "metadata": {},
          "execution_count": 40
        }
      ]
    },
    {
      "cell_type": "code",
      "source": [
        "(data['total_sqft']/data['bhk']).describe()"
      ],
      "metadata": {
        "colab": {
          "base_uri": "https://localhost:8080/"
        },
        "id": "6H_xkemqV_78",
        "outputId": "de0abb32-0827-46d3-ce6f-2d608d3ebda2"
      },
      "execution_count": null,
      "outputs": [
        {
          "output_type": "execute_result",
          "data": {
            "text/plain": [
              "count    13274.000000\n",
              "mean       575.074878\n",
              "std        388.205175\n",
              "min          0.250000\n",
              "25%        473.333333\n",
              "50%        552.500000\n",
              "75%        625.000000\n",
              "max      26136.000000\n",
              "dtype: float64"
            ]
          },
          "metadata": {},
          "execution_count": 31
        }
      ]
    },
    {
      "cell_type": "code",
      "source": [
        "data=data[((data['total_sqft']/data['bhk']) >= 300)]\n",
        "data.describe()"
      ],
      "metadata": {
        "colab": {
          "base_uri": "https://localhost:8080/",
          "height": 300
        },
        "id": "j9dZEQAzWMLl",
        "outputId": "df016cbe-19d7-45df-eb33-19252590fb6b"
      },
      "execution_count": null,
      "outputs": [
        {
          "output_type": "execute_result",
          "data": {
            "text/plain": [
              "         total_sqft          bath       balcony         price           bhk  \\\n",
              "count  12530.000000  12530.000000  12014.000000  12530.000000  12530.000000   \n",
              "mean    1594.564544      2.559537      1.587648    111.382401      2.650838   \n",
              "std     1261.271296      1.077938      0.808842    152.077329      0.976678   \n",
              "min      300.000000      1.000000      0.000000      8.440000      1.000000   \n",
              "25%     1116.000000      2.000000      1.000000     49.000000      2.000000   \n",
              "50%     1300.000000      2.000000      2.000000     70.000000      3.000000   \n",
              "75%     1700.000000      3.000000      2.000000    115.000000      3.000000   \n",
              "max    52272.000000     16.000000      3.000000   3600.000000     16.000000   \n",
              "\n",
              "       price_per_sqft  \n",
              "count    12530.000000  \n",
              "mean      6303.979357  \n",
              "std       4162.237981  \n",
              "min        267.829813  \n",
              "25%       4210.526316  \n",
              "50%       5294.117647  \n",
              "75%       6916.666667  \n",
              "max     176470.588235  "
            ],
            "text/html": [
              "\n",
              "  <div id=\"df-146a19bc-62c2-478e-b09e-54fb2ca08249\">\n",
              "    <div class=\"colab-df-container\">\n",
              "      <div>\n",
              "<style scoped>\n",
              "    .dataframe tbody tr th:only-of-type {\n",
              "        vertical-align: middle;\n",
              "    }\n",
              "\n",
              "    .dataframe tbody tr th {\n",
              "        vertical-align: top;\n",
              "    }\n",
              "\n",
              "    .dataframe thead th {\n",
              "        text-align: right;\n",
              "    }\n",
              "</style>\n",
              "<table border=\"1\" class=\"dataframe\">\n",
              "  <thead>\n",
              "    <tr style=\"text-align: right;\">\n",
              "      <th></th>\n",
              "      <th>total_sqft</th>\n",
              "      <th>bath</th>\n",
              "      <th>balcony</th>\n",
              "      <th>price</th>\n",
              "      <th>bhk</th>\n",
              "      <th>price_per_sqft</th>\n",
              "    </tr>\n",
              "  </thead>\n",
              "  <tbody>\n",
              "    <tr>\n",
              "      <th>count</th>\n",
              "      <td>12530.000000</td>\n",
              "      <td>12530.000000</td>\n",
              "      <td>12014.000000</td>\n",
              "      <td>12530.000000</td>\n",
              "      <td>12530.000000</td>\n",
              "      <td>12530.000000</td>\n",
              "    </tr>\n",
              "    <tr>\n",
              "      <th>mean</th>\n",
              "      <td>1594.564544</td>\n",
              "      <td>2.559537</td>\n",
              "      <td>1.587648</td>\n",
              "      <td>111.382401</td>\n",
              "      <td>2.650838</td>\n",
              "      <td>6303.979357</td>\n",
              "    </tr>\n",
              "    <tr>\n",
              "      <th>std</th>\n",
              "      <td>1261.271296</td>\n",
              "      <td>1.077938</td>\n",
              "      <td>0.808842</td>\n",
              "      <td>152.077329</td>\n",
              "      <td>0.976678</td>\n",
              "      <td>4162.237981</td>\n",
              "    </tr>\n",
              "    <tr>\n",
              "      <th>min</th>\n",
              "      <td>300.000000</td>\n",
              "      <td>1.000000</td>\n",
              "      <td>0.000000</td>\n",
              "      <td>8.440000</td>\n",
              "      <td>1.000000</td>\n",
              "      <td>267.829813</td>\n",
              "    </tr>\n",
              "    <tr>\n",
              "      <th>25%</th>\n",
              "      <td>1116.000000</td>\n",
              "      <td>2.000000</td>\n",
              "      <td>1.000000</td>\n",
              "      <td>49.000000</td>\n",
              "      <td>2.000000</td>\n",
              "      <td>4210.526316</td>\n",
              "    </tr>\n",
              "    <tr>\n",
              "      <th>50%</th>\n",
              "      <td>1300.000000</td>\n",
              "      <td>2.000000</td>\n",
              "      <td>2.000000</td>\n",
              "      <td>70.000000</td>\n",
              "      <td>3.000000</td>\n",
              "      <td>5294.117647</td>\n",
              "    </tr>\n",
              "    <tr>\n",
              "      <th>75%</th>\n",
              "      <td>1700.000000</td>\n",
              "      <td>3.000000</td>\n",
              "      <td>2.000000</td>\n",
              "      <td>115.000000</td>\n",
              "      <td>3.000000</td>\n",
              "      <td>6916.666667</td>\n",
              "    </tr>\n",
              "    <tr>\n",
              "      <th>max</th>\n",
              "      <td>52272.000000</td>\n",
              "      <td>16.000000</td>\n",
              "      <td>3.000000</td>\n",
              "      <td>3600.000000</td>\n",
              "      <td>16.000000</td>\n",
              "      <td>176470.588235</td>\n",
              "    </tr>\n",
              "  </tbody>\n",
              "</table>\n",
              "</div>\n",
              "      <button class=\"colab-df-convert\" onclick=\"convertToInteractive('df-146a19bc-62c2-478e-b09e-54fb2ca08249')\"\n",
              "              title=\"Convert this dataframe to an interactive table.\"\n",
              "              style=\"display:none;\">\n",
              "        \n",
              "  <svg xmlns=\"http://www.w3.org/2000/svg\" height=\"24px\"viewBox=\"0 0 24 24\"\n",
              "       width=\"24px\">\n",
              "    <path d=\"M0 0h24v24H0V0z\" fill=\"none\"/>\n",
              "    <path d=\"M18.56 5.44l.94 2.06.94-2.06 2.06-.94-2.06-.94-.94-2.06-.94 2.06-2.06.94zm-11 1L8.5 8.5l.94-2.06 2.06-.94-2.06-.94L8.5 2.5l-.94 2.06-2.06.94zm10 10l.94 2.06.94-2.06 2.06-.94-2.06-.94-.94-2.06-.94 2.06-2.06.94z\"/><path d=\"M17.41 7.96l-1.37-1.37c-.4-.4-.92-.59-1.43-.59-.52 0-1.04.2-1.43.59L10.3 9.45l-7.72 7.72c-.78.78-.78 2.05 0 2.83L4 21.41c.39.39.9.59 1.41.59.51 0 1.02-.2 1.41-.59l7.78-7.78 2.81-2.81c.8-.78.8-2.07 0-2.86zM5.41 20L4 18.59l7.72-7.72 1.47 1.35L5.41 20z\"/>\n",
              "  </svg>\n",
              "      </button>\n",
              "      \n",
              "  <style>\n",
              "    .colab-df-container {\n",
              "      display:flex;\n",
              "      flex-wrap:wrap;\n",
              "      gap: 12px;\n",
              "    }\n",
              "\n",
              "    .colab-df-convert {\n",
              "      background-color: #E8F0FE;\n",
              "      border: none;\n",
              "      border-radius: 50%;\n",
              "      cursor: pointer;\n",
              "      display: none;\n",
              "      fill: #1967D2;\n",
              "      height: 32px;\n",
              "      padding: 0 0 0 0;\n",
              "      width: 32px;\n",
              "    }\n",
              "\n",
              "    .colab-df-convert:hover {\n",
              "      background-color: #E2EBFA;\n",
              "      box-shadow: 0px 1px 2px rgba(60, 64, 67, 0.3), 0px 1px 3px 1px rgba(60, 64, 67, 0.15);\n",
              "      fill: #174EA6;\n",
              "    }\n",
              "\n",
              "    [theme=dark] .colab-df-convert {\n",
              "      background-color: #3B4455;\n",
              "      fill: #D2E3FC;\n",
              "    }\n",
              "\n",
              "    [theme=dark] .colab-df-convert:hover {\n",
              "      background-color: #434B5C;\n",
              "      box-shadow: 0px 1px 3px 1px rgba(0, 0, 0, 0.15);\n",
              "      filter: drop-shadow(0px 1px 2px rgba(0, 0, 0, 0.3));\n",
              "      fill: #FFFFFF;\n",
              "    }\n",
              "  </style>\n",
              "\n",
              "      <script>\n",
              "        const buttonEl =\n",
              "          document.querySelector('#df-146a19bc-62c2-478e-b09e-54fb2ca08249 button.colab-df-convert');\n",
              "        buttonEl.style.display =\n",
              "          google.colab.kernel.accessAllowed ? 'block' : 'none';\n",
              "\n",
              "        async function convertToInteractive(key) {\n",
              "          const element = document.querySelector('#df-146a19bc-62c2-478e-b09e-54fb2ca08249');\n",
              "          const dataTable =\n",
              "            await google.colab.kernel.invokeFunction('convertToInteractive',\n",
              "                                                     [key], {});\n",
              "          if (!dataTable) return;\n",
              "\n",
              "          const docLinkHtml = 'Like what you see? Visit the ' +\n",
              "            '<a target=\"_blank\" href=https://colab.research.google.com/notebooks/data_table.ipynb>data table notebook</a>'\n",
              "            + ' to learn more about interactive tables.';\n",
              "          element.innerHTML = '';\n",
              "          dataTable['output_type'] = 'display_data';\n",
              "          await google.colab.output.renderOutput(dataTable, element);\n",
              "          const docLink = document.createElement('div');\n",
              "          docLink.innerHTML = docLinkHtml;\n",
              "          element.appendChild(docLink);\n",
              "        }\n",
              "      </script>\n",
              "    </div>\n",
              "  </div>\n",
              "  "
            ]
          },
          "metadata": {},
          "execution_count": 32
        }
      ]
    },
    {
      "cell_type": "code",
      "source": [
        "data.shape"
      ],
      "metadata": {
        "colab": {
          "base_uri": "https://localhost:8080/"
        },
        "id": "12PFnUygWxSv",
        "outputId": "7fe8375b-fedb-487f-fe33-091f70cfed36"
      },
      "execution_count": null,
      "outputs": [
        {
          "output_type": "execute_result",
          "data": {
            "text/plain": [
              "(12530, 9)"
            ]
          },
          "metadata": {},
          "execution_count": 43
        }
      ]
    },
    {
      "cell_type": "code",
      "source": [
        "data.price_per_sqft.describe()"
      ],
      "metadata": {
        "colab": {
          "base_uri": "https://localhost:8080/"
        },
        "id": "DwTKWEaBXHsx",
        "outputId": "9ef2a6ff-9d32-4735-969d-e71f50f75daf"
      },
      "execution_count": null,
      "outputs": [
        {
          "output_type": "execute_result",
          "data": {
            "text/plain": [
              "count     12530.000000\n",
              "mean       6303.979357\n",
              "std        4162.237981\n",
              "min         267.829813\n",
              "25%        4210.526316\n",
              "50%        5294.117647\n",
              "75%        6916.666667\n",
              "max      176470.588235\n",
              "Name: price_per_sqft, dtype: float64"
            ]
          },
          "metadata": {},
          "execution_count": 33
        }
      ]
    },
    {
      "cell_type": "code",
      "source": [
        "def remove_outliers_sqft(df):\n",
        "  df_output = pd.DataFrame()\n",
        "  for key,subdf in df.groupby('location'):\n",
        "    m = np.mean(subdf.price_per_sqft)\n",
        "\n",
        "    st = np.std(subdf.price_per_sqft)\n",
        "\n",
        "    gen_df = subdf[(subdf.price_per_sqft > (m-st)) & (subdf.price_per_sqft <= (m+st))]\n",
        "    df_output = pd.concat([df_output,gen_df],ignore_index= True)\n",
        "  return df_output \n",
        "data = remove_outliers_sqft(data)\n",
        "data.describe()    "
      ],
      "metadata": {
        "id": "olCUqA_HXdv2",
        "colab": {
          "base_uri": "https://localhost:8080/",
          "height": 300
        },
        "outputId": "32c89da6-d3f1-4e3a-fa12-04d6328f7de9"
      },
      "execution_count": null,
      "outputs": [
        {
          "output_type": "execute_result",
          "data": {
            "text/plain": [
              "         total_sqft          bath      balcony         price           bhk  \\\n",
              "count  10301.000000  10301.000000  9933.000000  10301.000000  10301.000000   \n",
              "mean    1508.440608      2.471702     1.592973     91.286372      2.574896   \n",
              "std      880.694214      0.979449     0.796905     86.342786      0.897649   \n",
              "min      300.000000      1.000000     0.000000     10.000000      1.000000   \n",
              "25%     1110.000000      2.000000     1.000000     49.000000      2.000000   \n",
              "50%     1286.000000      2.000000     2.000000     67.000000      2.000000   \n",
              "75%     1650.000000      3.000000     2.000000    100.000000      3.000000   \n",
              "max    30400.000000     16.000000     3.000000   2200.000000     16.000000   \n",
              "\n",
              "       price_per_sqft  \n",
              "count    10301.000000  \n",
              "mean      5659.062876  \n",
              "std       2265.774749  \n",
              "min       1250.000000  \n",
              "25%       4244.897959  \n",
              "50%       5175.600739  \n",
              "75%       6428.571429  \n",
              "max      24509.803922  "
            ],
            "text/html": [
              "\n",
              "  <div id=\"df-e6f3a7ed-8d9f-4a00-850d-c0c949b36409\">\n",
              "    <div class=\"colab-df-container\">\n",
              "      <div>\n",
              "<style scoped>\n",
              "    .dataframe tbody tr th:only-of-type {\n",
              "        vertical-align: middle;\n",
              "    }\n",
              "\n",
              "    .dataframe tbody tr th {\n",
              "        vertical-align: top;\n",
              "    }\n",
              "\n",
              "    .dataframe thead th {\n",
              "        text-align: right;\n",
              "    }\n",
              "</style>\n",
              "<table border=\"1\" class=\"dataframe\">\n",
              "  <thead>\n",
              "    <tr style=\"text-align: right;\">\n",
              "      <th></th>\n",
              "      <th>total_sqft</th>\n",
              "      <th>bath</th>\n",
              "      <th>balcony</th>\n",
              "      <th>price</th>\n",
              "      <th>bhk</th>\n",
              "      <th>price_per_sqft</th>\n",
              "    </tr>\n",
              "  </thead>\n",
              "  <tbody>\n",
              "    <tr>\n",
              "      <th>count</th>\n",
              "      <td>10301.000000</td>\n",
              "      <td>10301.000000</td>\n",
              "      <td>9933.000000</td>\n",
              "      <td>10301.000000</td>\n",
              "      <td>10301.000000</td>\n",
              "      <td>10301.000000</td>\n",
              "    </tr>\n",
              "    <tr>\n",
              "      <th>mean</th>\n",
              "      <td>1508.440608</td>\n",
              "      <td>2.471702</td>\n",
              "      <td>1.592973</td>\n",
              "      <td>91.286372</td>\n",
              "      <td>2.574896</td>\n",
              "      <td>5659.062876</td>\n",
              "    </tr>\n",
              "    <tr>\n",
              "      <th>std</th>\n",
              "      <td>880.694214</td>\n",
              "      <td>0.979449</td>\n",
              "      <td>0.796905</td>\n",
              "      <td>86.342786</td>\n",
              "      <td>0.897649</td>\n",
              "      <td>2265.774749</td>\n",
              "    </tr>\n",
              "    <tr>\n",
              "      <th>min</th>\n",
              "      <td>300.000000</td>\n",
              "      <td>1.000000</td>\n",
              "      <td>0.000000</td>\n",
              "      <td>10.000000</td>\n",
              "      <td>1.000000</td>\n",
              "      <td>1250.000000</td>\n",
              "    </tr>\n",
              "    <tr>\n",
              "      <th>25%</th>\n",
              "      <td>1110.000000</td>\n",
              "      <td>2.000000</td>\n",
              "      <td>1.000000</td>\n",
              "      <td>49.000000</td>\n",
              "      <td>2.000000</td>\n",
              "      <td>4244.897959</td>\n",
              "    </tr>\n",
              "    <tr>\n",
              "      <th>50%</th>\n",
              "      <td>1286.000000</td>\n",
              "      <td>2.000000</td>\n",
              "      <td>2.000000</td>\n",
              "      <td>67.000000</td>\n",
              "      <td>2.000000</td>\n",
              "      <td>5175.600739</td>\n",
              "    </tr>\n",
              "    <tr>\n",
              "      <th>75%</th>\n",
              "      <td>1650.000000</td>\n",
              "      <td>3.000000</td>\n",
              "      <td>2.000000</td>\n",
              "      <td>100.000000</td>\n",
              "      <td>3.000000</td>\n",
              "      <td>6428.571429</td>\n",
              "    </tr>\n",
              "    <tr>\n",
              "      <th>max</th>\n",
              "      <td>30400.000000</td>\n",
              "      <td>16.000000</td>\n",
              "      <td>3.000000</td>\n",
              "      <td>2200.000000</td>\n",
              "      <td>16.000000</td>\n",
              "      <td>24509.803922</td>\n",
              "    </tr>\n",
              "  </tbody>\n",
              "</table>\n",
              "</div>\n",
              "      <button class=\"colab-df-convert\" onclick=\"convertToInteractive('df-e6f3a7ed-8d9f-4a00-850d-c0c949b36409')\"\n",
              "              title=\"Convert this dataframe to an interactive table.\"\n",
              "              style=\"display:none;\">\n",
              "        \n",
              "  <svg xmlns=\"http://www.w3.org/2000/svg\" height=\"24px\"viewBox=\"0 0 24 24\"\n",
              "       width=\"24px\">\n",
              "    <path d=\"M0 0h24v24H0V0z\" fill=\"none\"/>\n",
              "    <path d=\"M18.56 5.44l.94 2.06.94-2.06 2.06-.94-2.06-.94-.94-2.06-.94 2.06-2.06.94zm-11 1L8.5 8.5l.94-2.06 2.06-.94-2.06-.94L8.5 2.5l-.94 2.06-2.06.94zm10 10l.94 2.06.94-2.06 2.06-.94-2.06-.94-.94-2.06-.94 2.06-2.06.94z\"/><path d=\"M17.41 7.96l-1.37-1.37c-.4-.4-.92-.59-1.43-.59-.52 0-1.04.2-1.43.59L10.3 9.45l-7.72 7.72c-.78.78-.78 2.05 0 2.83L4 21.41c.39.39.9.59 1.41.59.51 0 1.02-.2 1.41-.59l7.78-7.78 2.81-2.81c.8-.78.8-2.07 0-2.86zM5.41 20L4 18.59l7.72-7.72 1.47 1.35L5.41 20z\"/>\n",
              "  </svg>\n",
              "      </button>\n",
              "      \n",
              "  <style>\n",
              "    .colab-df-container {\n",
              "      display:flex;\n",
              "      flex-wrap:wrap;\n",
              "      gap: 12px;\n",
              "    }\n",
              "\n",
              "    .colab-df-convert {\n",
              "      background-color: #E8F0FE;\n",
              "      border: none;\n",
              "      border-radius: 50%;\n",
              "      cursor: pointer;\n",
              "      display: none;\n",
              "      fill: #1967D2;\n",
              "      height: 32px;\n",
              "      padding: 0 0 0 0;\n",
              "      width: 32px;\n",
              "    }\n",
              "\n",
              "    .colab-df-convert:hover {\n",
              "      background-color: #E2EBFA;\n",
              "      box-shadow: 0px 1px 2px rgba(60, 64, 67, 0.3), 0px 1px 3px 1px rgba(60, 64, 67, 0.15);\n",
              "      fill: #174EA6;\n",
              "    }\n",
              "\n",
              "    [theme=dark] .colab-df-convert {\n",
              "      background-color: #3B4455;\n",
              "      fill: #D2E3FC;\n",
              "    }\n",
              "\n",
              "    [theme=dark] .colab-df-convert:hover {\n",
              "      background-color: #434B5C;\n",
              "      box-shadow: 0px 1px 3px 1px rgba(0, 0, 0, 0.15);\n",
              "      filter: drop-shadow(0px 1px 2px rgba(0, 0, 0, 0.3));\n",
              "      fill: #FFFFFF;\n",
              "    }\n",
              "  </style>\n",
              "\n",
              "      <script>\n",
              "        const buttonEl =\n",
              "          document.querySelector('#df-e6f3a7ed-8d9f-4a00-850d-c0c949b36409 button.colab-df-convert');\n",
              "        buttonEl.style.display =\n",
              "          google.colab.kernel.accessAllowed ? 'block' : 'none';\n",
              "\n",
              "        async function convertToInteractive(key) {\n",
              "          const element = document.querySelector('#df-e6f3a7ed-8d9f-4a00-850d-c0c949b36409');\n",
              "          const dataTable =\n",
              "            await google.colab.kernel.invokeFunction('convertToInteractive',\n",
              "                                                     [key], {});\n",
              "          if (!dataTable) return;\n",
              "\n",
              "          const docLinkHtml = 'Like what you see? Visit the ' +\n",
              "            '<a target=\"_blank\" href=https://colab.research.google.com/notebooks/data_table.ipynb>data table notebook</a>'\n",
              "            + ' to learn more about interactive tables.';\n",
              "          element.innerHTML = '';\n",
              "          dataTable['output_type'] = 'display_data';\n",
              "          await google.colab.output.renderOutput(dataTable, element);\n",
              "          const docLink = document.createElement('div');\n",
              "          docLink.innerHTML = docLinkHtml;\n",
              "          element.appendChild(docLink);\n",
              "        }\n",
              "      </script>\n",
              "    </div>\n",
              "  </div>\n",
              "  "
            ]
          },
          "metadata": {},
          "execution_count": 34
        }
      ]
    },
    {
      "cell_type": "code",
      "source": [
        "def bhk_outlier_remover(df):\n",
        "  exclude_indices = np.array([])\n",
        "  for location, location_df in df.groupby('location'):\n",
        "    bhk_stats={}\n",
        "    for bhk, bhk_df in location_df.groupby('bhk'):\n",
        "      bhk_stats[bhk] = {\n",
        "          'mean': np.mean(bhk_df.price_per_sqft),\n",
        "          'std': np.std(bhk_df.price_per_sqft),\n",
        "          'count' : bhk_df.shape[0]\n",
        "      }\n",
        "    print(location,bhk_stats)\n",
        "    # for bhk, bhk_df in location_df.groupby('bhk'):\n",
        "    #   stats = bhk_stats.get(bhk - 1)\n",
        "    #   if stats and stats['count']>5:\n",
        "    #     exclude_indices= np.append(exclude_indices, bhk_df[bhk_df.price_per_sqft<(stats['mean'])].index.values)\n",
        "  return df.drop(exclude_indices,axis='index')      "
      ],
      "metadata": {
        "id": "rkDANUToIKdG"
      },
      "execution_count": null,
      "outputs": []
    },
    {
      "cell_type": "code",
      "source": [
        "data=bhk_outlier_remover(data)"
      ],
      "metadata": {
        "colab": {
          "base_uri": "https://localhost:8080/"
        },
        "id": "QGP6M7tyLSDS",
        "outputId": "95807313-4a7d-4971-d16c-d1233b2fd055"
      },
      "execution_count": null,
      "outputs": [
        {
          "output_type": "stream",
          "name": "stdout",
          "text": [
            "1st Block Jayanagar {2: {'mean': 11983.805668016194, 'std': 0.0, 'count': 1}, 3: {'mean': 11756.16905248807, 'std': 701.6243657657865, 'count': 3}, 4: {'mean': 15018.711280365416, 'std': 1.2278182423353805, 'count': 3}}\n",
            "1st Phase JP Nagar {1: {'mean': 5952.380952380952, 'std': 0.0, 'count': 1}, 2: {'mean': 7931.806799837383, 'std': 1534.1422783514056, 'count': 8}, 3: {'mean': 9151.192151725822, 'std': 1054.731726021645, 'count': 7}, 4: {'mean': 7537.92218148637, 'std': 1607.0591069513537, 'count': 3}, 5: {'mean': 5666.666666666667, 'std': 0.0, 'count': 1}}\n",
            "2nd Phase Judicial Layout {2: {'mean': 3851.8518518518517, 'std': 497.593660834978, 'count': 3}, 3: {'mean': 3620.93991671624, 'std': 241.87983343248052, 'count': 5}}\n",
            "2nd Stage Nagarbhavi {4: {'mean': 15891.203703703704, 'std': 1668.9846920398563, 'count': 4}, 6: {'mean': 16891.666666666668, 'std': 1858.333333333333, 'count': 2}}\n",
            "5th Block Hbr Layout {2: {'mean': 4755.410708222867, 'std': 374.06419031565235, 'count': 3}, 3: {'mean': 5511.811023622047, 'std': 0.0, 'count': 1}, 5: {'mean': 3611.1111111111113, 'std': 0.0, 'count': 1}, 6: {'mean': 5882.35294117647, 'std': 0.0, 'count': 1}}\n",
            "5th Phase JP Nagar {1: {'mean': 4628.623188405797, 'std': 371.376811594203, 'count': 2}, 2: {'mean': 5067.359785883266, 'std': 453.24956183513086, 'count': 17}, 3: {'mean': 5112.892626961968, 'std': 526.8794907246175, 'count': 8}, 5: {'mean': 4325.0, 'std': 75.0, 'count': 2}}\n",
            "6th Phase JP Nagar {2: {'mean': 5932.976565810137, 'std': 671.9347030151997, 'count': 8}, 3: {'mean': 8403.2863080867, 'std': 1515.4146231166221, 'count': 5}, 4: {'mean': 7704.160246533128, 'std': 0.0, 'count': 1}}\n",
            "7th Phase JP Nagar {1: {'mean': 6133.333333333334, 'std': 133.33333333333348, 'count': 2}, 2: {'mean': 6272.516842644273, 'std': 1012.7881476778178, 'count': 40}, 3: {'mean': 6612.861682598103, 'std': 1181.6582893458344, 'count': 57}, 4: {'mean': 6028.22068063778, 'std': 1482.7661351832348, 'count': 2}}\n",
            "8th Phase JP Nagar {1: {'mean': 6357.427937915743, 'std': 267.1694064501245, 'count': 4}, 2: {'mean': 4324.406715739656, 'std': 1131.8308808521078, 'count': 22}, 3: {'mean': 4293.744876160689, 'std': 723.4267508470379, 'count': 17}, 4: {'mean': 4539.6147062813725, 'std': 195.35428340140427, 'count': 3}, 5: {'mean': 4335.260115606937, 'std': 0.0, 'count': 1}}\n",
            "9th Phase JP Nagar {1: {'mean': 3333.3333333333335, 'std': 0.0, 'count': 1}, 2: {'mean': 4653.05138390364, 'std': 834.4408302683471, 'count': 20}, 3: {'mean': 4518.339436369508, 'std': 790.2476753262926, 'count': 9}, 4: {'mean': 5336.8421052631575, 'std': 800.5999597024291, 'count': 3}}\n",
            "AECS Layout {2: {'mean': 4921.300339526721, 'std': 619.6355499375203, 'count': 7}, 3: {'mean': 4500.0, 'std': 0.0, 'count': 1}}\n",
            "Abbigere {1: {'mean': 3310.9205535075066, 'std': 610.6480739434737, 'count': 2}, 2: {'mean': 4058.165803016323, 'std': 62.235187280114864, 'count': 13}, 3: {'mean': 3571.4285714285716, 'std': 0.0, 'count': 1}, 6: {'mean': 3165.4545454545455, 'std': 74.5454545454545, 'count': 2}, 8: {'mean': 5000.0, 'std': 0.0, 'count': 1}}\n",
            "Akshaya Nagar {2: {'mean': 4781.22783734999, 'std': 453.10974836521865, 'count': 17}, 3: {'mean': 5294.361032273932, 'std': 513.4396107693667, 'count': 30}}\n",
            "Ambalipura {1: {'mean': 5690.909090909091, 'std': 0.0, 'count': 1}, 2: {'mean': 5886.737386783397, 'std': 736.0640513407117, 'count': 10}, 3: {'mean': 6331.134555298749, 'std': 569.718562351169, 'count': 7}, 4: {'mean': 5503.386809269163, 'std': 339.75044563279835, 'count': 2}}\n",
            "Ambedkar Nagar {2: {'mean': 6454.091928430547, 'std': 182.0843219299883, 'count': 5}, 3: {'mean': 6572.746532916982, 'std': 422.13464472691317, 'count': 19}, 4: {'mean': 7684.086312870249, 'std': 531.2111375546801, 'count': 2}}\n",
            "Amruthahalli {1: {'mean': 4020.618556701031, 'std': 0.0, 'count': 1}, 2: {'mean': 4953.838379629301, 'std': 823.6966143070669, 'count': 12}, 3: {'mean': 5574.846418310635, 'std': 1077.4444900329127, 'count': 7}}\n",
            "Anandapura {2: {'mean': 4335.741837049203, 'std': 710.6695705040866, 'count': 14}, 3: {'mean': 4376.900862764794, 'std': 811.4741024839058, 'count': 5}, 4: {'mean': 5145.797598627787, 'std': 0.0, 'count': 1}}\n",
            "Ananth Nagar {1: {'mean': 2800.0, 'std': 0.0, 'count': 4}, 2: {'mean': 3015.4242497371583, 'std': 491.5389870277812, 'count': 19}, 3: {'mean': 3239.9055148973916, 'std': 333.6052126335633, 'count': 3}}\n",
            "Anekal {1: {'mean': 3307.549188983317, 'std': 602.8526665064047, 'count': 6}, 2: {'mean': 3418.531131818201, 'std': 543.1514964904059, 'count': 22}, 3: {'mean': 4075.680581158921, 'std': 340.19143395777115, 'count': 4}, 4: {'mean': 3000.0, 'std': 0.0, 'count': 1}}\n",
            "Anjanapura {2: {'mean': 3451.5654968214635, 'std': 402.7964034804156, 'count': 7}, 3: {'mean': 4783.11324361657, 'std': 2019.9576386770505, 'count': 4}, 4: {'mean': 3852.102102102102, 'std': 796.5465465465463, 'count': 2}}\n",
            "Ardendale {2: {'mean': 5596.405228758171, 'std': 122.54901960784309, 'count': 2}, 3: {'mean': 5378.1844320453965, 'std': 324.88136834734956, 'count': 10}, 4: {'mean': 6445.687085352693, 'std': 663.0498079730814, 'count': 7}}\n",
            "Arekere {1: {'mean': 4666.666666666667, 'std': 0.0, 'count': 1}, 2: {'mean': 4884.730750645279, 'std': 371.1132245946985, 'count': 6}, 3: {'mean': 5822.747277384037, 'std': 695.6480303741811, 'count': 3}, 4: {'mean': 5239.852398523985, 'std': 0.0, 'count': 1}}\n",
            "Attibele {1: {'mean': 2823.0512983538965, 'std': 440.8851261837879, 'count': 18}, 2: {'mean': 3204.1609520225234, 'std': 617.2070386969107, 'count': 12}, 3: {'mean': 4330.95861895704, 'std': 1307.8696742735906, 'count': 4}, 4: {'mean': 3840.959409594096, 'std': 540.9594095940961, 'count': 2}}\n",
            "BEML Layout {2: {'mean': 5944.048212904286, 'std': 1628.8084083258766, 'count': 6}, 3: {'mean': 4250.0, 'std': 0.0, 'count': 4}, 5: {'mean': 9375.0, 'std': 0.0, 'count': 1}}\n",
            "BTM 2nd Stage {2: {'mean': 5621.791028153005, 'std': 795.7682556051348, 'count': 14}, 3: {'mean': 10282.08598547458, 'std': 3831.7704948598844, 'count': 9}, 5: {'mean': 13913.04347826087, 'std': 0.0, 'count': 1}}\n",
            "BTM Layout {1: {'mean': 4444.444444444444, 'std': 0.0, 'count': 1}, 2: {'mean': 5073.776447337828, 'std': 424.90705275056126, 'count': 4}, 3: {'mean': 5685.2029893641175, 'std': 881.6401846985812, 'count': 7}, 6: {'mean': 5000.0, 'std': 0.0, 'count': 1}}\n",
            "Babusapalaya {2: {'mean': 3799.9594889549185, 'std': 423.8304869618116, 'count': 11}, 3: {'mean': 3669.941030877054, 'std': 601.932707346431, 'count': 10}}\n",
            "Badavala Nagar {2: {'mean': 6357.9277864992155, 'std': 0.0, 'count': 2}, 3: {'mean': 6279.828480978357, 'std': 42.27887875035828, 'count': 7}}\n",
            "Balagere {1: {'mean': 5865.01000449379, 'std': 539.315075028032, 'count': 9}, 2: {'mean': 6191.495143186286, 'std': 543.3822583816924, 'count': 28}}\n",
            "Banashankari {1: {'mean': 8333.333333333334, 'std': 0.0, 'count': 2}, 2: {'mean': 5038.253269278571, 'std': 1168.5163463486567, 'count': 31}, 3: {'mean': 5817.282245183152, 'std': 1663.833391137828, 'count': 29}, 4: {'mean': 3800.0, 'std': 0.0, 'count': 1}}\n",
            "Banashankari Stage II {2: {'mean': 8701.636799298034, 'std': 1030.287972433991, 'count': 4}, 3: {'mean': 10723.280423280425, 'std': 4231.90962768462, 'count': 6}, 4: {'mean': 12500.0, 'std': 0.0, 'count': 1}, 5: {'mean': 18214.285714285714, 'std': 3035.7142857142853, 'count': 2}}\n",
            "Banashankari Stage III {2: {'mean': 5430.250387687147, 'std': 1871.4365421808766, 'count': 4}, 3: {'mean': 5330.43635317069, 'std': 1014.1370099612311, 'count': 10}, 4: {'mean': 7333.333333333333, 'std': 2054.8046676563254, 'count': 3}, 6: {'mean': 5000.0, 'std': 0.0, 'count': 1}}\n",
            "Banashankari Stage V {2: {'mean': 3983.4541062801936, 'std': 527.4154589371976, 'count': 2}, 3: {'mean': 3581.57134026118, 'std': 544.8260330690271, 'count': 9}}\n",
            "Banashankari Stage VI {2: {'mean': 5072.0195454829345, 'std': 22.81429179660186, 'count': 3}, 3: {'mean': 5006.925310122253, 'std': 23.924063833179062, 'count': 3}, 4: {'mean': 5041.801948051948, 'std': 2237.063491984229, 'count': 4}}\n",
            "Banaswadi {1: {'mean': 6641.366223908918, 'std': 0.0, 'count': 1}, 2: {'mean': 5110.715347907356, 'std': 582.5694084547944, 'count': 10}, 3: {'mean': 4656.25, 'std': 0.0, 'count': 1}, 5: {'mean': 7356.8050446663165, 'std': 0.0, 'count': 1}}\n",
            "Banjara Layout {2: {'mean': 6635.496110794916, 'std': 905.9365352849989, 'count': 3}, 3: {'mean': 5600.0, 'std': 0.0, 'count': 1}}\n",
            "Bannerghatta {2: {'mean': 6630.037324398989, 'std': 872.6962508901346, 'count': 4}, 3: {'mean': 7565.595658950089, 'std': 786.4254337865935, 'count': 4}, 4: {'mean': 8398.03739052883, 'std': 97.90458840399697, 'count': 2}}\n",
            "Bannerghatta Road {1: {'mean': 4932.455648926237, 'std': 741.987966876004, 'count': 5}, 2: {'mean': 5156.722324231199, 'std': 951.851933786921, 'count': 59}, 3: {'mean': 5384.498056381959, 'std': 1219.6689012468119, 'count': 71}, 4: {'mean': 5968.786895986739, 'std': 1737.4673135012401, 'count': 8}, 5: {'mean': 5851.851851851852, 'std': 0.0, 'count': 1}, 6: {'mean': 8108.108108108108, 'std': 0.0, 'count': 1}}\n",
            "Basavangudi {2: {'mean': 9700.42512839123, 'std': 665.8646001174526, 'count': 6}, 3: {'mean': 9210.853069429275, 'std': 904.4272935920624, 'count': 10}, 4: {'mean': 10095.80105992662, 'std': 95.80105992662084, 'count': 2}}\n",
            "Basaveshwara Nagar {2: {'mean': 6750.0, 'std': 552.7707983925667, 'count': 5}, 3: {'mean': 7834.767884859602, 'std': 59.968957245661386, 'count': 2}, 5: {'mean': 11069.444444444445, 'std': 1847.2222222222217, 'count': 2}}\n",
            "Battarahalli {2: {'mean': 4345.7243068848575, 'std': 823.6340914029164, 'count': 9}, 3: {'mean': 5015.40017552159, 'std': 337.7428143761158, 'count': 8}}\n",
            "Begur {2: {'mean': 4961.668185533498, 'std': 39.10751993914706, 'count': 3}, 3: {'mean': 4510.654979278204, 'std': 599.1143016556773, 'count': 9}, 4: {'mean': 3906.25, 'std': 0.0, 'count': 1}}\n",
            "Begur Road {2: {'mean': 3624.166282880882, 'std': 262.3730178311292, 'count': 35}, 3: {'mean': 3684.8720181009558, 'std': 378.82522322146735, 'count': 28}, 4: {'mean': 4787.9894501927365, 'std': 0.0, 'count': 1}}\n",
            "Bellandur {1: {'mean': 4210.526315789473, 'std': 0.0, 'count': 1}, 2: {'mean': 5116.644099551324, 'std': 1016.3979870126873, 'count': 52}, 3: {'mean': 5647.571810653258, 'std': 1127.9673046785176, 'count': 31}, 4: {'mean': 6759.122130530177, 'std': 845.9579630611066, 'count': 4}}\n",
            "Benson Town {2: {'mean': 12686.709975197631, 'std': 3611.8164390019756, 'count': 4}, 3: {'mean': 14313.731148045554, 'std': 2420.56421489562, 'count': 3}, 4: {'mean': 14856.497304850036, 'std': 282.5062734599014, 'count': 2}}\n",
            "Bharathi Nagar {2: {'mean': 4813.740209190311, 'std': 471.43026983759114, 'count': 8}, 3: {'mean': 4200.120192307692, 'std': 0.0, 'count': 1}}\n",
            "Bhoganhalli {2: {'mean': 5417.416718889453, 'std': 285.36806332317167, 'count': 12}, 3: {'mean': 6125.4200445093, 'std': 899.1112373435706, 'count': 13}, 4: {'mean': 5777.756745789307, 'std': 871.3161320532748, 'count': 11}}\n",
            "Billekahalli {2: {'mean': 5962.1264143650205, 'std': 952.8379048046246, 'count': 7}, 3: {'mean': 6179.829109009818, 'std': 1029.8742088847782, 'count': 6}}\n",
            "Binny Pete {1: {'mean': 8034.164957849169, 'std': 901.878395083154, 'count': 4}, 2: {'mean': 7933.924709828325, 'std': 1003.8042279006136, 'count': 2}, 3: {'mean': 8471.722137179819, 'std': 951.1093605219069, 'count': 6}, 4: {'mean': 8382.135462880804, 'std': 1141.674060928719, 'count': 2}}\n",
            "Bisuvanahalli {2: {'mean': 3863.8012733035357, 'std': 405.2872025065846, 'count': 12}, 3: {'mean': 4006.5825354643744, 'std': 468.0230389083769, 'count': 31}}\n",
            "Bommanahalli {1: {'mean': 4302.184466019417, 'std': 552.1844660194174, 'count': 2}, 2: {'mean': 4544.41960101665, 'std': 569.7400942075514, 'count': 9}, 3: {'mean': 4254.328104328105, 'std': 505.922183603648, 'count': 4}, 4: {'mean': 4047.6190476190477, 'std': 0.0, 'count': 1}, 8: {'mean': 4666.666666666667, 'std': 0.0, 'count': 1}}\n",
            "Bommasandra {2: {'mean': 3813.947572153106, 'std': 244.236658864445, 'count': 19}, 3: {'mean': 3815.8530659565145, 'std': 403.8116627539011, 'count': 11}}\n",
            "Bommasandra Industrial Area {2: {'mean': 2887.892987573868, 'std': 0.47920744469383775, 'count': 11}, 3: {'mean': 2863.160206574431, 'std': 59.9654742104211, 'count': 7}}\n",
            "Bommenahalli {3: {'mean': 8565.382032363164, 'std': 1314.9620051314946, 'count': 3}, 4: {'mean': 8564.836466843257, 'std': 717.6221010374835, 'count': 6}}\n",
            "Brookefield {2: {'mean': 5837.492693390221, 'std': 903.6255944977522, 'count': 19}, 3: {'mean': 5795.407173862258, 'std': 1201.0625471599164, 'count': 13}, 4: {'mean': 6680.252598242926, 'std': 2089.3417875296827, 'count': 7}, 5: {'mean': 8974.358974358975, 'std': 0.0, 'count': 1}}\n",
            "Budigere {1: {'mean': 5155.722891566265, 'std': 166.41859289793305, 'count': 4}, 2: {'mean': 5034.160717791254, 'std': 199.1459774106948, 'count': 23}, 3: {'mean': 4995.782145950289, 'std': 304.7321376982579, 'count': 22}}\n",
            "CV Raman Nagar {1: {'mean': 7092.198581560284, 'std': 0.0, 'count': 1}, 2: {'mean': 5155.724160108177, 'std': 750.6157631590067, 'count': 18}, 3: {'mean': 5069.1182815641005, 'std': 895.7302193450797, 'count': 8}}\n",
            "Chamrajpet {1: {'mean': 16831.68316831683, 'std': 0.0, 'count': 1}, 2: {'mean': 9792.423102012144, 'std': 3818.3998448404645, 'count': 5}, 3: {'mean': 7141.805995187703, 'std': 751.0857983228121, 'count': 3}, 4: {'mean': 10827.574839290468, 'std': 1880.2064182378372, 'count': 2}}\n",
            "Chandapura {1: {'mean': 2520.6090114704184, 'std': 140.1570055608275, 'count': 19}, 2: {'mean': 2822.6938747446193, 'std': 410.55761448180084, 'count': 37}, 3: {'mean': 2853.1236984866746, 'std': 427.653808367682, 'count': 26}, 4: {'mean': 3498.942358540455, 'std': 0.0, 'count': 1}}\n",
            "Channasandra {2: {'mean': 3613.5088756107493, 'std': 502.50868004330425, 'count': 24}, 3: {'mean': 4500.644242719408, 'std': 1005.213241509808, 'count': 9}, 4: {'mean': 5963.333333333333, 'std': 0.0, 'count': 1}, 6: {'mean': 4285.714285714285, 'std': 0.0, 'count': 1}}\n",
            "Chikka Tirupathi {3: {'mean': 4090.4654941407116, 'std': 246.87536752515462, 'count': 4}, 4: {'mean': 4568.837506464278, 'std': 449.90860011916783, 'count': 7}}\n",
            "Chikkabanavar {2: {'mean': 3979.526682999282, 'std': 296.21104114438486, 'count': 3}, 3: {'mean': 4242.424242424242, 'std': 757.5757575757575, 'count': 2}, 4: {'mean': 3252.032520325203, 'std': 0.0, 'count': 1}, 5: {'mean': 3645.833333333333, 'std': 395.83333333333326, 'count': 2}, 8: {'mean': 2750.0, 'std': 0.0, 'count': 1}}\n",
            "Chikkalasandra {2: {'mean': 4680.665935758178, 'std': 906.7207027292568, 'count': 14}, 3: {'mean': 4209.541795721919, 'std': 468.54274526277595, 'count': 14}}\n",
            "Choodasandra {2: {'mean': 4782.163531612381, 'std': 528.754856051744, 'count': 12}, 3: {'mean': 4993.1936034011, 'std': 599.6867241072546, 'count': 10}, 4: {'mean': 8645.533141210375, 'std': 0.0, 'count': 1}}\n",
            "Cooke Town {2: {'mean': 9450.335685771604, 'std': 1592.310446826406, 'count': 3}, 3: {'mean': 11852.598087462115, 'std': 1661.385526814624, 'count': 4}, 4: {'mean': 11016.71535215839, 'std': 375.6897111327489, 'count': 2}}\n",
            "Cox Town {2: {'mean': 8230.365020192607, 'std': 2084.870283562963, 'count': 5}, 3: {'mean': 7780.757079649942, 'std': 1186.6163940265649, 'count': 4}}\n",
            "Cunningham Road {3: {'mean': 19562.042390433755, 'std': 1371.6473545157753, 'count': 8}, 4: {'mean': 22399.47110781565, 'std': 2068.0898222124456, 'count': 3}}\n",
            "Dasanapura {1: {'mean': 5790.960451977401, 'std': 0.0, 'count': 1}, 2: {'mean': 5113.831187981814, 'std': 479.0067310357899, 'count': 7}, 3: {'mean': 5032.659409020218, 'std': 255.05443234836684, 'count': 2}}\n",
            "Dasarahalli {2: {'mean': 5117.938928017428, 'std': 689.5131286166418, 'count': 6}, 3: {'mean': 5324.248120300752, 'std': 390.03759398496277, 'count': 2}}\n",
            "Devanahalli {1: {'mean': 4606.9148770709035, 'std': 456.2054151733658, 'count': 7}, 2: {'mean': 4936.153738448984, 'std': 478.78750862962505, 'count': 14}, 3: {'mean': 4865.343550039019, 'std': 459.80251272063725, 'count': 12}, 4: {'mean': 5981.308411214954, 'std': 0.0, 'count': 1}, 5: {'mean': 4166.666666666667, 'std': 0.0, 'count': 1}}\n",
            "Devarachikkanahalli {1: {'mean': 3902.439024390244, 'std': 0.0, 'count': 1}, 2: {'mean': 4326.739586439991, 'std': 1082.6324000628513, 'count': 9}, 3: {'mean': 4404.02899440667, 'std': 596.4161034790261, 'count': 5}}\n",
            "Dodda Nekkundi {2: {'mean': 4271.409551033765, 'std': 572.5384233681567, 'count': 19}, 3: {'mean': 5934.221068512782, 'std': 1020.763160342317, 'count': 7}}\n",
            "Doddaballapur {1: {'mean': 7492.354740061162, 'std': 0.0, 'count': 1}, 3: {'mean': 6861.368629625442, 'std': 792.385913681854, 'count': 3}, 4: {'mean': 7306.716419287801, 'std': 1508.6011290881638, 'count': 4}}\n",
            "Doddakallasandra {2: {'mean': 4009.260011822078, 'std': 22.428701187061954, 'count': 6}, 3: {'mean': 3999.4695049973843, 'std': 0.3068175498332698, 'count': 4}}\n",
            "Doddathoguru {1: {'mean': 3193.939393939394, 'std': 145.7068518808643, 'count': 3}, 2: {'mean': 3695.715772231203, 'std': 513.1647769886983, 'count': 14}, 3: {'mean': 3920.463690699665, 'std': 643.1324346449559, 'count': 7}}\n",
            "Domlur {1: {'mean': 9445.779914529914, 'std': 948.6331997307019, 'count': 3}, 2: {'mean': 7329.742881854468, 'std': 773.8913545349003, 'count': 3}, 3: {'mean': 8601.445470741792, 'std': 2229.698831405483, 'count': 14}}\n",
            "Dommasandra {2: {'mean': 3322.660889824189, 'std': 544.174150775161, 'count': 8}, 3: {'mean': 3313.5675560999007, 'std': 817.0930121375212, 'count': 3}, 4: {'mean': 2518.5185185185187, 'std': 0.0, 'count': 1}}\n",
            "EPIP Zone {2: {'mean': 6352.512219589275, 'std': 547.9667498496266, 'count': 7}, 3: {'mean': 6961.117262886345, 'std': 262.90361114936303, 'count': 8}, 4: {'mean': 6621.198451923327, 'std': 53.43624500234158, 'count': 3}}\n",
            "Electronic City {1: {'mean': 4328.254265940121, 'std': 1179.3241254681986, 'count': 20}, 2: {'mean': 4223.573582626286, 'std': 1191.7527084954634, 'count': 179}, 3: {'mean': 4585.774797046125, 'std': 1204.6558833568276, 'count': 75}, 4: {'mean': 5201.660222644956, 'std': 931.5912756321039, 'count': 5}}\n",
            "Electronic City Phase II {1: {'mean': 4265.886287625418, 'std': 1022.5047171241084, 'count': 3}, 2: {'mean': 3529.072049858916, 'std': 979.4555805604972, 'count': 71}, 3: {'mean': 3506.7720214176666, 'std': 922.6326003596901, 'count': 43}, 4: {'mean': 4680.190258840645, 'std': 272.972080657902, 'count': 5}}\n",
            "Electronics City Phase 1 {1: {'mean': 4522.306447815004, 'std': 635.4094144771141, 'count': 7}, 2: {'mean': 4842.116757845357, 'std': 498.05198255206807, 'count': 33}, 3: {'mean': 4851.575882244288, 'std': 533.2869033255906, 'count': 20}}\n",
            "Frazer Town {1: {'mean': 11160.714285714286, 'std': 0.0, 'count': 1}, 2: {'mean': 9256.913801828407, 'std': 830.6145881127068, 'count': 4}, 3: {'mean': 9845.92937034917, 'std': 1554.2575050192806, 'count': 16}, 4: {'mean': 9580.08324073647, 'std': 1086.7606066839614, 'count': 6}}\n",
            "GM Palaya {2: {'mean': 4065.297171500179, 'std': 228.5624776226282, 'count': 2}, 3: {'mean': 4628.867942650349, 'std': 354.0596141419346, 'count': 6}}\n",
            "Garudachar Palya {2: {'mean': 4567.292659219588, 'std': 35.16727856616533, 'count': 9}, 3: {'mean': 4580.959776242796, 'std': 23.67431495380781, 'count': 6}}\n",
            "Giri Nagar {3: {'mean': 15888.888888888889, 'std': 1888.8888888888887, 'count': 2}, 4: {'mean': 17361.111111111113, 'std': 982.092751647982, 'count': 3}, 6: {'mean': 14583.333333333334, 'std': 2083.333333333334, 'count': 2}}\n",
            "Gollarapalya Hosahalli {2: {'mean': 4170.472980827493, 'std': 176.69088584246873, 'count': 4}, 3: {'mean': 4351.161786961001, 'std': 159.71264119139414, 'count': 5}, 4: {'mean': 4514.435695538058, 'std': 0.0, 'count': 1}}\n",
            "Gottigere {1: {'mean': 3201.9704433497536, 'std': 0.0, 'count': 2}, 2: {'mean': 4187.198530290943, 'std': 615.4290329261535, 'count': 18}, 3: {'mean': 4243.533192141064, 'std': 545.165771797653, 'count': 14}, 4: {'mean': 4433.333333333333, 'std': 286.74417556808754, 'count': 3}}\n",
            "Green Glen Layout {2: {'mean': 5874.64951344219, 'std': 208.0884384424191, 'count': 3}, 3: {'mean': 6639.764255543528, 'std': 469.4210339773065, 'count': 22}, 4: {'mean': 6835.898556082042, 'std': 333.3960060843011, 'count': 4}}\n",
            "Gubbalala {2: {'mean': 5018.120021443538, 'std': 616.24268015249, 'count': 4}, 3: {'mean': 5794.291811767968, 'std': 701.7168143003905, 'count': 7}, 4: {'mean': 4562.5, 'std': 312.5, 'count': 2}, 5: {'mean': 5486.381322957199, 'std': 0.0, 'count': 1}}\n",
            "Gunjur {2: {'mean': 3938.0120307679967, 'std': 369.34106505379697, 'count': 12}, 3: {'mean': 4582.331403008516, 'std': 552.308800975027, 'count': 8}, 4: {'mean': 4750.0, 'std': 0.0, 'count': 1}}\n",
            "HAL 2nd Stage {2: {'mean': 24166.666666666668, 'std': 0.0, 'count': 1}, 3: {'mean': 19326.37335321899, 'std': 807.8548347004726, 'count': 2}, 5: {'mean': 24509.803921568626, 'std': 0.0, 'count': 1}}\n",
            "HBR Layout {2: {'mean': 6163.1658953574815, 'std': 1933.415341710632, 'count': 5}, 3: {'mean': 6718.224920185002, 'std': 1116.5076173869681, 'count': 6}, 4: {'mean': 9791.666666666668, 'std': 208.33333333333303, 'count': 2}}\n",
            "HRBR Layout {2: {'mean': 6827.946263617467, 'std': 966.9691792014793, 'count': 8}, 3: {'mean': 7143.374896079018, 'std': 1182.9430585167863, 'count': 4}, 4: {'mean': 4736.8421052631575, 'std': 0.0, 'count': 1}}\n",
            "HSR Layout {2: {'mean': 4739.236148532773, 'std': 918.5716205568192, 'count': 32}, 3: {'mean': 4924.349382432696, 'std': 1111.9833342619856, 'count': 11}, 5: {'mean': 5833.333333333333, 'std': 0.0, 'count': 1}}\n",
            "Haralur Road {1: {'mean': 6608.695652173913, 'std': 0.0, 'count': 1}, 2: {'mean': 4442.431489020306, 'std': 902.0297287001698, 'count': 81}, 3: {'mean': 5508.101087423051, 'std': 934.2074392416822, 'count': 39}, 4: {'mean': 5788.002846826376, 'std': 573.618955205933, 'count': 6}}\n",
            "Harlur {2: {'mean': 6137.381184467409, 'std': 760.3945168588826, 'count': 31}, 3: {'mean': 6733.5008103669825, 'std': 1010.6906117602454, 'count': 34}, 4: {'mean': 6806.220763959648, 'std': 749.5046631700119, 'count': 6}}\n",
            "Hebbal {2: {'mean': 6772.820502785974, 'std': 1119.7042327288252, 'count': 41}, 3: {'mean': 7101.464393512738, 'std': 1064.9549072670886, 'count': 63}, 4: {'mean': 8020.904932434182, 'std': 883.2866989126516, 'count': 24}}\n",
            "Hebbal Kempapura {2: {'mean': 8716.498778998779, 'std': 1081.9219617716674, 'count': 4}, 3: {'mean': 9517.562179481964, 'std': 939.9188933583704, 'count': 13}, 4: {'mean': 8861.240238842134, 'std': 978.6206485541776, 'count': 4}, 5: {'mean': 8320.802005012532, 'std': 373.56532189325577, 'count': 3}}\n",
            "Hegde Nagar {2: {'mean': 6157.975113248077, 'std': 728.8922268349711, 'count': 5}, 3: {'mean': 6681.438863622023, 'std': 564.0312879402329, 'count': 27}, 4: {'mean': 6916.666666666667, 'std': 0.0, 'count': 1}, 6: {'mean': 7000.0, 'std': 0.0, 'count': 1}}\n",
            "Hennur {2: {'mean': 4442.194358592493, 'std': 329.7687097606526, 'count': 36}, 3: {'mean': 4809.551783721774, 'std': 731.3786843294923, 'count': 9}, 4: {'mean': 4591.981802672733, 'std': 0.0, 'count': 1}, 5: {'mean': 5000.0, 'std': 0.0, 'count': 1}}\n",
            "Hennur Road {2: {'mean': 5664.294405842001, 'std': 916.5454988680963, 'count': 55}, 3: {'mean': 6069.503411656875, 'std': 801.597874461389, 'count': 71}, 4: {'mean': 6723.42350243022, 'std': 1360.2814958326924, 'count': 4}, 5: {'mean': 7352.941176470588, 'std': 0.0, 'count': 1}, 8: {'mean': 5000.0, 'std': 0.0, 'count': 1}}\n",
            "Hoodi {1: {'mean': 5843.393365544693, 'std': 878.1416877495989, 'count': 3}, 2: {'mean': 5576.467924050863, 'std': 532.1742679272731, 'count': 24}, 3: {'mean': 5550.490547257158, 'std': 500.1454767018147, 'count': 20}, 4: {'mean': 5295.067358316983, 'std': 736.8679318376135, 'count': 4}, 5: {'mean': 6666.666666666667, 'std': 0.0, 'count': 1}}\n",
            "Horamavu Agara {1: {'mean': 4320.0, 'std': 0.0, 'count': 1}, 2: {'mean': 4129.887794312634, 'std': 508.3758300561651, 'count': 19}, 3: {'mean': 4621.353464796817, 'std': 511.4421422818516, 'count': 9}, 5: {'mean': 3333.3333333333335, 'std': 0.0, 'count': 1}}\n",
            "Horamavu Banaswadi {2: {'mean': 4195.182184632629, 'std': 472.40961899077587, 'count': 20}, 3: {'mean': 3953.2300960525395, 'std': 297.2652996762272, 'count': 3}, 6: {'mean': 5263.1578947368425, 'std': 0.0, 'count': 1}}\n",
            "Hormavu {1: {'mean': 4386.46711095142, 'std': 463.4471257552693, 'count': 2}, 2: {'mean': 4720.617954190519, 'std': 721.7719786205828, 'count': 40}, 3: {'mean': 4427.642898747908, 'std': 504.410948305247, 'count': 12}, 4: {'mean': 5039.439088518843, 'std': 0.0, 'count': 1}}\n",
            "Hosa Road {1: {'mean': 4799.375, 'std': 199.375, 'count': 2}, 2: {'mean': 4946.270140994979, 'std': 834.9741219397789, 'count': 19}, 3: {'mean': 5382.16497047624, 'std': 896.2587581277162, 'count': 15}, 4: {'mean': 3750.0, 'std': 0.0, 'count': 1}}\n",
            "Hosakerehalli {2: {'mean': 7132.2680042005195, 'std': 2396.0521058736667, 'count': 4}, 3: {'mean': 9162.737420366177, 'std': 1759.0622093546071, 'count': 9}, 4: {'mean': 10348.082968582745, 'std': 1380.1349845751727, 'count': 5}, 5: {'mean': 10041.666666666666, 'std': 375.0, 'count': 2}}\n",
            "Hoskote {1: {'mean': 4518.664047151277, 'std': 0.0, 'count': 1}, 2: {'mean': 3174.4098068983926, 'std': 410.28654938450563, 'count': 7}, 3: {'mean': 3600.5359456638253, 'std': 751.6624895989767, 'count': 8}}\n",
            "Hosur Road {1: {'mean': 4565.217391304348, 'std': 0.0, 'count': 1}, 2: {'mean': 5644.8823512611825, 'std': 1217.514504735615, 'count': 9}, 3: {'mean': 5646.277406311303, 'std': 1116.583963171691, 'count': 14}, 4: {'mean': 5916.666666666666, 'std': 583.3333333333335, 'count': 2}, 5: {'mean': 6136.363636363636, 'std': 1136.3636363636365, 'count': 2}}\n",
            "Hulimavu {1: {'mean': 5567.760150976738, 'std': 1222.422984550909, 'count': 3}, 2: {'mean': 5327.300781142056, 'std': 1646.506992767097, 'count': 28}, 3: {'mean': 6041.97465739293, 'std': 1516.4558507527224, 'count': 12}, 4: {'mean': 6608.14606741573, 'std': 1435.7649478084438, 'count': 4}}\n",
            "ISRO Layout {2: {'mean': 5315.980629539952, 'std': 702.3075360678213, 'count': 4}, 3: {'mean': 5770.6023290800695, 'std': 579.7626344235805, 'count': 2}, 4: {'mean': 6071.428571428572, 'std': 0.0, 'count': 1}, 6: {'mean': 5681.818181818182, 'std': 0.0, 'count': 1}}\n",
            "ITPL {3: {'mean': 4935.497846683894, 'std': 605.1521192031312, 'count': 6}, 4: {'mean': 5293.33921482135, 'std': 0.0, 'count': 1}}\n",
            "Iblur Village {3: {'mean': 7091.009765176506, 'std': 410.8852316823366, 'count': 11}, 4: {'mean': 7574.388209121245, 'std': 450.32403519924213, 'count': 8}, 5: {'mean': 7753.573598412542, 'std': 47.31793204808173, 'count': 2}}\n",
            "Indira Nagar {1: {'mean': 9254.901960784313, 'std': 3358.3833829030023, 'count': 3}, 2: {'mean': 9702.969857242164, 'std': 1533.2274929574173, 'count': 11}, 3: {'mean': 11041.107173918466, 'std': 2774.468606570783, 'count': 15}, 4: {'mean': 14277.01762523191, 'std': 4557.109914183873, 'count': 7}, 5: {'mean': 19444.444444444445, 'std': 0.0, 'count': 1}, 6: {'mean': 19791.666666666668, 'std': 0.0, 'count': 1}, 8: {'mean': 18461.53846153846, 'std': 0.0, 'count': 1}}\n",
            "JP Nagar {1: {'mean': 5263.492063492064, 'std': 1239.2261826930576, 'count': 3}, 2: {'mean': 5819.19927137863, 'std': 1232.036106610382, 'count': 18}, 3: {'mean': 6120.005408172574, 'std': 1312.8659803453609, 'count': 20}, 4: {'mean': 5386.813709590226, 'std': 819.3589330387586, 'count': 5}, 5: {'mean': 6793.478260869565, 'std': 0.0, 'count': 1}, 6: {'mean': 3777.777777777778, 'std': 0.0, 'count': 1}, 7: {'mean': 5925.925925925926, 'std': 0.0, 'count': 1}}\n",
            "Jakkur {2: {'mean': 6150.231012322481, 'std': 547.1996091951384, 'count': 21}, 3: {'mean': 6314.106464366591, 'std': 697.7935991872305, 'count': 27}, 4: {'mean': 7290.394789156389, 'std': 914.7687249133417, 'count': 5}}\n",
            "Jalahalli {1: {'mean': 6656.504065040651, 'std': 856.2509031207591, 'count': 4}, 2: {'mean': 6419.206421173111, 'std': 837.6548293126691, 'count': 12}, 3: {'mean': 6351.724037140902, 'std': 708.5723247593588, 'count': 19}, 4: {'mean': 7500.0, 'std': 0.0, 'count': 1}}\n",
            "Jalahalli East {1: {'mean': 4866.666666666666, 'std': 466.6666666666665, 'count': 2}, 2: {'mean': 5327.76807092474, 'std': 253.50233403050984, 'count': 3}, 3: {'mean': 4804.029304029304, 'std': 42.12454212454213, 'count': 2}}\n",
            "Jigani {2: {'mean': 5380.205408855938, 'std': 610.3583738561084, 'count': 19}, 3: {'mean': 5118.341784477213, 'std': 569.9332571864948, 'count': 22}, 4: {'mean': 5251.539444638085, 'std': 0.0, 'count': 1}}\n",
            "Judicial Layout {2: {'mean': 4351.406771578446, 'std': 93.03767286599896, 'count': 2}, 3: {'mean': 6895.570698128242, 'std': 1721.3302715968377, 'count': 5}, 4: {'mean': 10800.0, 'std': 0.0, 'count': 1}, 5: {'mean': 12962.962962962964, 'std': 0.0, 'count': 1}}\n",
            "KR Puram {1: {'mean': 3496.4985994397757, 'std': 425.0700280112044, 'count': 2}, 2: {'mean': 4334.439122287065, 'std': 915.4655005942303, 'count': 51}, 3: {'mean': 4342.182026781062, 'std': 795.5697199258739, 'count': 12}, 4: {'mean': 6332.435279343688, 'std': 732.1215615521066, 'count': 3}, 6: {'mean': 4159.883720930233, 'std': 90.11627906976742, 'count': 2}, 7: {'mean': 3928.5714285714284, 'std': 0.0, 'count': 1}, 9: {'mean': 4347.826086956522, 'std': 0.0, 'count': 1}}\n",
            "Kadubeesanahalli {2: {'mean': 6376.103144106457, 'std': 1495.108114630899, 'count': 5}, 3: {'mean': 5422.047214586422, 'std': 1213.899445999799, 'count': 5}}\n",
            "Kadugodi {1: {'mean': 4400.000000000001, 'std': 0.0, 'count': 1}, 2: {'mean': 4953.281534393949, 'std': 838.7316907969796, 'count': 12}, 3: {'mean': 5463.116924408958, 'std': 1023.8107822041367, 'count': 17}, 4: {'mean': 5033.333333333334, 'std': 566.6666666666665, 'count': 2}}\n",
            "Kaggadasapura {2: {'mean': 4174.759774030046, 'std': 487.08899985024476, 'count': 26}, 3: {'mean': 4487.237700661079, 'std': 479.55649577047734, 'count': 19}, 4: {'mean': 4390.180878552972, 'std': 194.09107967146167, 'count': 3}}\n",
            "Kaggalipura {1: {'mean': 5190.476190476191, 'std': 178.1741612749495, 'count': 3}, 2: {'mean': 5385.964912280701, 'std': 574.6785738301475, 'count': 6}, 3: {'mean': 5067.840459935322, 'std': 267.71813441909836, 'count': 5}}\n",
            "Kaikondrahalli {2: {'mean': 5675.825039659637, 'std': 894.8552060211639, 'count': 5}, 3: {'mean': 6016.671751785143, 'std': 868.6732750797345, 'count': 4}, 4: {'mean': 6352.941176470588, 'std': 0.0, 'count': 1}, 6: {'mean': 6654.835847382431, 'std': 0.0, 'count': 1}}\n",
            "Kalena Agrahara {1: {'mean': 6393.44262295082, 'std': 0.0, 'count': 1}, 2: {'mean': 4600.862878074762, 'std': 691.1688086769439, 'count': 13}, 3: {'mean': 5540.391844954946, 'std': 782.6421967834364, 'count': 8}}\n",
            "Kalyan nagar {2: {'mean': 5174.290674954961, 'std': 959.8682778268459, 'count': 8}, 3: {'mean': 5403.789409758371, 'std': 1008.9411534967034, 'count': 5}, 4: {'mean': 7043.982789343301, 'std': 850.7540527619626, 'count': 2}}\n",
            "Kambipura {2: {'mean': 4617.214043035106, 'std': 371.9562012631819, 'count': 13}, 3: {'mean': 4613.88537985688, 'std': 442.39294983399617, 'count': 7}}\n",
            "Kammanahalli {1: {'mean': 8428.57142857143, 'std': 0.0, 'count': 1}, 2: {'mean': 6384.469696969697, 'std': 537.9688091548688, 'count': 4}, 4: {'mean': 6896.551724137931, 'std': 0.0, 'count': 1}, 5: {'mean': 6962.25766229163, 'std': 2041.3437782846004, 'count': 2}}\n",
            "Kammasandra {1: {'mean': 2916.3934426229507, 'std': 116.39344262295072, 'count': 2}, 2: {'mean': 3227.8474191127148, 'std': 607.9293263487696, 'count': 15}, 3: {'mean': 3237.2655812105695, 'std': 861.3497493389445, 'count': 7}}\n",
            "Kanakapura {1: {'mean': 5096.602546756389, 'std': 417.85606461579323, 'count': 5}, 2: {'mean': 4604.465395835363, 'std': 480.2703857860582, 'count': 11}, 3: {'mean': 4969.70888132023, 'std': 588.0621061875769, 'count': 10}, 4: {'mean': 5633.802816901409, 'std': 0.0, 'count': 1}}\n",
            "Kanakpura Road {1: {'mean': 5097.459088452889, 'std': 461.5048530031646, 'count': 24}, 2: {'mean': 5077.534783602531, 'std': 516.3940902831463, 'count': 72}, 3: {'mean': 4858.246912079383, 'std': 543.4220740323644, 'count': 97}, 4: {'mean': 5754.468754468755, 'std': 642.9894850839651, 'count': 3}}\n",
            "Kannamangala {2: {'mean': 5781.957506095438, 'std': 175.0239571773057, 'count': 6}, 3: {'mean': 6165.072841663136, 'std': 431.9125650497451, 'count': 3}, 4: {'mean': 5885.74639875218, 'std': 555.9126968865866, 'count': 3}}\n",
            "Karuna Nagar {2: {'mean': 6149.479659413434, 'std': 0.0, 'count': 1}, 3: {'mean': 7548.041260232853, 'std': 960.2983417649926, 'count': 6}}\n",
            "Kasavanhalli {1: {'mean': 5690.909090909091, 'std': 0.0, 'count': 1}, 2: {'mean': 5662.493274959639, 'std': 922.1542751438931, 'count': 31}, 3: {'mean': 5761.689498642714, 'std': 998.0178355092115, 'count': 32}, 4: {'mean': 7188.150786398397, 'std': 888.4937505820675, 'count': 6}}\n",
            "Kasturi Nagar {2: {'mean': 6041.583372234744, 'std': 653.8682870762742, 'count': 6}, 3: {'mean': 5916.740546308524, 'std': 721.5559950179522, 'count': 5}, 4: {'mean': 6387.757738248516, 'std': 205.06926597089296, 'count': 2}}\n",
            "Kathriguppe {2: {'mean': 5500.0, 'std': 0.0, 'count': 1}, 3: {'mean': 5791.147903867095, 'std': 283.97304755177413, 'count': 18}}\n",
            "Kaval Byrasandra {1: {'mean': 5208.333333333333, 'std': 0.0, 'count': 1}, 2: {'mean': 4651.883076314409, 'std': 642.90451560445, 'count': 13}, 3: {'mean': 5264.778325123152, 'std': 92.36453201970426, 'count': 2}}\n",
            "Kenchenahalli {1: {'mean': 5646.853146853147, 'std': 646.8531468531469, 'count': 2}, 2: {'mean': 5274.4401769080805, 'std': 359.1996745553106, 'count': 7}, 3: {'mean': 5460.627817637033, 'std': 264.58222613843435, 'count': 3}}\n",
            "Kengeri {1: {'mean': 4102.1234693979295, 'std': 591.7443122845393, 'count': 9}, 2: {'mean': 4390.756355620634, 'std': 671.5399518356911, 'count': 30}, 3: {'mean': 4032.7478567837916, 'std': 657.8355516907933, 'count': 11}, 5: {'mean': 4000.0, 'std': 0.0, 'count': 1}, 8: {'mean': 4333.333333333333, 'std': 0.0, 'count': 1}}\n",
            "Kengeri Satellite Town {1: {'mean': 3416.085803355814, 'std': 180.47203987792676, 'count': 3}, 2: {'mean': 4161.885658225767, 'std': 587.9649928204553, 'count': 20}, 3: {'mean': 4294.409672655811, 'std': 599.879656057118, 'count': 3}}\n",
            "Kereguddadahalli {1: {'mean': 3250.0, 'std': 0.0, 'count': 1}, 2: {'mean': 3285.4634212085666, 'std': 199.6880849428014, 'count': 7}, 3: {'mean': 3203.254608294931, 'std': 173.2774907327058, 'count': 5}}\n",
            "Kodichikkanahalli {1: {'mean': 4000.0, 'std': 0.0, 'count': 1}, 2: {'mean': 4464.71665687586, 'std': 329.5744118140759, 'count': 10}, 3: {'mean': 4663.38431038836, 'std': 430.5214561404485, 'count': 6}, 5: {'mean': 4753.086419753086, 'std': 174.5942669596414, 'count': 3}}\n",
            "Kodigehaali {2: {'mean': 4568.752583055242, 'std': 504.85018578262014, 'count': 7}, 3: {'mean': 5932.628698743195, 'std': 1418.7220163805841, 'count': 4}}\n",
            "Kodigehalli {1: {'mean': 8091.603053435115, 'std': 0.0, 'count': 1}, 2: {'mean': 5375.328083989501, 'std': 1663.9012335209106, 'count': 3}, 3: {'mean': 10620.87912087912, 'std': 2379.120879120879, 'count': 2}}\n",
            "Kodihalli {2: {'mean': 10067.114093959732, 'std': 0.0, 'count': 1}, 3: {'mean': 10018.319753621405, 'std': 1044.2283661863166, 'count': 5}, 4: {'mean': 10893.922389045523, 'std': 716.3686036821398, 'count': 3}}\n",
            "Kogilu {1: {'mean': 5159.365079365079, 'std': 1065.8231736741996, 'count': 3}, 2: {'mean': 4475.604638481574, 'std': 211.3056933959039, 'count': 12}, 3: {'mean': 6530.65790795312, 'std': 1644.139418598545, 'count': 5}, 7: {'mean': 3460.912052117264, 'std': 0.0, 'count': 1}}\n",
            "Konanakunte {2: {'mean': 6561.085972850678, 'std': 0.0, 'count': 1}, 3: {'mean': 7154.421202441103, 'std': 858.8014581243333, 'count': 3}, 4: {'mean': 10420.226018864567, 'std': 335.8570408452007, 'count': 3}}\n",
            "Koramangala {2: {'mean': 9519.730600403604, 'std': 1946.4988338411724, 'count': 23}, 3: {'mean': 9691.757083813116, 'std': 2332.1057526607897, 'count': 26}, 4: {'mean': 12567.348894001134, 'std': 1286.9271971129865, 'count': 5}}\n",
            "Kothannur {2: {'mean': 3872.5655216562704, 'std': 177.44245428443105, 'count': 6}, 3: {'mean': 3738.798485722216, 'std': 263.03140319128806, 'count': 6}}\n",
            "Kothanur {1: {'mean': 4892.344497607655, 'std': 107.65550239234472, 'count': 2}, 2: {'mean': 4854.565077877619, 'std': 214.79334119523995, 'count': 25}, 3: {'mean': 5472.538361819057, 'std': 749.1480375203159, 'count': 27}, 4: {'mean': 6622.099164733684, 'std': 140.61768325220237, 'count': 2}, 5: {'mean': 5729.166666666667, 'std': 0.0, 'count': 1}}\n",
            "Kudlu {1: {'mean': 4583.333333333333, 'std': 0.0, 'count': 1}, 2: {'mean': 4381.624103221705, 'std': 292.010615730984, 'count': 19}, 3: {'mean': 4520.12211215998, 'std': 361.70349731102834, 'count': 4}, 4: {'mean': 5428.571428571428, 'std': 0.0, 'count': 1}}\n",
            "Kudlu Gate {1: {'mean': 7396.870554765292, 'std': 0.0, 'count': 1}, 2: {'mean': 5148.4513864375285, 'std': 1338.7834520110716, 'count': 15}, 3: {'mean': 5180.933397123558, 'std': 956.0823188606547, 'count': 20}, 4: {'mean': 5324.675324675325, 'std': 0.0, 'count': 1}}\n",
            "Kumaraswami Layout {1: {'mean': 9176.470588235294, 'std': 0.0, 'count': 1}, 2: {'mean': 5400.1387604070305, 'std': 402.12974684506605, 'count': 3}, 3: {'mean': 5822.598600508905, 'std': 555.2046988018691, 'count': 4}, 4: {'mean': 5719.897959183673, 'std': 1230.1020408163267, 'count': 2}, 7: {'mean': 4857.750896057347, 'std': 247.93337659741678, 'count': 3}}\n",
            "Kundalahalli {2: {'mean': 6698.432879783711, 'std': 1531.9654271563063, 'count': 17}, 3: {'mean': 7331.054453361016, 'std': 1214.518355980384, 'count': 22}, 4: {'mean': 8365.231318918251, 'std': 1028.8263996833173, 'count': 3}}\n",
            "LB Shastri Nagar {1: {'mean': 4812.0300751879695, 'std': 0.0, 'count': 1}, 2: {'mean': 5047.7294422212935, 'std': 827.4528669677713, 'count': 7}, 3: {'mean': 4888.392857142857, 'std': 825.8928571428573, 'count': 2}}\n",
            "Laggere {1: {'mean': 9079.301075268817, 'std': 1337.3655913978491, 'count': 2}, 2: {'mean': 6250.0, 'std': 0.0, 'count': 1}, 3: {'mean': 10833.333333333334, 'std': 0.0, 'count': 1}, 5: {'mean': 4464.285714285715, 'std': 0.0, 'count': 1}}\n",
            "Lakshminarayana Pura {2: {'mean': 6489.713291330108, 'std': 297.6789512592486, 'count': 22}, 3: {'mean': 6841.666666666666, 'std': 91.66666666666652, 'count': 2}}\n",
            "Lingadheeranahalli {3: {'mean': 6502.821516842215, 'std': 338.4280109369237, 'count': 15}, 4: {'mean': 6948.373789156925, 'std': 137.69782791285036, 'count': 3}}\n",
            "Magadi Road {2: {'mean': 4852.216357377289, 'std': 485.0957216437849, 'count': 8}, 3: {'mean': 4739.009734462758, 'std': 584.121088892974, 'count': 6}, 4: {'mean': 6200.0, 'std': 0.0, 'count': 1}, 5: {'mean': 7200.0, 'std': 0.0, 'count': 1}, 6: {'mean': 3916.6666666666665, 'std': 0.0, 'count': 1}}\n",
            "Mahadevpura {1: {'mean': 4794.520547945205, 'std': 0.0, 'count': 1}, 2: {'mean': 4655.718115723708, 'std': 376.41780517833274, 'count': 12}, 3: {'mean': 4870.419072507448, 'std': 464.96928202282703, 'count': 9}}\n",
            "Mahalakshmi Layout {2: {'mean': 7239.819004524887, 'std': 0.0, 'count': 1}, 3: {'mean': 8581.201137171287, 'std': 585.46552949538, 'count': 2}, 4: {'mean': 11682.539682539682, 'std': 1650.793650793651, 'count': 2}}\n",
            "Mallasandra {2: {'mean': 4778.701173252795, 'std': 525.1161356942022, 'count': 8}, 3: {'mean': 5557.259722141612, 'std': 756.1882822123313, 'count': 5}}\n",
            "Malleshpalya {2: {'mean': 4450.045021893327, 'std': 715.3637519675409, 'count': 10}, 3: {'mean': 4425.035578878555, 'std': 860.0436344837372, 'count': 4}}\n",
            "Malleshwaram {1: {'mean': 10574.590792191524, 'std': 2309.1199297340045, 'count': 5}, 2: {'mean': 10448.283856388975, 'std': 2127.1295449855343, 'count': 11}, 3: {'mean': 12878.871444966015, 'std': 1697.9956830033232, 'count': 23}, 4: {'mean': 11241.379310344826, 'std': 1668.290924746567, 'count': 3}, 7: {'mean': 18333.333333333332, 'std': 0.0, 'count': 1}}\n",
            "Marathahalli {1: {'mean': 6443.713889143229, 'std': 707.710000973837, 'count': 5}, 2: {'mean': 5343.012421942326, 'std': 805.7151229412377, 'count': 71}, 3: {'mean': 5765.1456000207645, 'std': 889.5759940637466, 'count': 53}, 4: {'mean': 6160.540698577994, 'std': 807.182049168838, 'count': 20}}\n",
            "Margondanahalli {2: {'mean': 5437.351523296367, 'std': 285.9823054456937, 'count': 14}, 3: {'mean': 5057.999244463333, 'std': 256.1953829260381, 'count': 3}}\n",
            "Marsur {3: {'mean': 8750.0, 'std': 1250.0, 'count': 2}, 4: {'mean': 8055.555555555556, 'std': 0.0, 'count': 1}}\n",
            "Mico Layout {1: {'mean': 3687.5, 'std': 0.0, 'count': 1}, 2: {'mean': 3682.9249609262856, 'std': 423.6831720283269, 'count': 5}, 3: {'mean': 3748.827506277767, 'std': 314.5094797917012, 'count': 3}, 9: {'mean': 4200.0, 'std': 0.0, 'count': 1}}\n",
            "Munnekollal {2: {'mean': 4633.305616995026, 'std': 352.4310127906283, 'count': 7}, 3: {'mean': 4802.422395043424, 'std': 125.38772727852572, 'count': 6}}\n",
            "Murugeshpalya {2: {'mean': 5931.085462733437, 'std': 1214.4226459894464, 'count': 4}, 3: {'mean': 4523.355531891741, 'std': 450.61538528825935, 'count': 7}}\n",
            "Mysore Road {2: {'mean': 5045.139694906341, 'std': 676.0447047409737, 'count': 22}, 3: {'mean': 5084.04096522042, 'std': 644.0777907893389, 'count': 13}}\n",
            "NGR Layout {2: {'mean': 4489.826297505917, 'std': 29.998439759192205, 'count': 8}}\n",
            "NRI Layout {2: {'mean': 5086.0370370370365, 'std': 800.8574434434588, 'count': 3}, 3: {'mean': 4229.419325502037, 'std': 445.2318722352784, 'count': 3}, 4: {'mean': 5348.837209302325, 'std': 0.0, 'count': 1}, 5: {'mean': 5200.0, 'std': 0.0, 'count': 1}}\n",
            "Nagarbhavi {1: {'mean': 5457.622557871108, 'std': 1066.4073158513404, 'count': 3}, 2: {'mean': 6395.988878268281, 'std': 3229.6096758102262, 'count': 16}, 3: {'mean': 5500.568824727775, 'std': 1968.8111694638114, 'count': 17}, 4: {'mean': 12000.0, 'std': 2000.0, 'count': 2}, 5: {'mean': 7200.0, 'std': 0.0, 'count': 1}}\n",
            "Nagasandra {2: {'mean': 5482.312925170068, 'std': 584.353741496599, 'count': 2}, 3: {'mean': 5757.575757575758, 'std': 0.0, 'count': 1}, 4: {'mean': 6235.119047619048, 'std': 193.45238095238074, 'count': 2}}\n",
            "Nagavara {1: {'mean': 3500.0, 'std': 0.0, 'count': 1}, 2: {'mean': 4493.627819930604, 'std': 461.4406306632376, 'count': 6}, 3: {'mean': 6307.806359887731, 'std': 1811.5738366229782, 'count': 3}, 4: {'mean': 5265.610902466384, 'std': 257.5980819535639, 'count': 2}}\n",
            "Nagavarapalya {1: {'mean': 7854.609929078014, 'std': 262.38738629341753, 'count': 4}, 2: {'mean': 7379.161208587787, 'std': 622.908546711891, 'count': 3}, 3: {'mean': 6153.846153846154, 'std': 0.0, 'count': 1}}\n",
            "Narayanapura {2: {'mean': 6417.676818637855, 'std': 641.5678764128289, 'count': 4}, 3: {'mean': 5624.607559361702, 'std': 176.28469731669043, 'count': 4}}\n",
            "Neeladri Nagar {1: {'mean': 3750.8127802427566, 'std': 837.10794554603, 'count': 3}, 2: {'mean': 3601.3181568393316, 'std': 896.300794280481, 'count': 5}, 3: {'mean': 4446.286519616966, 'std': 851.8567154201359, 'count': 3}, 10: {'mean': 4000.0, 'std': 0.0, 'count': 1}}\n",
            "Nehru Nagar {2: {'mean': 4397.856538497696, 'std': 147.59800695684862, 'count': 2}, 3: {'mean': 5323.390108322737, 'std': 476.8505751937556, 'count': 5}, 4: {'mean': 4994.3116788028365, 'std': 83.97863012649077, 'count': 2}}\n",
            "OMBR Layout {2: {'mean': 6060.732226936822, 'std': 765.1028054888121, 'count': 8}, 3: {'mean': 6395.974418965156, 'std': 1354.455921644706, 'count': 4}, 4: {'mean': 8088.235294117647, 'std': 0.0, 'count': 1}}\n",
            "Old Airport Road {2: {'mean': 6488.103629335819, 'std': 666.8103212209145, 'count': 8}, 3: {'mean': 7732.476289952065, 'std': 1345.392120110078, 'count': 3}, 4: {'mean': 7400.652269436282, 'std': 366.65275351747255, 'count': 19}}\n",
            "Old Madras Road {2: {'mean': 5660.295741126655, 'std': 850.7558483817651, 'count': 17}, 3: {'mean': 5877.469949423396, 'std': 658.1522060566687, 'count': 17}, 4: {'mean': 5568.646870314652, 'std': 445.15305178998693, 'count': 10}, 5: {'mean': 6125.232403718459, 'std': 408.1009296148736, 'count': 2}}\n",
            "Padmanabhanagar {2: {'mean': 6353.3984086808305, 'std': 1620.4038971043078, 'count': 8}, 3: {'mean': 6103.133559343508, 'std': 1413.7555415488598, 'count': 11}, 4: {'mean': 6176.470588235294, 'std': 0.0, 'count': 1}}\n",
            "Pai Layout {2: {'mean': 4275.598787873179, 'std': 847.9319844868568, 'count': 11}, 3: {'mean': 4565.193665374716, 'std': 692.5145408804893, 'count': 5}, 6: {'mean': 4605.263157894737, 'std': 0.0, 'count': 1}}\n",
            "Panathur {1: {'mean': 6051.437216338881, 'std': 0.0, 'count': 1}, 2: {'mean': 6163.683079124271, 'std': 522.5629147973473, 'count': 24}, 3: {'mean': 5824.381873424201, 'std': 756.1120640080887, 'count': 5}}\n",
            "Parappana Agrahara {1: {'mean': 3750.0, 'std': 0.0, 'count': 1}, 2: {'mean': 3894.570971024669, 'std': 52.57420919375578, 'count': 14}}\n",
            "Pattandur Agrahara {2: {'mean': 4818.300127405684, 'std': 256.46926050536257, 'count': 6}, 3: {'mean': 5161.290322580645, 'std': 0.0, 'count': 2}}\n",
            "Poorna Pragna Layout {2: {'mean': 4413.125572360624, 'std': 495.68839972297116, 'count': 6}, 3: {'mean': 4049.309690274269, 'std': 111.94750610317409, 'count': 12}}\n",
            "Prithvi Layout {2: {'mean': 6037.440123978585, 'std': 549.2881072143185, 'count': 6}, 3: {'mean': 8026.0686177976095, 'std': 1550.1613565960947, 'count': 3}, 4: {'mean': 7988.165680473373, 'std': 0.0, 'count': 1}}\n",
            "R.T. Nagar {2: {'mean': 6166.0990284595455, 'std': 2401.6080179377695, 'count': 11}, 3: {'mean': 7778.645543303137, 'std': 2826.244096724054, 'count': 9}, 4: {'mean': 7888.88888888889, 'std': 3247.030932489435, 'count': 3}, 9: {'mean': 4583.333333333333, 'std': 0.0, 'count': 1}}\n",
            "Rachenahalli {1: {'mean': 5122.705314009661, 'std': 456.3742317223319, 'count': 3}, 2: {'mean': 5011.121340348212, 'std': 151.79484867635873, 'count': 21}, 3: {'mean': 4932.080211090551, 'std': 417.32880100292226, 'count': 15}, 4: {'mean': 6015.859994531036, 'std': 0.0, 'count': 1}}\n",
            "Raja Rajeshwari Nagar {1: {'mean': 4339.6530666138515, 'std': 543.1788208229217, 'count': 5}, 2: {'mean': 4119.9389626966895, 'std': 797.0186502026784, 'count': 100}, 3: {'mean': 4316.218711504208, 'std': 847.5993608049712, 'count': 54}, 6: {'mean': 5000.0, 'std': 0.0, 'count': 1}, 8: {'mean': 4930.857487922706, 'std': 1211.8785162729496, 'count': 3}, 9: {'mean': 6666.666666666667, 'std': 0.0, 'count': 1}}\n",
            "Rajaji Nagar {1: {'mean': 11363.636363636364, 'std': 0.0, 'count': 1}, 2: {'mean': 13550.152331961022, 'std': 2381.326440584, 'count': 14}, 3: {'mean': 14106.8045449118, 'std': 2072.9910392276593, 'count': 38}, 4: {'mean': 14088.257966543091, 'std': 2880.37358890078, 'count': 13}, 5: {'mean': 13757.502632502632, 'std': 2306.3948735573995, 'count': 4}, 6: {'mean': 18000.0, 'std': 0.0, 'count': 1}}\n",
            "Rajiv Nagar {2: {'mean': 6830.924551419025, 'std': 533.7908722073457, 'count': 3}, 3: {'mean': 7396.449704142012, 'std': 0.0, 'count': 1}, 4: {'mean': 6315.890833058215, 'std': 707.5762737250174, 'count': 6}}\n",
            "Ramagondanahalli {1: {'mean': 5555.555555555556, 'std': 0.0, 'count': 1}, 2: {'mean': 4606.370427585701, 'std': 1235.7180227997476, 'count': 22}, 3: {'mean': 5708.567918939573, 'std': 1498.853091063744, 'count': 23}, 4: {'mean': 6714.753447126966, 'std': 1179.0391614126816, 'count': 2}}\n",
            "Ramamurthy Nagar {1: {'mean': 6956.790123456791, 'std': 336.85836171956186, 'count': 3}, 2: {'mean': 4839.4046288157915, 'std': 1129.149258888949, 'count': 31}, 3: {'mean': 4632.116991709435, 'std': 792.226666356907, 'count': 12}, 4: {'mean': 6625.8963789827985, 'std': 894.8595331526992, 'count': 3}, 5: {'mean': 4285.714285714285, 'std': 0.0, 'count': 1}}\n",
            "Rayasandra {1: {'mean': 4541.075143242948, 'std': 72.99003685996877, 'count': 2}, 2: {'mean': 4425.750666858969, 'std': 146.01251895301732, 'count': 3}, 3: {'mean': 4423.733966062286, 'std': 267.25133087914065, 'count': 9}, 4: {'mean': 4449.648711943794, 'std': 0.0, 'count': 1}, 5: {'mean': 4027.777777777778, 'std': 0.0, 'count': 1}}\n",
            "Sahakara Nagar {2: {'mean': 5176.637205930016, 'std': 925.9779110123279, 'count': 19}, 3: {'mean': 6966.244540905622, 'std': 1251.2106654813592, 'count': 10}, 4: {'mean': 7445.229681978799, 'std': 554.7703180212015, 'count': 2}}\n",
            "Sanjay nagar {2: {'mean': 6408.0027636555515, 'std': 1008.5806527993848, 'count': 9}, 3: {'mean': 8195.88626739262, 'std': 2037.2976973824375, 'count': 5}, 5: {'mean': 7575.757575757576, 'std': 0.0, 'count': 1}}\n",
            "Sarakki Nagar {3: {'mean': 11677.772648686641, 'std': 1164.2113099564785, 'count': 7}, 4: {'mean': 11118.213921641485, 'std': 58.695321233468675, 'count': 3}}\n",
            "Sarjapur {1: {'mean': 2874.133538039441, 'std': 174.43064872118748, 'count': 4}, 2: {'mean': 3604.54588824458, 'std': 718.1819172813347, 'count': 33}, 3: {'mean': 4675.963272449762, 'std': 1139.724491656155, 'count': 20}, 4: {'mean': 4798.6758762009795, 'std': 982.6102032032919, 'count': 11}}\n",
            "Sarjapur  Road {1: {'mean': 5133.293879111827, 'std': 1040.4585511011248, 'count': 9}, 2: {'mean': 5376.764753392968, 'std': 940.2539293683718, 'count': 114}, 3: {'mean': 6073.66388486908, 'std': 1213.3172374540186, 'count': 152}, 4: {'mean': 6515.374368146306, 'std': 1322.5099449631382, 'count': 26}, 5: {'mean': 5797.897681160006, 'std': 1209.3915232816719, 'count': 4}}\n",
            "Sarjapura - Attibele Road {1: {'mean': 3195.945945945946, 'std': 0.0, 'count': 1}, 2: {'mean': 2980.300110459942, 'std': 240.74806987622512, 'count': 6}, 3: {'mean': 3677.009046693256, 'std': 568.4897414332066, 'count': 7}}\n",
            "Sector 2 HSR Layout {1: {'mean': 7556.675062972292, 'std': 0.0, 'count': 1}, 2: {'mean': 6104.475872678937, 'std': 867.7629358050074, 'count': 4}, 3: {'mean': 5840.870632537299, 'std': 558.3617721495737, 'count': 3}}\n",
            "Sector 7 HSR Layout {2: {'mean': 8517.539849533492, 'std': 29.88399409911783, 'count': 4}, 3: {'mean': 8621.066433566433, 'std': 944.6855296740544, 'count': 6}, 4: {'mean': 9166.666666666666, 'std': 0.0, 'count': 1}}\n",
            "Seegehalli {2: {'mean': 4329.211790848419, 'std': 1166.1042598803597, 'count': 8}, 3: {'mean': 5367.419714920857, 'std': 1586.813290069952, 'count': 11}, 4: {'mean': 5000.0, 'std': 0.0, 'count': 2}}\n",
            "Shampura {2: {'mean': 4708.333333333334, 'std': 291.6666666666665, 'count': 2}, 3: {'mean': 4899.966766367564, 'std': 364.7021331777603, 'count': 3}, 4: {'mean': 5660.377358490566, 'std': 0.0, 'count': 1}}\n",
            "Shivaji Nagar {1: {'mean': 8010.471204188481, 'std': 0.0, 'count': 1}, 2: {'mean': 8177.670428057425, 'std': 1680.2831248065638, 'count': 4}, 3: {'mean': 6164.3835616438355, 'std': 0.0, 'count': 1}}\n",
            "Singasandra {2: {'mean': 4612.819625700124, 'std': 506.83386852214045, 'count': 10}, 3: {'mean': 4522.865156428246, 'std': 498.5677172187002, 'count': 7}, 4: {'mean': 4451.853329012638, 'std': 613.081735922427, 'count': 2}}\n",
            "Somasundara Palya {2: {'mean': 5360.675549919208, 'std': 593.8769277607065, 'count': 8}, 3: {'mean': 4740.491215564561, 'std': 690.4875020957893, 'count': 7}, 4: {'mean': 5833.333333333333, 'std': 0.0, 'count': 1}}\n",
            "Sompura {2: {'mean': 3840.4959109430956, 'std': 224.1921863747153, 'count': 4}, 3: {'mean': 3466.687036151407, 'std': 123.29979549236428, 'count': 3}, 4: {'mean': 3953.4883720930234, 'std': 0.0, 'count': 1}}\n",
            "Sonnenahalli {1: {'mean': 4998.3598840688865, 'std': 0.012776630869666405, 'count': 2}, 2: {'mean': 4451.776042086879, 'std': 424.19435489209496, 'count': 6}, 3: {'mean': 4706.376756380032, 'std': 441.79167132471156, 'count': 5}}\n",
            "Subramanyapura {2: {'mean': 5320.00259492858, 'std': 564.6089957428895, 'count': 14}, 3: {'mean': 5419.591639044803, 'std': 543.0872192059437, 'count': 13}}\n",
            "Sultan Palaya {2: {'mean': 5516.726902965547, 'std': 1253.3841087551375, 'count': 5}, 3: {'mean': 6296.180318134044, 'std': 1250.8447106368387, 'count': 3}, 4: {'mean': 6500.0, 'std': 0.0, 'count': 1}}\n",
            "TC Palaya {1: {'mean': 4074.074074074074, 'std': 0.0, 'count': 1}, 2: {'mean': 5697.40947633722, 'std': 619.4809937733468, 'count': 20}, 3: {'mean': 5441.915480148755, 'std': 526.2209882855492, 'count': 25}, 4: {'mean': 6291.666666666667, 'std': 0.0, 'count': 1}}\n",
            "Talaghattapura {2: {'mean': 4580.285299806576, 'std': 455.35287836606403, 'count': 4}, 3: {'mean': 6525.3392336488205, 'std': 694.1463657221601, 'count': 22}}\n",
            "Thanisandra {1: {'mean': 5536.748748889186, 'std': 843.232658024744, 'count': 24}, 2: {'mean': 5577.183888389828, 'std': 859.6650172856571, 'count': 48}, 3: {'mean': 5963.98561560378, 'std': 646.7048899935487, 'count': 74}, 4: {'mean': 5809.062417390094, 'std': 821.0388724789285, 'count': 6}, 6: {'mean': 4571.428571428572, 'std': 0.0, 'count': 1}}\n",
            "Thigalarapalya {2: {'mean': 7367.662128690889, 'std': 250.42902893834395, 'count': 15}, 3: {'mean': 7195.713299376845, 'std': 312.05108184586436, 'count': 25}, 4: {'mean': 7478.280524334292, 'std': 267.3908548713968, 'count': 11}}\n",
            "Thubarahalli {2: {'mean': 6177.474880875318, 'std': 550.0809877574004, 'count': 11}, 3: {'mean': 6182.810245310246, 'std': 353.87655581660107, 'count': 4}, 4: {'mean': 6289.473684210527, 'std': 0.0, 'count': 1}}\n",
            "Thyagaraja Nagar {1: {'mean': 12500.0, 'std': 0.0, 'count': 1}, 2: {'mean': 6538.461538461538, 'std': 0.0, 'count': 1}, 3: {'mean': 7500.0, 'std': 0.0, 'count': 1}, 5: {'mean': 7250.0, 'std': 0.0, 'count': 1}}\n",
            "Tindlu {2: {'mean': 5123.714149465223, 'std': 97.42574991353615, 'count': 3}, 3: {'mean': 5283.565257806863, 'std': 516.6873757479673, 'count': 4}, 7: {'mean': 5333.333333333333, 'std': 0.0, 'count': 1}}\n",
            "Tumkur Road {2: {'mean': 6222.216116265259, 'std': 565.4013168608795, 'count': 8}, 3: {'mean': 6367.716187279277, 'std': 390.8691579620035, 'count': 14}}\n",
            "Ulsoor {2: {'mean': 8730.998103368149, 'std': 2062.5115260500042, 'count': 5}, 3: {'mean': 9156.582905880583, 'std': 1457.6390839943092, 'count': 7}, 4: {'mean': 6800.0, 'std': 0.0, 'count': 1}}\n",
            "Uttarahalli {1: {'mean': 5446.293494704993, 'std': 0.0, 'count': 1}, 2: {'mean': 4055.8789909458246, 'std': 443.8274207860062, 'count': 75}, 3: {'mean': 4083.5276962879598, 'std': 534.1705599671546, 'count': 89}, 4: {'mean': 3333.3333333333335, 'std': 0.0, 'count': 1}, 6: {'mean': 3333.3333333333335, 'std': 0.0, 'count': 1}}\n",
            "Varthur {2: {'mean': 4331.910572925388, 'std': 847.3795043583863, 'count': 32}, 3: {'mean': 4836.478103600665, 'std': 892.2656889001146, 'count': 14}}\n",
            "Varthur Road {2: {'mean': 3754.9654055540996, 'std': 648.3927903937736, 'count': 7}, 3: {'mean': 3800.411985861906, 'std': 850.7508048357686, 'count': 2}}\n",
            "Vasanthapura {2: {'mean': 3558.48776757308, 'std': 145.0953916099316, 'count': 7}}\n",
            "Vidyaranyapura {2: {'mean': 4639.399867778706, 'std': 870.5642061348254, 'count': 16}, 3: {'mean': 5418.695502028836, 'std': 956.0813080374586, 'count': 6}, 4: {'mean': 6562.5, 'std': 937.5, 'count': 2}}\n",
            "Vijayanagar {1: {'mean': 7513.33715688642, 'std': 1470.1647292081748, 'count': 4}, 2: {'mean': 5936.626849748775, 'std': 879.0177188541079, 'count': 11}, 3: {'mean': 6585.510613483119, 'std': 860.4381230168186, 'count': 17}, 4: {'mean': 12000.0, 'std': 0.0, 'count': 1}, 5: {'mean': 5208.333333333333, 'std': 0.0, 'count': 1}}\n",
            "Vishveshwarya Layout {1: {'mean': 4000.0, 'std': 0.0, 'count': 1}, 4: {'mean': 4125.0, 'std': 375.0, 'count': 2}, 6: {'mean': 4380.952380952381, 'std': 0.0, 'count': 1}}\n",
            "Vishwapriya Layout {2: {'mean': 3916.9969520750556, 'std': 177.84130871379733, 'count': 4}}\n",
            "Vittasandra {2: {'mean': 5265.466588027838, 'std': 172.68575428865756, 'count': 31}, 3: {'mean': 5113.14174326139, 'std': 100.56430016629145, 'count': 7}}\n",
            "Whitefield {1: {'mean': 5765.189888976462, 'std': 1080.9401060122182, 'count': 26}, 2: {'mean': 4996.679555545075, 'std': 1261.8095382276895, 'count': 232}, 3: {'mean': 5530.481945905363, 'std': 1329.8231587008424, 'count': 165}, 4: {'mean': 6781.90623203223, 'std': 1157.6199849662542, 'count': 57}, 5: {'mean': 7836.874286815605, 'std': 794.7110211453303, 'count': 4}}\n",
            "Yelachenahalli {2: {'mean': 5157.852477694467, 'std': 706.3466043126809, 'count': 7}, 3: {'mean': 5909.760492768157, 'std': 1348.1242403302067, 'count': 5}}\n",
            "Yelahanka {1: {'mean': 5250.754432669086, 'std': 708.1864329017459, 'count': 16}, 2: {'mean': 4885.50009150766, 'std': 834.2738830938632, 'count': 78}, 3: {'mean': 5121.284167853846, 'std': 819.858135054314, 'count': 65}, 4: {'mean': 5396.634458670808, 'std': 859.2313582889707, 'count': 9}, 5: {'mean': 5150.0, 'std': 350.0, 'count': 2}, 6: {'mean': 5555.555555555556, 'std': 0.0, 'count': 1}}\n",
            "Yelahanka New Town {1: {'mean': 3711.0711616859157, 'std': 705.7257959858678, 'count': 12}, 2: {'mean': 5255.289619148657, 'std': 1329.2576472001515, 'count': 7}, 3: {'mean': 5244.8328585493755, 'std': 1308.1039897883682, 'count': 12}, 4: {'mean': 5202.863961813842, 'std': 0.0, 'count': 1}}\n",
            "Yelenahalli {2: {'mean': 3878.617021276596, 'std': 155.17896357207565, 'count': 7}, 3: {'mean': 3918.9457070707067, 'std': 143.76151982471873, 'count': 3}}\n",
            "Yeshwanthpur {1: {'mean': 5660.648244572341, 'std': 397.81389558095225, 'count': 13}, 2: {'mean': 6313.582176150229, 'std': 1092.0986164191115, 'count': 23}, 3: {'mean': 6136.843144871886, 'std': 999.1342919214298, 'count': 31}, 4: {'mean': 6388.888888888889, 'std': 277.7777777777778, 'count': 2}, 6: {'mean': 7400.0, 'std': 0.0, 'count': 1}}\n",
            "other {1: {'mean': 5321.358826419817, 'std': 2357.705900996028, 'count': 132}, 2: {'mean': 5288.580186585407, 'std': 1981.8078111382472, 'count': 987}, 3: {'mean': 6302.0976480245245, 'std': 2550.773878909987, 'count': 859}, 4: {'mean': 8334.159251776744, 'std': 2892.9656869519777, 'count': 224}, 5: {'mean': 7278.542458208993, 'std': 3393.9728786041032, 'count': 42}, 6: {'mean': 6975.5623689134, 'std': 3043.3045406755605, 'count': 34}, 7: {'mean': 4272.049254022647, 'std': 1900.0507646394972, 'count': 11}, 8: {'mean': 5384.347002204145, 'std': 1946.6298824910634, 'count': 7}, 9: {'mean': 5530.842391304348, 'std': 3234.230886145459, 'count': 4}, 10: {'mean': 9005.681818181818, 'std': 4630.681818181818, 'count': 2}, 11: {'mean': 4850.0, 'std': 2350.0, 'count': 2}, 13: {'mean': 5069.124423963133, 'std': 0.0, 'count': 1}, 16: {'mean': 5500.0, 'std': 0.0, 'count': 1}}\n"
          ]
        }
      ]
    },
    {
      "cell_type": "code",
      "source": [
        "data.shape"
      ],
      "metadata": {
        "colab": {
          "base_uri": "https://localhost:8080/"
        },
        "id": "FPgp3YJ8M9Kt",
        "outputId": "4242d987-ad73-4d2b-fabb-95058e9cfd57"
      },
      "execution_count": null,
      "outputs": [
        {
          "output_type": "execute_result",
          "data": {
            "text/plain": [
              "(10301, 9)"
            ]
          },
          "metadata": {},
          "execution_count": 48
        }
      ]
    },
    {
      "cell_type": "code",
      "source": [
        "data"
      ],
      "metadata": {
        "colab": {
          "base_uri": "https://localhost:8080/",
          "height": 423
        },
        "id": "5-e4mPNAP3OU",
        "outputId": "124cf2a3-f486-45b8-de3c-19ccdefff0aa"
      },
      "execution_count": null,
      "outputs": [
        {
          "output_type": "execute_result",
          "data": {
            "text/plain": [
              "                  location       size  society  total_sqft  bath  balcony  \\\n",
              "0      1st Block Jayanagar      4 BHK      NaN      2850.0   4.0      1.0   \n",
              "1      1st Block Jayanagar      3 BHK      NaN      1630.0   3.0      2.0   \n",
              "2      1st Block Jayanagar      3 BHK      NaN      1875.0   2.0      3.0   \n",
              "3      1st Block Jayanagar      3 BHK  Bhsic C      1200.0   2.0      0.0   \n",
              "4      1st Block Jayanagar      2 BHK      NaN      1235.0   2.0      2.0   \n",
              "...                    ...        ...      ...         ...   ...      ...   \n",
              "10296                other      2 BHK  OlarkLa      1353.0   2.0      2.0   \n",
              "10297                other  1 Bedroom      NaN       812.0   1.0      0.0   \n",
              "10298                other      3 BHK  Plowsri      1440.0   2.0      2.0   \n",
              "10299                other      2 BHK      NaN      1075.0   2.0      2.0   \n",
              "10300                other      4 BHK      NaN      3600.0   5.0      NaN   \n",
              "\n",
              "        price  bhk  price_per_sqft  \n",
              "0      428.00    4    15017.543860  \n",
              "1      194.00    3    11901.840491  \n",
              "2      235.00    3    12533.333333  \n",
              "3      130.00    3    10833.333333  \n",
              "4      148.00    2    11983.805668  \n",
              "...       ...  ...             ...  \n",
              "10296  110.00    2     8130.081301  \n",
              "10297   26.00    1     3201.970443  \n",
              "10298   63.93    3     4439.583333  \n",
              "10299   48.00    2     4465.116279  \n",
              "10300  400.00    4    11111.111111  \n",
              "\n",
              "[10301 rows x 9 columns]"
            ],
            "text/html": [
              "\n",
              "  <div id=\"df-be741ca7-e5ba-4f8e-9a3b-68f4d24042b9\">\n",
              "    <div class=\"colab-df-container\">\n",
              "      <div>\n",
              "<style scoped>\n",
              "    .dataframe tbody tr th:only-of-type {\n",
              "        vertical-align: middle;\n",
              "    }\n",
              "\n",
              "    .dataframe tbody tr th {\n",
              "        vertical-align: top;\n",
              "    }\n",
              "\n",
              "    .dataframe thead th {\n",
              "        text-align: right;\n",
              "    }\n",
              "</style>\n",
              "<table border=\"1\" class=\"dataframe\">\n",
              "  <thead>\n",
              "    <tr style=\"text-align: right;\">\n",
              "      <th></th>\n",
              "      <th>location</th>\n",
              "      <th>size</th>\n",
              "      <th>society</th>\n",
              "      <th>total_sqft</th>\n",
              "      <th>bath</th>\n",
              "      <th>balcony</th>\n",
              "      <th>price</th>\n",
              "      <th>bhk</th>\n",
              "      <th>price_per_sqft</th>\n",
              "    </tr>\n",
              "  </thead>\n",
              "  <tbody>\n",
              "    <tr>\n",
              "      <th>0</th>\n",
              "      <td>1st Block Jayanagar</td>\n",
              "      <td>4 BHK</td>\n",
              "      <td>NaN</td>\n",
              "      <td>2850.0</td>\n",
              "      <td>4.0</td>\n",
              "      <td>1.0</td>\n",
              "      <td>428.00</td>\n",
              "      <td>4</td>\n",
              "      <td>15017.543860</td>\n",
              "    </tr>\n",
              "    <tr>\n",
              "      <th>1</th>\n",
              "      <td>1st Block Jayanagar</td>\n",
              "      <td>3 BHK</td>\n",
              "      <td>NaN</td>\n",
              "      <td>1630.0</td>\n",
              "      <td>3.0</td>\n",
              "      <td>2.0</td>\n",
              "      <td>194.00</td>\n",
              "      <td>3</td>\n",
              "      <td>11901.840491</td>\n",
              "    </tr>\n",
              "    <tr>\n",
              "      <th>2</th>\n",
              "      <td>1st Block Jayanagar</td>\n",
              "      <td>3 BHK</td>\n",
              "      <td>NaN</td>\n",
              "      <td>1875.0</td>\n",
              "      <td>2.0</td>\n",
              "      <td>3.0</td>\n",
              "      <td>235.00</td>\n",
              "      <td>3</td>\n",
              "      <td>12533.333333</td>\n",
              "    </tr>\n",
              "    <tr>\n",
              "      <th>3</th>\n",
              "      <td>1st Block Jayanagar</td>\n",
              "      <td>3 BHK</td>\n",
              "      <td>Bhsic C</td>\n",
              "      <td>1200.0</td>\n",
              "      <td>2.0</td>\n",
              "      <td>0.0</td>\n",
              "      <td>130.00</td>\n",
              "      <td>3</td>\n",
              "      <td>10833.333333</td>\n",
              "    </tr>\n",
              "    <tr>\n",
              "      <th>4</th>\n",
              "      <td>1st Block Jayanagar</td>\n",
              "      <td>2 BHK</td>\n",
              "      <td>NaN</td>\n",
              "      <td>1235.0</td>\n",
              "      <td>2.0</td>\n",
              "      <td>2.0</td>\n",
              "      <td>148.00</td>\n",
              "      <td>2</td>\n",
              "      <td>11983.805668</td>\n",
              "    </tr>\n",
              "    <tr>\n",
              "      <th>...</th>\n",
              "      <td>...</td>\n",
              "      <td>...</td>\n",
              "      <td>...</td>\n",
              "      <td>...</td>\n",
              "      <td>...</td>\n",
              "      <td>...</td>\n",
              "      <td>...</td>\n",
              "      <td>...</td>\n",
              "      <td>...</td>\n",
              "    </tr>\n",
              "    <tr>\n",
              "      <th>10296</th>\n",
              "      <td>other</td>\n",
              "      <td>2 BHK</td>\n",
              "      <td>OlarkLa</td>\n",
              "      <td>1353.0</td>\n",
              "      <td>2.0</td>\n",
              "      <td>2.0</td>\n",
              "      <td>110.00</td>\n",
              "      <td>2</td>\n",
              "      <td>8130.081301</td>\n",
              "    </tr>\n",
              "    <tr>\n",
              "      <th>10297</th>\n",
              "      <td>other</td>\n",
              "      <td>1 Bedroom</td>\n",
              "      <td>NaN</td>\n",
              "      <td>812.0</td>\n",
              "      <td>1.0</td>\n",
              "      <td>0.0</td>\n",
              "      <td>26.00</td>\n",
              "      <td>1</td>\n",
              "      <td>3201.970443</td>\n",
              "    </tr>\n",
              "    <tr>\n",
              "      <th>10298</th>\n",
              "      <td>other</td>\n",
              "      <td>3 BHK</td>\n",
              "      <td>Plowsri</td>\n",
              "      <td>1440.0</td>\n",
              "      <td>2.0</td>\n",
              "      <td>2.0</td>\n",
              "      <td>63.93</td>\n",
              "      <td>3</td>\n",
              "      <td>4439.583333</td>\n",
              "    </tr>\n",
              "    <tr>\n",
              "      <th>10299</th>\n",
              "      <td>other</td>\n",
              "      <td>2 BHK</td>\n",
              "      <td>NaN</td>\n",
              "      <td>1075.0</td>\n",
              "      <td>2.0</td>\n",
              "      <td>2.0</td>\n",
              "      <td>48.00</td>\n",
              "      <td>2</td>\n",
              "      <td>4465.116279</td>\n",
              "    </tr>\n",
              "    <tr>\n",
              "      <th>10300</th>\n",
              "      <td>other</td>\n",
              "      <td>4 BHK</td>\n",
              "      <td>NaN</td>\n",
              "      <td>3600.0</td>\n",
              "      <td>5.0</td>\n",
              "      <td>NaN</td>\n",
              "      <td>400.00</td>\n",
              "      <td>4</td>\n",
              "      <td>11111.111111</td>\n",
              "    </tr>\n",
              "  </tbody>\n",
              "</table>\n",
              "<p>10301 rows × 9 columns</p>\n",
              "</div>\n",
              "      <button class=\"colab-df-convert\" onclick=\"convertToInteractive('df-be741ca7-e5ba-4f8e-9a3b-68f4d24042b9')\"\n",
              "              title=\"Convert this dataframe to an interactive table.\"\n",
              "              style=\"display:none;\">\n",
              "        \n",
              "  <svg xmlns=\"http://www.w3.org/2000/svg\" height=\"24px\"viewBox=\"0 0 24 24\"\n",
              "       width=\"24px\">\n",
              "    <path d=\"M0 0h24v24H0V0z\" fill=\"none\"/>\n",
              "    <path d=\"M18.56 5.44l.94 2.06.94-2.06 2.06-.94-2.06-.94-.94-2.06-.94 2.06-2.06.94zm-11 1L8.5 8.5l.94-2.06 2.06-.94-2.06-.94L8.5 2.5l-.94 2.06-2.06.94zm10 10l.94 2.06.94-2.06 2.06-.94-2.06-.94-.94-2.06-.94 2.06-2.06.94z\"/><path d=\"M17.41 7.96l-1.37-1.37c-.4-.4-.92-.59-1.43-.59-.52 0-1.04.2-1.43.59L10.3 9.45l-7.72 7.72c-.78.78-.78 2.05 0 2.83L4 21.41c.39.39.9.59 1.41.59.51 0 1.02-.2 1.41-.59l7.78-7.78 2.81-2.81c.8-.78.8-2.07 0-2.86zM5.41 20L4 18.59l7.72-7.72 1.47 1.35L5.41 20z\"/>\n",
              "  </svg>\n",
              "      </button>\n",
              "      \n",
              "  <style>\n",
              "    .colab-df-container {\n",
              "      display:flex;\n",
              "      flex-wrap:wrap;\n",
              "      gap: 12px;\n",
              "    }\n",
              "\n",
              "    .colab-df-convert {\n",
              "      background-color: #E8F0FE;\n",
              "      border: none;\n",
              "      border-radius: 50%;\n",
              "      cursor: pointer;\n",
              "      display: none;\n",
              "      fill: #1967D2;\n",
              "      height: 32px;\n",
              "      padding: 0 0 0 0;\n",
              "      width: 32px;\n",
              "    }\n",
              "\n",
              "    .colab-df-convert:hover {\n",
              "      background-color: #E2EBFA;\n",
              "      box-shadow: 0px 1px 2px rgba(60, 64, 67, 0.3), 0px 1px 3px 1px rgba(60, 64, 67, 0.15);\n",
              "      fill: #174EA6;\n",
              "    }\n",
              "\n",
              "    [theme=dark] .colab-df-convert {\n",
              "      background-color: #3B4455;\n",
              "      fill: #D2E3FC;\n",
              "    }\n",
              "\n",
              "    [theme=dark] .colab-df-convert:hover {\n",
              "      background-color: #434B5C;\n",
              "      box-shadow: 0px 1px 3px 1px rgba(0, 0, 0, 0.15);\n",
              "      filter: drop-shadow(0px 1px 2px rgba(0, 0, 0, 0.3));\n",
              "      fill: #FFFFFF;\n",
              "    }\n",
              "  </style>\n",
              "\n",
              "      <script>\n",
              "        const buttonEl =\n",
              "          document.querySelector('#df-be741ca7-e5ba-4f8e-9a3b-68f4d24042b9 button.colab-df-convert');\n",
              "        buttonEl.style.display =\n",
              "          google.colab.kernel.accessAllowed ? 'block' : 'none';\n",
              "\n",
              "        async function convertToInteractive(key) {\n",
              "          const element = document.querySelector('#df-be741ca7-e5ba-4f8e-9a3b-68f4d24042b9');\n",
              "          const dataTable =\n",
              "            await google.colab.kernel.invokeFunction('convertToInteractive',\n",
              "                                                     [key], {});\n",
              "          if (!dataTable) return;\n",
              "\n",
              "          const docLinkHtml = 'Like what you see? Visit the ' +\n",
              "            '<a target=\"_blank\" href=https://colab.research.google.com/notebooks/data_table.ipynb>data table notebook</a>'\n",
              "            + ' to learn more about interactive tables.';\n",
              "          element.innerHTML = '';\n",
              "          dataTable['output_type'] = 'display_data';\n",
              "          await google.colab.output.renderOutput(dataTable, element);\n",
              "          const docLink = document.createElement('div');\n",
              "          docLink.innerHTML = docLinkHtml;\n",
              "          element.appendChild(docLink);\n",
              "        }\n",
              "      </script>\n",
              "    </div>\n",
              "  </div>\n",
              "  "
            ]
          },
          "metadata": {},
          "execution_count": 49
        }
      ]
    },
    {
      "cell_type": "code",
      "source": [
        "data.drop(columns=('size'))"
      ],
      "metadata": {
        "colab": {
          "base_uri": "https://localhost:8080/",
          "height": 423
        },
        "id": "05O5g5_zTSMJ",
        "outputId": "5aed3bdc-2909-46f5-f56a-b6a254d3b7ac"
      },
      "execution_count": null,
      "outputs": [
        {
          "output_type": "execute_result",
          "data": {
            "text/plain": [
              "                  location  society  total_sqft  bath  balcony   price  bhk  \\\n",
              "0      1st Block Jayanagar      NaN      2850.0   4.0      1.0  428.00    4   \n",
              "1      1st Block Jayanagar      NaN      1630.0   3.0      2.0  194.00    3   \n",
              "2      1st Block Jayanagar      NaN      1875.0   2.0      3.0  235.00    3   \n",
              "3      1st Block Jayanagar  Bhsic C      1200.0   2.0      0.0  130.00    3   \n",
              "4      1st Block Jayanagar      NaN      1235.0   2.0      2.0  148.00    2   \n",
              "...                    ...      ...         ...   ...      ...     ...  ...   \n",
              "10296                other  OlarkLa      1353.0   2.0      2.0  110.00    2   \n",
              "10297                other      NaN       812.0   1.0      0.0   26.00    1   \n",
              "10298                other  Plowsri      1440.0   2.0      2.0   63.93    3   \n",
              "10299                other      NaN      1075.0   2.0      2.0   48.00    2   \n",
              "10300                other      NaN      3600.0   5.0      NaN  400.00    4   \n",
              "\n",
              "       price_per_sqft  \n",
              "0        15017.543860  \n",
              "1        11901.840491  \n",
              "2        12533.333333  \n",
              "3        10833.333333  \n",
              "4        11983.805668  \n",
              "...               ...  \n",
              "10296     8130.081301  \n",
              "10297     3201.970443  \n",
              "10298     4439.583333  \n",
              "10299     4465.116279  \n",
              "10300    11111.111111  \n",
              "\n",
              "[10301 rows x 8 columns]"
            ],
            "text/html": [
              "\n",
              "  <div id=\"df-7d38fd32-1a5d-4f17-8280-3416c296386f\">\n",
              "    <div class=\"colab-df-container\">\n",
              "      <div>\n",
              "<style scoped>\n",
              "    .dataframe tbody tr th:only-of-type {\n",
              "        vertical-align: middle;\n",
              "    }\n",
              "\n",
              "    .dataframe tbody tr th {\n",
              "        vertical-align: top;\n",
              "    }\n",
              "\n",
              "    .dataframe thead th {\n",
              "        text-align: right;\n",
              "    }\n",
              "</style>\n",
              "<table border=\"1\" class=\"dataframe\">\n",
              "  <thead>\n",
              "    <tr style=\"text-align: right;\">\n",
              "      <th></th>\n",
              "      <th>location</th>\n",
              "      <th>society</th>\n",
              "      <th>total_sqft</th>\n",
              "      <th>bath</th>\n",
              "      <th>balcony</th>\n",
              "      <th>price</th>\n",
              "      <th>bhk</th>\n",
              "      <th>price_per_sqft</th>\n",
              "    </tr>\n",
              "  </thead>\n",
              "  <tbody>\n",
              "    <tr>\n",
              "      <th>0</th>\n",
              "      <td>1st Block Jayanagar</td>\n",
              "      <td>NaN</td>\n",
              "      <td>2850.0</td>\n",
              "      <td>4.0</td>\n",
              "      <td>1.0</td>\n",
              "      <td>428.00</td>\n",
              "      <td>4</td>\n",
              "      <td>15017.543860</td>\n",
              "    </tr>\n",
              "    <tr>\n",
              "      <th>1</th>\n",
              "      <td>1st Block Jayanagar</td>\n",
              "      <td>NaN</td>\n",
              "      <td>1630.0</td>\n",
              "      <td>3.0</td>\n",
              "      <td>2.0</td>\n",
              "      <td>194.00</td>\n",
              "      <td>3</td>\n",
              "      <td>11901.840491</td>\n",
              "    </tr>\n",
              "    <tr>\n",
              "      <th>2</th>\n",
              "      <td>1st Block Jayanagar</td>\n",
              "      <td>NaN</td>\n",
              "      <td>1875.0</td>\n",
              "      <td>2.0</td>\n",
              "      <td>3.0</td>\n",
              "      <td>235.00</td>\n",
              "      <td>3</td>\n",
              "      <td>12533.333333</td>\n",
              "    </tr>\n",
              "    <tr>\n",
              "      <th>3</th>\n",
              "      <td>1st Block Jayanagar</td>\n",
              "      <td>Bhsic C</td>\n",
              "      <td>1200.0</td>\n",
              "      <td>2.0</td>\n",
              "      <td>0.0</td>\n",
              "      <td>130.00</td>\n",
              "      <td>3</td>\n",
              "      <td>10833.333333</td>\n",
              "    </tr>\n",
              "    <tr>\n",
              "      <th>4</th>\n",
              "      <td>1st Block Jayanagar</td>\n",
              "      <td>NaN</td>\n",
              "      <td>1235.0</td>\n",
              "      <td>2.0</td>\n",
              "      <td>2.0</td>\n",
              "      <td>148.00</td>\n",
              "      <td>2</td>\n",
              "      <td>11983.805668</td>\n",
              "    </tr>\n",
              "    <tr>\n",
              "      <th>...</th>\n",
              "      <td>...</td>\n",
              "      <td>...</td>\n",
              "      <td>...</td>\n",
              "      <td>...</td>\n",
              "      <td>...</td>\n",
              "      <td>...</td>\n",
              "      <td>...</td>\n",
              "      <td>...</td>\n",
              "    </tr>\n",
              "    <tr>\n",
              "      <th>10296</th>\n",
              "      <td>other</td>\n",
              "      <td>OlarkLa</td>\n",
              "      <td>1353.0</td>\n",
              "      <td>2.0</td>\n",
              "      <td>2.0</td>\n",
              "      <td>110.00</td>\n",
              "      <td>2</td>\n",
              "      <td>8130.081301</td>\n",
              "    </tr>\n",
              "    <tr>\n",
              "      <th>10297</th>\n",
              "      <td>other</td>\n",
              "      <td>NaN</td>\n",
              "      <td>812.0</td>\n",
              "      <td>1.0</td>\n",
              "      <td>0.0</td>\n",
              "      <td>26.00</td>\n",
              "      <td>1</td>\n",
              "      <td>3201.970443</td>\n",
              "    </tr>\n",
              "    <tr>\n",
              "      <th>10298</th>\n",
              "      <td>other</td>\n",
              "      <td>Plowsri</td>\n",
              "      <td>1440.0</td>\n",
              "      <td>2.0</td>\n",
              "      <td>2.0</td>\n",
              "      <td>63.93</td>\n",
              "      <td>3</td>\n",
              "      <td>4439.583333</td>\n",
              "    </tr>\n",
              "    <tr>\n",
              "      <th>10299</th>\n",
              "      <td>other</td>\n",
              "      <td>NaN</td>\n",
              "      <td>1075.0</td>\n",
              "      <td>2.0</td>\n",
              "      <td>2.0</td>\n",
              "      <td>48.00</td>\n",
              "      <td>2</td>\n",
              "      <td>4465.116279</td>\n",
              "    </tr>\n",
              "    <tr>\n",
              "      <th>10300</th>\n",
              "      <td>other</td>\n",
              "      <td>NaN</td>\n",
              "      <td>3600.0</td>\n",
              "      <td>5.0</td>\n",
              "      <td>NaN</td>\n",
              "      <td>400.00</td>\n",
              "      <td>4</td>\n",
              "      <td>11111.111111</td>\n",
              "    </tr>\n",
              "  </tbody>\n",
              "</table>\n",
              "<p>10301 rows × 8 columns</p>\n",
              "</div>\n",
              "      <button class=\"colab-df-convert\" onclick=\"convertToInteractive('df-7d38fd32-1a5d-4f17-8280-3416c296386f')\"\n",
              "              title=\"Convert this dataframe to an interactive table.\"\n",
              "              style=\"display:none;\">\n",
              "        \n",
              "  <svg xmlns=\"http://www.w3.org/2000/svg\" height=\"24px\"viewBox=\"0 0 24 24\"\n",
              "       width=\"24px\">\n",
              "    <path d=\"M0 0h24v24H0V0z\" fill=\"none\"/>\n",
              "    <path d=\"M18.56 5.44l.94 2.06.94-2.06 2.06-.94-2.06-.94-.94-2.06-.94 2.06-2.06.94zm-11 1L8.5 8.5l.94-2.06 2.06-.94-2.06-.94L8.5 2.5l-.94 2.06-2.06.94zm10 10l.94 2.06.94-2.06 2.06-.94-2.06-.94-.94-2.06-.94 2.06-2.06.94z\"/><path d=\"M17.41 7.96l-1.37-1.37c-.4-.4-.92-.59-1.43-.59-.52 0-1.04.2-1.43.59L10.3 9.45l-7.72 7.72c-.78.78-.78 2.05 0 2.83L4 21.41c.39.39.9.59 1.41.59.51 0 1.02-.2 1.41-.59l7.78-7.78 2.81-2.81c.8-.78.8-2.07 0-2.86zM5.41 20L4 18.59l7.72-7.72 1.47 1.35L5.41 20z\"/>\n",
              "  </svg>\n",
              "      </button>\n",
              "      \n",
              "  <style>\n",
              "    .colab-df-container {\n",
              "      display:flex;\n",
              "      flex-wrap:wrap;\n",
              "      gap: 12px;\n",
              "    }\n",
              "\n",
              "    .colab-df-convert {\n",
              "      background-color: #E8F0FE;\n",
              "      border: none;\n",
              "      border-radius: 50%;\n",
              "      cursor: pointer;\n",
              "      display: none;\n",
              "      fill: #1967D2;\n",
              "      height: 32px;\n",
              "      padding: 0 0 0 0;\n",
              "      width: 32px;\n",
              "    }\n",
              "\n",
              "    .colab-df-convert:hover {\n",
              "      background-color: #E2EBFA;\n",
              "      box-shadow: 0px 1px 2px rgba(60, 64, 67, 0.3), 0px 1px 3px 1px rgba(60, 64, 67, 0.15);\n",
              "      fill: #174EA6;\n",
              "    }\n",
              "\n",
              "    [theme=dark] .colab-df-convert {\n",
              "      background-color: #3B4455;\n",
              "      fill: #D2E3FC;\n",
              "    }\n",
              "\n",
              "    [theme=dark] .colab-df-convert:hover {\n",
              "      background-color: #434B5C;\n",
              "      box-shadow: 0px 1px 3px 1px rgba(0, 0, 0, 0.15);\n",
              "      filter: drop-shadow(0px 1px 2px rgba(0, 0, 0, 0.3));\n",
              "      fill: #FFFFFF;\n",
              "    }\n",
              "  </style>\n",
              "\n",
              "      <script>\n",
              "        const buttonEl =\n",
              "          document.querySelector('#df-7d38fd32-1a5d-4f17-8280-3416c296386f button.colab-df-convert');\n",
              "        buttonEl.style.display =\n",
              "          google.colab.kernel.accessAllowed ? 'block' : 'none';\n",
              "\n",
              "        async function convertToInteractive(key) {\n",
              "          const element = document.querySelector('#df-7d38fd32-1a5d-4f17-8280-3416c296386f');\n",
              "          const dataTable =\n",
              "            await google.colab.kernel.invokeFunction('convertToInteractive',\n",
              "                                                     [key], {});\n",
              "          if (!dataTable) return;\n",
              "\n",
              "          const docLinkHtml = 'Like what you see? Visit the ' +\n",
              "            '<a target=\"_blank\" href=https://colab.research.google.com/notebooks/data_table.ipynb>data table notebook</a>'\n",
              "            + ' to learn more about interactive tables.';\n",
              "          element.innerHTML = '';\n",
              "          dataTable['output_type'] = 'display_data';\n",
              "          await google.colab.output.renderOutput(dataTable, element);\n",
              "          const docLink = document.createElement('div');\n",
              "          docLink.innerHTML = docLinkHtml;\n",
              "          element.appendChild(docLink);\n",
              "        }\n",
              "      </script>\n",
              "    </div>\n",
              "  </div>\n",
              "  "
            ]
          },
          "metadata": {},
          "execution_count": 37
        }
      ]
    },
    {
      "cell_type": "code",
      "source": [
        "data.drop(columns=['size','price_per_sqft'],inplace=True)"
      ],
      "metadata": {
        "id": "DVOTqbZUiKSm"
      },
      "execution_count": null,
      "outputs": []
    },
    {
      "cell_type": "code",
      "source": [
        "data.drop(columns=['society','balcony'],inplace=True)"
      ],
      "metadata": {
        "id": "vmRolzRljHAf"
      },
      "execution_count": null,
      "outputs": []
    },
    {
      "cell_type": "markdown",
      "source": [
        "Cleaned Data\n"
      ],
      "metadata": {
        "id": "eLKxUUVbicFr"
      }
    },
    {
      "cell_type": "code",
      "source": [
        "data.head()"
      ],
      "metadata": {
        "colab": {
          "base_uri": "https://localhost:8080/",
          "height": 206
        },
        "id": "KzXA9S2uig4q",
        "outputId": "e8e4c5ad-0c66-4f0a-dc42-9032bb05d9d8"
      },
      "execution_count": null,
      "outputs": [
        {
          "output_type": "execute_result",
          "data": {
            "text/plain": [
              "              location  total_sqft  bath  price  bhk\n",
              "0  1st Block Jayanagar      2850.0   4.0  428.0    4\n",
              "1  1st Block Jayanagar      1630.0   3.0  194.0    3\n",
              "2  1st Block Jayanagar      1875.0   2.0  235.0    3\n",
              "3  1st Block Jayanagar      1200.0   2.0  130.0    3\n",
              "4  1st Block Jayanagar      1235.0   2.0  148.0    2"
            ],
            "text/html": [
              "\n",
              "  <div id=\"df-6d0dade4-ba0d-44be-ae59-639a0f0c12ec\">\n",
              "    <div class=\"colab-df-container\">\n",
              "      <div>\n",
              "<style scoped>\n",
              "    .dataframe tbody tr th:only-of-type {\n",
              "        vertical-align: middle;\n",
              "    }\n",
              "\n",
              "    .dataframe tbody tr th {\n",
              "        vertical-align: top;\n",
              "    }\n",
              "\n",
              "    .dataframe thead th {\n",
              "        text-align: right;\n",
              "    }\n",
              "</style>\n",
              "<table border=\"1\" class=\"dataframe\">\n",
              "  <thead>\n",
              "    <tr style=\"text-align: right;\">\n",
              "      <th></th>\n",
              "      <th>location</th>\n",
              "      <th>total_sqft</th>\n",
              "      <th>bath</th>\n",
              "      <th>price</th>\n",
              "      <th>bhk</th>\n",
              "    </tr>\n",
              "  </thead>\n",
              "  <tbody>\n",
              "    <tr>\n",
              "      <th>0</th>\n",
              "      <td>1st Block Jayanagar</td>\n",
              "      <td>2850.0</td>\n",
              "      <td>4.0</td>\n",
              "      <td>428.0</td>\n",
              "      <td>4</td>\n",
              "    </tr>\n",
              "    <tr>\n",
              "      <th>1</th>\n",
              "      <td>1st Block Jayanagar</td>\n",
              "      <td>1630.0</td>\n",
              "      <td>3.0</td>\n",
              "      <td>194.0</td>\n",
              "      <td>3</td>\n",
              "    </tr>\n",
              "    <tr>\n",
              "      <th>2</th>\n",
              "      <td>1st Block Jayanagar</td>\n",
              "      <td>1875.0</td>\n",
              "      <td>2.0</td>\n",
              "      <td>235.0</td>\n",
              "      <td>3</td>\n",
              "    </tr>\n",
              "    <tr>\n",
              "      <th>3</th>\n",
              "      <td>1st Block Jayanagar</td>\n",
              "      <td>1200.0</td>\n",
              "      <td>2.0</td>\n",
              "      <td>130.0</td>\n",
              "      <td>3</td>\n",
              "    </tr>\n",
              "    <tr>\n",
              "      <th>4</th>\n",
              "      <td>1st Block Jayanagar</td>\n",
              "      <td>1235.0</td>\n",
              "      <td>2.0</td>\n",
              "      <td>148.0</td>\n",
              "      <td>2</td>\n",
              "    </tr>\n",
              "  </tbody>\n",
              "</table>\n",
              "</div>\n",
              "      <button class=\"colab-df-convert\" onclick=\"convertToInteractive('df-6d0dade4-ba0d-44be-ae59-639a0f0c12ec')\"\n",
              "              title=\"Convert this dataframe to an interactive table.\"\n",
              "              style=\"display:none;\">\n",
              "        \n",
              "  <svg xmlns=\"http://www.w3.org/2000/svg\" height=\"24px\"viewBox=\"0 0 24 24\"\n",
              "       width=\"24px\">\n",
              "    <path d=\"M0 0h24v24H0V0z\" fill=\"none\"/>\n",
              "    <path d=\"M18.56 5.44l.94 2.06.94-2.06 2.06-.94-2.06-.94-.94-2.06-.94 2.06-2.06.94zm-11 1L8.5 8.5l.94-2.06 2.06-.94-2.06-.94L8.5 2.5l-.94 2.06-2.06.94zm10 10l.94 2.06.94-2.06 2.06-.94-2.06-.94-.94-2.06-.94 2.06-2.06.94z\"/><path d=\"M17.41 7.96l-1.37-1.37c-.4-.4-.92-.59-1.43-.59-.52 0-1.04.2-1.43.59L10.3 9.45l-7.72 7.72c-.78.78-.78 2.05 0 2.83L4 21.41c.39.39.9.59 1.41.59.51 0 1.02-.2 1.41-.59l7.78-7.78 2.81-2.81c.8-.78.8-2.07 0-2.86zM5.41 20L4 18.59l7.72-7.72 1.47 1.35L5.41 20z\"/>\n",
              "  </svg>\n",
              "      </button>\n",
              "      \n",
              "  <style>\n",
              "    .colab-df-container {\n",
              "      display:flex;\n",
              "      flex-wrap:wrap;\n",
              "      gap: 12px;\n",
              "    }\n",
              "\n",
              "    .colab-df-convert {\n",
              "      background-color: #E8F0FE;\n",
              "      border: none;\n",
              "      border-radius: 50%;\n",
              "      cursor: pointer;\n",
              "      display: none;\n",
              "      fill: #1967D2;\n",
              "      height: 32px;\n",
              "      padding: 0 0 0 0;\n",
              "      width: 32px;\n",
              "    }\n",
              "\n",
              "    .colab-df-convert:hover {\n",
              "      background-color: #E2EBFA;\n",
              "      box-shadow: 0px 1px 2px rgba(60, 64, 67, 0.3), 0px 1px 3px 1px rgba(60, 64, 67, 0.15);\n",
              "      fill: #174EA6;\n",
              "    }\n",
              "\n",
              "    [theme=dark] .colab-df-convert {\n",
              "      background-color: #3B4455;\n",
              "      fill: #D2E3FC;\n",
              "    }\n",
              "\n",
              "    [theme=dark] .colab-df-convert:hover {\n",
              "      background-color: #434B5C;\n",
              "      box-shadow: 0px 1px 3px 1px rgba(0, 0, 0, 0.15);\n",
              "      filter: drop-shadow(0px 1px 2px rgba(0, 0, 0, 0.3));\n",
              "      fill: #FFFFFF;\n",
              "    }\n",
              "  </style>\n",
              "\n",
              "      <script>\n",
              "        const buttonEl =\n",
              "          document.querySelector('#df-6d0dade4-ba0d-44be-ae59-639a0f0c12ec button.colab-df-convert');\n",
              "        buttonEl.style.display =\n",
              "          google.colab.kernel.accessAllowed ? 'block' : 'none';\n",
              "\n",
              "        async function convertToInteractive(key) {\n",
              "          const element = document.querySelector('#df-6d0dade4-ba0d-44be-ae59-639a0f0c12ec');\n",
              "          const dataTable =\n",
              "            await google.colab.kernel.invokeFunction('convertToInteractive',\n",
              "                                                     [key], {});\n",
              "          if (!dataTable) return;\n",
              "\n",
              "          const docLinkHtml = 'Like what you see? Visit the ' +\n",
              "            '<a target=\"_blank\" href=https://colab.research.google.com/notebooks/data_table.ipynb>data table notebook</a>'\n",
              "            + ' to learn more about interactive tables.';\n",
              "          element.innerHTML = '';\n",
              "          dataTable['output_type'] = 'display_data';\n",
              "          await google.colab.output.renderOutput(dataTable, element);\n",
              "          const docLink = document.createElement('div');\n",
              "          docLink.innerHTML = docLinkHtml;\n",
              "          element.appendChild(docLink);\n",
              "        }\n",
              "      </script>\n",
              "    </div>\n",
              "  </div>\n",
              "  "
            ]
          },
          "metadata": {},
          "execution_count": 40
        }
      ]
    },
    {
      "cell_type": "code",
      "source": [
        "data.to_csv(\"Cleaned_data.csv\")"
      ],
      "metadata": {
        "id": "3ZrH6DSAjN_t"
      },
      "execution_count": null,
      "outputs": []
    },
    {
      "cell_type": "code",
      "source": [
        "x=data.drop(columns=['price'])\n",
        "y=data['price']"
      ],
      "metadata": {
        "id": "L-nJwxV_ja2s"
      },
      "execution_count": null,
      "outputs": []
    },
    {
      "cell_type": "code",
      "source": [
        "from sklearn.model_selection import train_test_split\n",
        "\n",
        "from sklearn.linear_model import LinearRegression, Lasso, Ridge \n",
        "from sklearn.preprocessing import OneHotEncoder, StandardScaler\n",
        "\n",
        "from sklearn.compose import make_column_transformer\n",
        "from sklearn.pipeline import make_pipeline \n",
        "from sklearn.metrics import r2_score\n"
      ],
      "metadata": {
        "id": "CQVqyLk5kPtN"
      },
      "execution_count": null,
      "outputs": []
    },
    {
      "cell_type": "code",
      "source": [
        "x_train,x_test,y_train,y_test= train_test_split(x,y,test_size=0.2,random_state=0)"
      ],
      "metadata": {
        "id": "t7W0_s99lFUh"
      },
      "execution_count": null,
      "outputs": []
    },
    {
      "cell_type": "code",
      "source": [
        "print(x_train.shape)\n",
        "print(x_test.shape)"
      ],
      "metadata": {
        "colab": {
          "base_uri": "https://localhost:8080/"
        },
        "id": "BLyE4d4glmpp",
        "outputId": "28c14bfb-00bf-4eae-9b37-646f9cd9d975"
      },
      "execution_count": null,
      "outputs": [
        {
          "output_type": "stream",
          "name": "stdout",
          "text": [
            "(8240, 4)\n",
            "(2061, 4)\n"
          ]
        }
      ]
    },
    {
      "cell_type": "markdown",
      "source": [
        "Applying Linear Regression"
      ],
      "metadata": {
        "id": "BRufhr0zl3Jh"
      }
    },
    {
      "cell_type": "code",
      "source": [
        "column_trans=make_column_transformer((OneHotEncoder(sparse=False),['location']),remainder='passthrough')"
      ],
      "metadata": {
        "id": "nytFHjy0l8Ak"
      },
      "execution_count": null,
      "outputs": []
    },
    {
      "cell_type": "code",
      "source": [
        "scaler=StandardScaler()"
      ],
      "metadata": {
        "id": "5ABXwPNx18-D"
      },
      "execution_count": null,
      "outputs": []
    },
    {
      "cell_type": "code",
      "source": [
        "lr = LinearRegression()"
      ],
      "metadata": {
        "id": "M8Kih1ea2EGb"
      },
      "execution_count": null,
      "outputs": []
    },
    {
      "cell_type": "code",
      "source": [
        "pipe=make_pipeline(column_trans,scaler,lr)"
      ],
      "metadata": {
        "id": "BGDu2M6W5pHl"
      },
      "execution_count": null,
      "outputs": []
    },
    {
      "cell_type": "code",
      "source": [
        "pipe.fit(x_train,y_train)"
      ],
      "metadata": {
        "colab": {
          "base_uri": "https://localhost:8080/",
          "height": 280
        },
        "id": "q1JYdfyi52Fb",
        "outputId": "1bb4a943-aebd-4184-bd84-4f2ba8a9aa08"
      },
      "execution_count": null,
      "outputs": [
        {
          "output_type": "stream",
          "name": "stderr",
          "text": [
            "/usr/local/lib/python3.9/dist-packages/sklearn/preprocessing/_encoders.py:868: FutureWarning: `sparse` was renamed to `sparse_output` in version 1.2 and will be removed in 1.4. `sparse_output` is ignored unless you leave `sparse` to its default value.\n",
            "  warnings.warn(\n"
          ]
        },
        {
          "output_type": "execute_result",
          "data": {
            "text/plain": [
              "Pipeline(steps=[('columntransformer',\n",
              "                 ColumnTransformer(remainder='passthrough',\n",
              "                                   transformers=[('onehotencoder',\n",
              "                                                  OneHotEncoder(sparse=False),\n",
              "                                                  ['location'])])),\n",
              "                ('standardscaler', StandardScaler()),\n",
              "                ('linearregression', LinearRegression())])"
            ],
            "text/html": [
              "<style>#sk-container-id-1 {color: black;background-color: white;}#sk-container-id-1 pre{padding: 0;}#sk-container-id-1 div.sk-toggleable {background-color: white;}#sk-container-id-1 label.sk-toggleable__label {cursor: pointer;display: block;width: 100%;margin-bottom: 0;padding: 0.3em;box-sizing: border-box;text-align: center;}#sk-container-id-1 label.sk-toggleable__label-arrow:before {content: \"▸\";float: left;margin-right: 0.25em;color: #696969;}#sk-container-id-1 label.sk-toggleable__label-arrow:hover:before {color: black;}#sk-container-id-1 div.sk-estimator:hover label.sk-toggleable__label-arrow:before {color: black;}#sk-container-id-1 div.sk-toggleable__content {max-height: 0;max-width: 0;overflow: hidden;text-align: left;background-color: #f0f8ff;}#sk-container-id-1 div.sk-toggleable__content pre {margin: 0.2em;color: black;border-radius: 0.25em;background-color: #f0f8ff;}#sk-container-id-1 input.sk-toggleable__control:checked~div.sk-toggleable__content {max-height: 200px;max-width: 100%;overflow: auto;}#sk-container-id-1 input.sk-toggleable__control:checked~label.sk-toggleable__label-arrow:before {content: \"▾\";}#sk-container-id-1 div.sk-estimator input.sk-toggleable__control:checked~label.sk-toggleable__label {background-color: #d4ebff;}#sk-container-id-1 div.sk-label input.sk-toggleable__control:checked~label.sk-toggleable__label {background-color: #d4ebff;}#sk-container-id-1 input.sk-hidden--visually {border: 0;clip: rect(1px 1px 1px 1px);clip: rect(1px, 1px, 1px, 1px);height: 1px;margin: -1px;overflow: hidden;padding: 0;position: absolute;width: 1px;}#sk-container-id-1 div.sk-estimator {font-family: monospace;background-color: #f0f8ff;border: 1px dotted black;border-radius: 0.25em;box-sizing: border-box;margin-bottom: 0.5em;}#sk-container-id-1 div.sk-estimator:hover {background-color: #d4ebff;}#sk-container-id-1 div.sk-parallel-item::after {content: \"\";width: 100%;border-bottom: 1px solid gray;flex-grow: 1;}#sk-container-id-1 div.sk-label:hover label.sk-toggleable__label {background-color: #d4ebff;}#sk-container-id-1 div.sk-serial::before {content: \"\";position: absolute;border-left: 1px solid gray;box-sizing: border-box;top: 0;bottom: 0;left: 50%;z-index: 0;}#sk-container-id-1 div.sk-serial {display: flex;flex-direction: column;align-items: center;background-color: white;padding-right: 0.2em;padding-left: 0.2em;position: relative;}#sk-container-id-1 div.sk-item {position: relative;z-index: 1;}#sk-container-id-1 div.sk-parallel {display: flex;align-items: stretch;justify-content: center;background-color: white;position: relative;}#sk-container-id-1 div.sk-item::before, #sk-container-id-1 div.sk-parallel-item::before {content: \"\";position: absolute;border-left: 1px solid gray;box-sizing: border-box;top: 0;bottom: 0;left: 50%;z-index: -1;}#sk-container-id-1 div.sk-parallel-item {display: flex;flex-direction: column;z-index: 1;position: relative;background-color: white;}#sk-container-id-1 div.sk-parallel-item:first-child::after {align-self: flex-end;width: 50%;}#sk-container-id-1 div.sk-parallel-item:last-child::after {align-self: flex-start;width: 50%;}#sk-container-id-1 div.sk-parallel-item:only-child::after {width: 0;}#sk-container-id-1 div.sk-dashed-wrapped {border: 1px dashed gray;margin: 0 0.4em 0.5em 0.4em;box-sizing: border-box;padding-bottom: 0.4em;background-color: white;}#sk-container-id-1 div.sk-label label {font-family: monospace;font-weight: bold;display: inline-block;line-height: 1.2em;}#sk-container-id-1 div.sk-label-container {text-align: center;}#sk-container-id-1 div.sk-container {/* jupyter's `normalize.less` sets `[hidden] { display: none; }` but bootstrap.min.css set `[hidden] { display: none !important; }` so we also need the `!important` here to be able to override the default hidden behavior on the sphinx rendered scikit-learn.org. See: https://github.com/scikit-learn/scikit-learn/issues/21755 */display: inline-block !important;position: relative;}#sk-container-id-1 div.sk-text-repr-fallback {display: none;}</style><div id=\"sk-container-id-1\" class=\"sk-top-container\"><div class=\"sk-text-repr-fallback\"><pre>Pipeline(steps=[(&#x27;columntransformer&#x27;,\n",
              "                 ColumnTransformer(remainder=&#x27;passthrough&#x27;,\n",
              "                                   transformers=[(&#x27;onehotencoder&#x27;,\n",
              "                                                  OneHotEncoder(sparse=False),\n",
              "                                                  [&#x27;location&#x27;])])),\n",
              "                (&#x27;standardscaler&#x27;, StandardScaler()),\n",
              "                (&#x27;linearregression&#x27;, LinearRegression())])</pre><b>In a Jupyter environment, please rerun this cell to show the HTML representation or trust the notebook. <br />On GitHub, the HTML representation is unable to render, please try loading this page with nbviewer.org.</b></div><div class=\"sk-container\" hidden><div class=\"sk-item sk-dashed-wrapped\"><div class=\"sk-label-container\"><div class=\"sk-label sk-toggleable\"><input class=\"sk-toggleable__control sk-hidden--visually\" id=\"sk-estimator-id-1\" type=\"checkbox\" ><label for=\"sk-estimator-id-1\" class=\"sk-toggleable__label sk-toggleable__label-arrow\">Pipeline</label><div class=\"sk-toggleable__content\"><pre>Pipeline(steps=[(&#x27;columntransformer&#x27;,\n",
              "                 ColumnTransformer(remainder=&#x27;passthrough&#x27;,\n",
              "                                   transformers=[(&#x27;onehotencoder&#x27;,\n",
              "                                                  OneHotEncoder(sparse=False),\n",
              "                                                  [&#x27;location&#x27;])])),\n",
              "                (&#x27;standardscaler&#x27;, StandardScaler()),\n",
              "                (&#x27;linearregression&#x27;, LinearRegression())])</pre></div></div></div><div class=\"sk-serial\"><div class=\"sk-item sk-dashed-wrapped\"><div class=\"sk-label-container\"><div class=\"sk-label sk-toggleable\"><input class=\"sk-toggleable__control sk-hidden--visually\" id=\"sk-estimator-id-2\" type=\"checkbox\" ><label for=\"sk-estimator-id-2\" class=\"sk-toggleable__label sk-toggleable__label-arrow\">columntransformer: ColumnTransformer</label><div class=\"sk-toggleable__content\"><pre>ColumnTransformer(remainder=&#x27;passthrough&#x27;,\n",
              "                  transformers=[(&#x27;onehotencoder&#x27;, OneHotEncoder(sparse=False),\n",
              "                                 [&#x27;location&#x27;])])</pre></div></div></div><div class=\"sk-parallel\"><div class=\"sk-parallel-item\"><div class=\"sk-item\"><div class=\"sk-label-container\"><div class=\"sk-label sk-toggleable\"><input class=\"sk-toggleable__control sk-hidden--visually\" id=\"sk-estimator-id-3\" type=\"checkbox\" ><label for=\"sk-estimator-id-3\" class=\"sk-toggleable__label sk-toggleable__label-arrow\">onehotencoder</label><div class=\"sk-toggleable__content\"><pre>[&#x27;location&#x27;]</pre></div></div></div><div class=\"sk-serial\"><div class=\"sk-item\"><div class=\"sk-estimator sk-toggleable\"><input class=\"sk-toggleable__control sk-hidden--visually\" id=\"sk-estimator-id-4\" type=\"checkbox\" ><label for=\"sk-estimator-id-4\" class=\"sk-toggleable__label sk-toggleable__label-arrow\">OneHotEncoder</label><div class=\"sk-toggleable__content\"><pre>OneHotEncoder(sparse=False)</pre></div></div></div></div></div></div><div class=\"sk-parallel-item\"><div class=\"sk-item\"><div class=\"sk-label-container\"><div class=\"sk-label sk-toggleable\"><input class=\"sk-toggleable__control sk-hidden--visually\" id=\"sk-estimator-id-5\" type=\"checkbox\" ><label for=\"sk-estimator-id-5\" class=\"sk-toggleable__label sk-toggleable__label-arrow\">remainder</label><div class=\"sk-toggleable__content\"><pre>[&#x27;total_sqft&#x27;, &#x27;bath&#x27;, &#x27;bhk&#x27;]</pre></div></div></div><div class=\"sk-serial\"><div class=\"sk-item\"><div class=\"sk-estimator sk-toggleable\"><input class=\"sk-toggleable__control sk-hidden--visually\" id=\"sk-estimator-id-6\" type=\"checkbox\" ><label for=\"sk-estimator-id-6\" class=\"sk-toggleable__label sk-toggleable__label-arrow\">passthrough</label><div class=\"sk-toggleable__content\"><pre>passthrough</pre></div></div></div></div></div></div></div></div><div class=\"sk-item\"><div class=\"sk-estimator sk-toggleable\"><input class=\"sk-toggleable__control sk-hidden--visually\" id=\"sk-estimator-id-7\" type=\"checkbox\" ><label for=\"sk-estimator-id-7\" class=\"sk-toggleable__label sk-toggleable__label-arrow\">StandardScaler</label><div class=\"sk-toggleable__content\"><pre>StandardScaler()</pre></div></div></div><div class=\"sk-item\"><div class=\"sk-estimator sk-toggleable\"><input class=\"sk-toggleable__control sk-hidden--visually\" id=\"sk-estimator-id-8\" type=\"checkbox\" ><label for=\"sk-estimator-id-8\" class=\"sk-toggleable__label sk-toggleable__label-arrow\">LinearRegression</label><div class=\"sk-toggleable__content\"><pre>LinearRegression()</pre></div></div></div></div></div></div></div>"
            ]
          },
          "metadata": {},
          "execution_count": 50
        }
      ]
    },
    {
      "cell_type": "code",
      "source": [
        "y_pred_lr=pipe.predict(x_test)"
      ],
      "metadata": {
        "id": "shfXBMhG6D31"
      },
      "execution_count": null,
      "outputs": []
    },
    {
      "cell_type": "code",
      "source": [
        "r2_score(y_test,y_pred_lr)"
      ],
      "metadata": {
        "colab": {
          "base_uri": "https://localhost:8080/"
        },
        "id": "R1_ohRkc6hxW",
        "outputId": "57479f81-5fa6-40c1-c039-ed73cdb1cfc8"
      },
      "execution_count": null,
      "outputs": [
        {
          "output_type": "execute_result",
          "data": {
            "text/plain": [
              "0.8284621985687635"
            ]
          },
          "metadata": {},
          "execution_count": 52
        }
      ]
    },
    {
      "cell_type": "code",
      "source": [
        "from sklearn.metrics import mean_squared_error "
      ],
      "metadata": {
        "id": "vuf0ro97EBvE"
      },
      "execution_count": null,
      "outputs": []
    },
    {
      "cell_type": "markdown",
      "source": [
        "Logistic Regression\n"
      ],
      "metadata": {
        "id": "mF7wpQB971Kx"
      }
    },
    {
      "cell_type": "code",
      "source": [
        "from sklearn.linear_model import LogisticRegression"
      ],
      "metadata": {
        "id": "PNzC-EUv75ep"
      },
      "execution_count": null,
      "outputs": []
    },
    {
      "cell_type": "code",
      "source": [
        "X = data.iloc[:,data.columns != 'location']\n",
        "Y = data.location"
      ],
      "metadata": {
        "id": "1pTarBVdbuoB"
      },
      "execution_count": null,
      "outputs": []
    },
    {
      "cell_type": "code",
      "source": [
        "X_train, X_test, Y_train, Y_test = train_test_split(\n",
        "X, Y, test_size=0.20, random_state=5, stratify=Y)"
      ],
      "metadata": {
        "id": "d8XEFkklc6g_"
      },
      "execution_count": null,
      "outputs": []
    },
    {
      "cell_type": "code",
      "source": [
        "from sklearn import preprocessing"
      ],
      "metadata": {
        "id": "pqmn6shIdN68"
      },
      "execution_count": null,
      "outputs": []
    },
    {
      "cell_type": "code",
      "source": [
        "sca = preprocessing.StandardScaler().fit(X_train)\n",
        "X_train_scaled = sca.transform(X_train)"
      ],
      "metadata": {
        "id": "-9uwWn_kdA4G"
      },
      "execution_count": null,
      "outputs": []
    },
    {
      "cell_type": "code",
      "source": [
        "model = LogisticRegression()"
      ],
      "metadata": {
        "id": "Tks79AFtdUhW"
      },
      "execution_count": null,
      "outputs": []
    },
    {
      "cell_type": "code",
      "source": [
        "model.fit(X_train_scaled, Y_train)"
      ],
      "metadata": {
        "colab": {
          "base_uri": "https://localhost:8080/",
          "height": 213
        },
        "id": "h9jxJGF4dV0Q",
        "outputId": "7cf24ee4-2a26-43ba-9940-da325951efc1"
      },
      "execution_count": null,
      "outputs": [
        {
          "output_type": "stream",
          "name": "stderr",
          "text": [
            "/usr/local/lib/python3.9/dist-packages/sklearn/linear_model/_logistic.py:458: ConvergenceWarning: lbfgs failed to converge (status=1):\n",
            "STOP: TOTAL NO. of ITERATIONS REACHED LIMIT.\n",
            "\n",
            "Increase the number of iterations (max_iter) or scale the data as shown in:\n",
            "    https://scikit-learn.org/stable/modules/preprocessing.html\n",
            "Please also refer to the documentation for alternative solver options:\n",
            "    https://scikit-learn.org/stable/modules/linear_model.html#logistic-regression\n",
            "  n_iter_i = _check_optimize_result(\n"
          ]
        },
        {
          "output_type": "execute_result",
          "data": {
            "text/plain": [
              "LogisticRegression()"
            ],
            "text/html": [
              "<style>#sk-container-id-2 {color: black;background-color: white;}#sk-container-id-2 pre{padding: 0;}#sk-container-id-2 div.sk-toggleable {background-color: white;}#sk-container-id-2 label.sk-toggleable__label {cursor: pointer;display: block;width: 100%;margin-bottom: 0;padding: 0.3em;box-sizing: border-box;text-align: center;}#sk-container-id-2 label.sk-toggleable__label-arrow:before {content: \"▸\";float: left;margin-right: 0.25em;color: #696969;}#sk-container-id-2 label.sk-toggleable__label-arrow:hover:before {color: black;}#sk-container-id-2 div.sk-estimator:hover label.sk-toggleable__label-arrow:before {color: black;}#sk-container-id-2 div.sk-toggleable__content {max-height: 0;max-width: 0;overflow: hidden;text-align: left;background-color: #f0f8ff;}#sk-container-id-2 div.sk-toggleable__content pre {margin: 0.2em;color: black;border-radius: 0.25em;background-color: #f0f8ff;}#sk-container-id-2 input.sk-toggleable__control:checked~div.sk-toggleable__content {max-height: 200px;max-width: 100%;overflow: auto;}#sk-container-id-2 input.sk-toggleable__control:checked~label.sk-toggleable__label-arrow:before {content: \"▾\";}#sk-container-id-2 div.sk-estimator input.sk-toggleable__control:checked~label.sk-toggleable__label {background-color: #d4ebff;}#sk-container-id-2 div.sk-label input.sk-toggleable__control:checked~label.sk-toggleable__label {background-color: #d4ebff;}#sk-container-id-2 input.sk-hidden--visually {border: 0;clip: rect(1px 1px 1px 1px);clip: rect(1px, 1px, 1px, 1px);height: 1px;margin: -1px;overflow: hidden;padding: 0;position: absolute;width: 1px;}#sk-container-id-2 div.sk-estimator {font-family: monospace;background-color: #f0f8ff;border: 1px dotted black;border-radius: 0.25em;box-sizing: border-box;margin-bottom: 0.5em;}#sk-container-id-2 div.sk-estimator:hover {background-color: #d4ebff;}#sk-container-id-2 div.sk-parallel-item::after {content: \"\";width: 100%;border-bottom: 1px solid gray;flex-grow: 1;}#sk-container-id-2 div.sk-label:hover label.sk-toggleable__label {background-color: #d4ebff;}#sk-container-id-2 div.sk-serial::before {content: \"\";position: absolute;border-left: 1px solid gray;box-sizing: border-box;top: 0;bottom: 0;left: 50%;z-index: 0;}#sk-container-id-2 div.sk-serial {display: flex;flex-direction: column;align-items: center;background-color: white;padding-right: 0.2em;padding-left: 0.2em;position: relative;}#sk-container-id-2 div.sk-item {position: relative;z-index: 1;}#sk-container-id-2 div.sk-parallel {display: flex;align-items: stretch;justify-content: center;background-color: white;position: relative;}#sk-container-id-2 div.sk-item::before, #sk-container-id-2 div.sk-parallel-item::before {content: \"\";position: absolute;border-left: 1px solid gray;box-sizing: border-box;top: 0;bottom: 0;left: 50%;z-index: -1;}#sk-container-id-2 div.sk-parallel-item {display: flex;flex-direction: column;z-index: 1;position: relative;background-color: white;}#sk-container-id-2 div.sk-parallel-item:first-child::after {align-self: flex-end;width: 50%;}#sk-container-id-2 div.sk-parallel-item:last-child::after {align-self: flex-start;width: 50%;}#sk-container-id-2 div.sk-parallel-item:only-child::after {width: 0;}#sk-container-id-2 div.sk-dashed-wrapped {border: 1px dashed gray;margin: 0 0.4em 0.5em 0.4em;box-sizing: border-box;padding-bottom: 0.4em;background-color: white;}#sk-container-id-2 div.sk-label label {font-family: monospace;font-weight: bold;display: inline-block;line-height: 1.2em;}#sk-container-id-2 div.sk-label-container {text-align: center;}#sk-container-id-2 div.sk-container {/* jupyter's `normalize.less` sets `[hidden] { display: none; }` but bootstrap.min.css set `[hidden] { display: none !important; }` so we also need the `!important` here to be able to override the default hidden behavior on the sphinx rendered scikit-learn.org. See: https://github.com/scikit-learn/scikit-learn/issues/21755 */display: inline-block !important;position: relative;}#sk-container-id-2 div.sk-text-repr-fallback {display: none;}</style><div id=\"sk-container-id-2\" class=\"sk-top-container\"><div class=\"sk-text-repr-fallback\"><pre>LogisticRegression()</pre><b>In a Jupyter environment, please rerun this cell to show the HTML representation or trust the notebook. <br />On GitHub, the HTML representation is unable to render, please try loading this page with nbviewer.org.</b></div><div class=\"sk-container\" hidden><div class=\"sk-item\"><div class=\"sk-estimator sk-toggleable\"><input class=\"sk-toggleable__control sk-hidden--visually\" id=\"sk-estimator-id-9\" type=\"checkbox\" checked><label for=\"sk-estimator-id-9\" class=\"sk-toggleable__label sk-toggleable__label-arrow\">LogisticRegression</label><div class=\"sk-toggleable__content\"><pre>LogisticRegression()</pre></div></div></div></div></div>"
            ]
          },
          "metadata": {},
          "execution_count": 72
        }
      ]
    },
    {
      "cell_type": "code",
      "source": [
        "train_acc = model.score(X_train_scaled, Y_train)\n",
        "print(\"The Accuracy for Training Set is {}\".format(train_acc*100))"
      ],
      "metadata": {
        "colab": {
          "base_uri": "https://localhost:8080/"
        },
        "id": "SHZBUsSrf3M-",
        "outputId": "0994fd31-e08e-49c4-f782-1bc394278ef6"
      },
      "execution_count": null,
      "outputs": [
        {
          "output_type": "stream",
          "name": "stdout",
          "text": [
            "The Accuracy for Training Set is 22.451456310679614\n"
          ]
        }
      ]
    },
    {
      "cell_type": "code",
      "source": [
        "Y_pred=model.predict(X_test)"
      ],
      "metadata": {
        "colab": {
          "base_uri": "https://localhost:8080/"
        },
        "id": "5nu1AcV4lo34",
        "outputId": "69243a99-6055-4178-ead8-95b8da4559d4"
      },
      "execution_count": null,
      "outputs": [
        {
          "output_type": "stream",
          "name": "stderr",
          "text": [
            "/usr/local/lib/python3.9/dist-packages/sklearn/base.py:432: UserWarning: X has feature names, but LogisticRegression was fitted without feature names\n",
            "  warnings.warn(\n"
          ]
        }
      ]
    },
    {
      "cell_type": "code",
      "source": [
        "from sklearn.metrics import accuracy_score, classification_report, confusion_matrix"
      ],
      "metadata": {
        "id": "T7yNariMnLNw"
      },
      "execution_count": null,
      "outputs": []
    },
    {
      "cell_type": "code",
      "source": [
        "test_acc = accuracy_score(Y_test,Y_pred)\n",
        "print(\"The Accuracy for Test Set is {}\".format(test_acc*100))"
      ],
      "metadata": {
        "colab": {
          "base_uri": "https://localhost:8080/"
        },
        "id": "ypTL_ndHhQaS",
        "outputId": "4083c7ea-8273-45f1-8d8b-63da7c83370f"
      },
      "execution_count": null,
      "outputs": [
        {
          "output_type": "stream",
          "name": "stdout",
          "text": [
            "The Accuracy for Test Set is 1.6011644832605532\n"
          ]
        }
      ]
    },
    {
      "cell_type": "code",
      "source": [
        "import seaborn as sns"
      ],
      "metadata": {
        "id": "w_HrW5xOoZeW"
      },
      "execution_count": null,
      "outputs": []
    },
    {
      "cell_type": "code",
      "source": [
        "cm=confusion_matrix(Y_test,Y_pred)\n",
        "plt.figure(figsize=(12,6))\n",
        "plt.title(\"Confusion Matrix\")\n",
        "sns.heatmap(cm, annot=True,fmt='d', cmap='Blues')\n",
        "plt.ylabel(\"Actual Values\")\n",
        "plt.xlabel(\"Predicted Values\")\n",
        "plt.savefig('confusion_matrix.png')"
      ],
      "metadata": {
        "colab": {
          "base_uri": "https://localhost:8080/",
          "height": 577
        },
        "id": "Qihekzl5oSjo",
        "outputId": "77a89470-f645-4267-e233-af1df71e4fc7"
      },
      "execution_count": null,
      "outputs": [
        {
          "output_type": "display_data",
          "data": {
            "text/plain": [
              "<Figure size 1200x600 with 2 Axes>"
            ],
            "image/png": "[encoded data removed]"
          },
          "metadata": {}
        }
      ]
    },
    {
      "cell_type": "markdown",
      "source": [
        "Decision Tree"
      ],
      "metadata": {
        "id": "7YASxpVC2I5h"
      }
    },
    {
      "cell_type": "code",
      "source": [
        "from sklearn import tree\n",
        "from sklearn.tree import DecisionTreeClassifier\n",
        "from sklearn import metrics"
      ],
      "metadata": {
        "id": "8oohIeHQpBCN"
      },
      "execution_count": null,
      "outputs": []
    },
    {
      "cell_type": "code",
      "source": [
        "X = data.drop('location', axis=1) # features\n",
        "y = data['location'] # target variable\n"
      ],
      "metadata": {
        "id": "3AjSaHeitHMh"
      },
      "execution_count": null,
      "outputs": []
    },
    {
      "cell_type": "code",
      "source": [
        "X_train, X_test, y_train, y_test = train_test_split(X, y, test_size=0.3, random_state=1)\n"
      ],
      "metadata": {
        "id": "vcgKOVqBd1g_"
      },
      "execution_count": null,
      "outputs": []
    },
    {
      "cell_type": "code",
      "source": [
        "\n",
        "clf = DecisionTreeClassifier()\n"
      ],
      "metadata": {
        "id": "Cos72UG-d6fL"
      },
      "execution_count": null,
      "outputs": []
    },
    {
      "cell_type": "code",
      "source": [
        "\n",
        "clf.fit(X_train,y_train)"
      ],
      "metadata": {
        "colab": {
          "base_uri": "https://localhost:8080/",
          "height": 74
        },
        "id": "fwZvcUyrd-aI",
        "outputId": "26ddca06-1437-407b-a78b-c17224f69c09"
      },
      "execution_count": null,
      "outputs": [
        {
          "output_type": "execute_result",
          "data": {
            "text/plain": [
              "DecisionTreeClassifier()"
            ],
            "text/html": [
              "<style>#sk-container-id-3 {color: black;background-color: white;}#sk-container-id-3 pre{padding: 0;}#sk-container-id-3 div.sk-toggleable {background-color: white;}#sk-container-id-3 label.sk-toggleable__label {cursor: pointer;display: block;width: 100%;margin-bottom: 0;padding: 0.3em;box-sizing: border-box;text-align: center;}#sk-container-id-3 label.sk-toggleable__label-arrow:before {content: \"▸\";float: left;margin-right: 0.25em;color: #696969;}#sk-container-id-3 label.sk-toggleable__label-arrow:hover:before {color: black;}#sk-container-id-3 div.sk-estimator:hover label.sk-toggleable__label-arrow:before {color: black;}#sk-container-id-3 div.sk-toggleable__content {max-height: 0;max-width: 0;overflow: hidden;text-align: left;background-color: #f0f8ff;}#sk-container-id-3 div.sk-toggleable__content pre {margin: 0.2em;color: black;border-radius: 0.25em;background-color: #f0f8ff;}#sk-container-id-3 input.sk-toggleable__control:checked~div.sk-toggleable__content {max-height: 200px;max-width: 100%;overflow: auto;}#sk-container-id-3 input.sk-toggleable__control:checked~label.sk-toggleable__label-arrow:before {content: \"▾\";}#sk-container-id-3 div.sk-estimator input.sk-toggleable__control:checked~label.sk-toggleable__label {background-color: #d4ebff;}#sk-container-id-3 div.sk-label input.sk-toggleable__control:checked~label.sk-toggleable__label {background-color: #d4ebff;}#sk-container-id-3 input.sk-hidden--visually {border: 0;clip: rect(1px 1px 1px 1px);clip: rect(1px, 1px, 1px, 1px);height: 1px;margin: -1px;overflow: hidden;padding: 0;position: absolute;width: 1px;}#sk-container-id-3 div.sk-estimator {font-family: monospace;background-color: #f0f8ff;border: 1px dotted black;border-radius: 0.25em;box-sizing: border-box;margin-bottom: 0.5em;}#sk-container-id-3 div.sk-estimator:hover {background-color: #d4ebff;}#sk-container-id-3 div.sk-parallel-item::after {content: \"\";width: 100%;border-bottom: 1px solid gray;flex-grow: 1;}#sk-container-id-3 div.sk-label:hover label.sk-toggleable__label {background-color: #d4ebff;}#sk-container-id-3 div.sk-serial::before {content: \"\";position: absolute;border-left: 1px solid gray;box-sizing: border-box;top: 0;bottom: 0;left: 50%;z-index: 0;}#sk-container-id-3 div.sk-serial {display: flex;flex-direction: column;align-items: center;background-color: white;padding-right: 0.2em;padding-left: 0.2em;position: relative;}#sk-container-id-3 div.sk-item {position: relative;z-index: 1;}#sk-container-id-3 div.sk-parallel {display: flex;align-items: stretch;justify-content: center;background-color: white;position: relative;}#sk-container-id-3 div.sk-item::before, #sk-container-id-3 div.sk-parallel-item::before {content: \"\";position: absolute;border-left: 1px solid gray;box-sizing: border-box;top: 0;bottom: 0;left: 50%;z-index: -1;}#sk-container-id-3 div.sk-parallel-item {display: flex;flex-direction: column;z-index: 1;position: relative;background-color: white;}#sk-container-id-3 div.sk-parallel-item:first-child::after {align-self: flex-end;width: 50%;}#sk-container-id-3 div.sk-parallel-item:last-child::after {align-self: flex-start;width: 50%;}#sk-container-id-3 div.sk-parallel-item:only-child::after {width: 0;}#sk-container-id-3 div.sk-dashed-wrapped {border: 1px dashed gray;margin: 0 0.4em 0.5em 0.4em;box-sizing: border-box;padding-bottom: 0.4em;background-color: white;}#sk-container-id-3 div.sk-label label {font-family: monospace;font-weight: bold;display: inline-block;line-height: 1.2em;}#sk-container-id-3 div.sk-label-container {text-align: center;}#sk-container-id-3 div.sk-container {/* jupyter's `normalize.less` sets `[hidden] { display: none; }` but bootstrap.min.css set `[hidden] { display: none !important; }` so we also need the `!important` here to be able to override the default hidden behavior on the sphinx rendered scikit-learn.org. See: https://github.com/scikit-learn/scikit-learn/issues/21755 */display: inline-block !important;position: relative;}#sk-container-id-3 div.sk-text-repr-fallback {display: none;}</style><div id=\"sk-container-id-3\" class=\"sk-top-container\"><div class=\"sk-text-repr-fallback\"><pre>DecisionTreeClassifier()</pre><b>In a Jupyter environment, please rerun this cell to show the HTML representation or trust the notebook. <br />On GitHub, the HTML representation is unable to render, please try loading this page with nbviewer.org.</b></div><div class=\"sk-container\" hidden><div class=\"sk-item\"><div class=\"sk-estimator sk-toggleable\"><input class=\"sk-toggleable__control sk-hidden--visually\" id=\"sk-estimator-id-10\" type=\"checkbox\" checked><label for=\"sk-estimator-id-10\" class=\"sk-toggleable__label sk-toggleable__label-arrow\">DecisionTreeClassifier</label><div class=\"sk-toggleable__content\"><pre>DecisionTreeClassifier()</pre></div></div></div></div></div>"
            ]
          },
          "metadata": {},
          "execution_count": 62
        }
      ]
    },
    {
      "cell_type": "code",
      "source": [
        "\n",
        "y_pred = clf.predict(X_test)\n",
        "\n",
        "print(\"Accuracy:\",metrics.accuracy_score(y_test, y_pred))"
      ],
      "metadata": {
        "colab": {
          "base_uri": "https://localhost:8080/"
        },
        "id": "qbH5Z9d5d-gK",
        "outputId": "f01d4c2a-87b8-42cb-b95d-8a33f2e8184d"
      },
      "execution_count": null,
      "outputs": [
        {
          "output_type": "stream",
          "name": "stdout",
          "text": [
            "Accuracy: 0.23811064380459399\n"
          ]
        }
      ]
    },
    {
      "cell_type": "markdown",
      "source": [
        "KNN"
      ],
      "metadata": {
        "id": "CV-SXrzve9Bd"
      }
    },
    {
      "cell_type": "code",
      "source": [
        "from sklearn.neighbors import KNeighborsClassifier\n"
      ],
      "metadata": {
        "id": "iOsurXzjfJnY"
      },
      "execution_count": null,
      "outputs": []
    },
    {
      "cell_type": "code",
      "source": [
        "X = data.drop('location', axis=1) # features\n",
        "y = data['location'] # target variable\n",
        "\n",
        "\n",
        "X_train, X_test, y_train, y_test = train_test_split(X, y, test_size=0.3, random_state=1)\n",
        "\n",
        "\n",
        "k = 3\n",
        "clf = KNeighborsClassifier(n_neighbors=k)\n",
        "\n",
        "clf.fit(X_train, y_train)\n",
        "\n",
        "\n",
        "y_pred = clf.predict(X_test)\n",
        "\n",
        "\n",
        "print(\"Accuracy:\", metrics.accuracy_score(y_test, y_pred))\n"
      ],
      "metadata": {
        "colab": {
          "base_uri": "https://localhost:8080/"
        },
        "id": "W_sXZJQ3e8c3",
        "outputId": "10255e13-d27e-4bc6-9724-72fa6ec7fc08"
      },
      "execution_count": null,
      "outputs": [
        {
          "output_type": "stream",
          "name": "stdout",
          "text": [
            "Accuracy: 0.208993853121967\n"
          ]
        }
      ]
    },
    {
      "cell_type": "markdown",
      "source": [
        "SVM"
      ],
      "metadata": {
        "id": "KqYwAjq4fywf"
      }
    },
    {
      "cell_type": "code",
      "source": [
        "from sklearn.svm import SVC"
      ],
      "metadata": {
        "id": "zLvv0XYigKKN"
      },
      "execution_count": null,
      "outputs": []
    },
    {
      "cell_type": "code",
      "source": [
        "X = data.drop('location', axis=1) # features\n",
        "y = data['location'] \n",
        "\n",
        "X_train, X_test, y_train, y_test = train_test_split(X, y, test_size=0.3, random_state=1)\n",
        "\n",
        "clf = SVC(kernel='linear')\n",
        "\n",
        "clf.fit(X_train, y_train)\n",
        "\n",
        "y_pred = clf.predict(X_test)\n",
        "\n",
        "\n",
        "print(\"Accuracy:\", metrics.accuracy_score(y_test, y_pred))"
      ],
      "metadata": {
        "id": "nsBiDxOuhhoE"
      },
      "execution_count": null,
      "outputs": []
    }
  ],
  "metadata": {
    "colab": {
      "provenance": []
    },
    "kernelspec": {
      "display_name": "Python 3",
      "name": "python3"
    },
    "language_info": {
      "name": "python"
    }
  },
  "nbformat": 4,
  "nbformat_minor": 0
}